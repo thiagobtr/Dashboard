{
 "cells": [
  {
   "cell_type": "code",
   "execution_count": 42,
   "metadata": {},
   "outputs": [],
   "source": [
    "#MongoDB\n",
    "from pymongo import MongoClient \n",
    "#Pandas\n",
    "import pandas as pd\n",
    "import numpy as np"
   ]
  },
  {
   "cell_type": "code",
   "execution_count": 43,
   "metadata": {},
   "outputs": [],
   "source": [
    "#conexao ao banco\n",
    "conn = MongoClient('localhost',27017)\n",
    "db = conn.Ligas_futebol"
   ]
  },
  {
   "cell_type": "code",
   "execution_count": 44,
   "metadata": {},
   "outputs": [
    {
     "data": {
      "text/plain": [
       "['Publico', 'Rodadas', 'score', 'Rank']"
      ]
     },
     "execution_count": 44,
     "metadata": {},
     "output_type": "execute_result"
    }
   ],
   "source": [
    "#listando as coleçoes disponiveis\n",
    "db.list_collection_names()"
   ]
  },
  {
   "cell_type": "code",
   "execution_count": 45,
   "metadata": {},
   "outputs": [],
   "source": [
    "#seleciona collection\n",
    "db_rodada = db['Rodadas']"
   ]
  },
  {
   "cell_type": "code",
   "execution_count": 46,
   "metadata": {},
   "outputs": [],
   "source": [
    "#Cria o Dataframe\n",
    "df_rodada = pd.DataFrame (list(db_rodada.find({})))"
   ]
  },
  {
   "cell_type": "code",
   "execution_count": 47,
   "metadata": {},
   "outputs": [],
   "source": [
    "#Exclui campos e valores NAs\n",
    "df_rodada.drop('_id',inplace=True,axis=1)\n",
    "df_rodada.dropna(inplace=True)"
   ]
  },
  {
   "cell_type": "code",
   "execution_count": 48,
   "metadata": {},
   "outputs": [
    {
     "data": {
      "text/plain": [
       "Away         False\n",
       "Data         False\n",
       "Home         False\n",
       "Hora         False\n",
       "Liga         False\n",
       "Placar       False\n",
       "Rodada       False\n",
       "Temporada    False\n",
       "campo1       False\n",
       "campo2       False\n",
       "campo3       False\n",
       "dtype: bool"
      ]
     },
     "execution_count": 48,
     "metadata": {},
     "output_type": "execute_result"
    }
   ],
   "source": [
    "df_rodada.count().isnull()"
   ]
  },
  {
   "cell_type": "code",
   "execution_count": 49,
   "metadata": {},
   "outputs": [
    {
     "name": "stdout",
     "output_type": "stream",
     "text": [
      "<class 'pandas.core.frame.DataFrame'>\n",
      "Int64Index: 4338 entries, 0 to 4337\n",
      "Data columns (total 11 columns):\n",
      "Away         4338 non-null object\n",
      "Data         4338 non-null object\n",
      "Home         4338 non-null object\n",
      "Hora         4338 non-null object\n",
      "Liga         4338 non-null object\n",
      "Placar       4338 non-null object\n",
      "Rodada       4338 non-null int64\n",
      "Temporada    4338 non-null object\n",
      "campo1       4338 non-null object\n",
      "campo2       4338 non-null object\n",
      "campo3       4338 non-null object\n",
      "dtypes: int64(1), object(10)\n",
      "memory usage: 406.7+ KB\n"
     ]
    }
   ],
   "source": [
    "df_rodada.info()"
   ]
  },
  {
   "cell_type": "code",
   "execution_count": 50,
   "metadata": {},
   "outputs": [
    {
     "data": {
      "text/html": [
       "<div>\n",
       "<style>\n",
       "    .dataframe thead tr:only-child th {\n",
       "        text-align: right;\n",
       "    }\n",
       "\n",
       "    .dataframe thead th {\n",
       "        text-align: left;\n",
       "    }\n",
       "\n",
       "    .dataframe tbody tr th {\n",
       "        vertical-align: top;\n",
       "    }\n",
       "</style>\n",
       "<table border=\"1\" class=\"dataframe\">\n",
       "  <thead>\n",
       "    <tr style=\"text-align: right;\">\n",
       "      <th></th>\n",
       "      <th></th>\n",
       "      <th>Away</th>\n",
       "      <th>Data</th>\n",
       "      <th>Home</th>\n",
       "      <th>Hora</th>\n",
       "      <th>Placar</th>\n",
       "      <th>Rodada</th>\n",
       "      <th>campo1</th>\n",
       "      <th>campo2</th>\n",
       "      <th>campo3</th>\n",
       "    </tr>\n",
       "    <tr>\n",
       "      <th>Temporada</th>\n",
       "      <th>Liga</th>\n",
       "      <th></th>\n",
       "      <th></th>\n",
       "      <th></th>\n",
       "      <th></th>\n",
       "      <th></th>\n",
       "      <th></th>\n",
       "      <th></th>\n",
       "      <th></th>\n",
       "      <th></th>\n",
       "    </tr>\n",
       "  </thead>\n",
       "  <tbody>\n",
       "    <tr>\n",
       "      <th rowspan=\"4\" valign=\"top\">2015-2016</th>\n",
       "      <th>Bundesliga</th>\n",
       "      <td>306</td>\n",
       "      <td>306</td>\n",
       "      <td>306</td>\n",
       "      <td>306</td>\n",
       "      <td>306</td>\n",
       "      <td>306</td>\n",
       "      <td>306</td>\n",
       "      <td>306</td>\n",
       "      <td>306</td>\n",
       "    </tr>\n",
       "    <tr>\n",
       "      <th>Laliga</th>\n",
       "      <td>380</td>\n",
       "      <td>380</td>\n",
       "      <td>380</td>\n",
       "      <td>380</td>\n",
       "      <td>380</td>\n",
       "      <td>380</td>\n",
       "      <td>380</td>\n",
       "      <td>380</td>\n",
       "      <td>380</td>\n",
       "    </tr>\n",
       "    <tr>\n",
       "      <th>Premier_league</th>\n",
       "      <td>380</td>\n",
       "      <td>380</td>\n",
       "      <td>380</td>\n",
       "      <td>380</td>\n",
       "      <td>380</td>\n",
       "      <td>380</td>\n",
       "      <td>380</td>\n",
       "      <td>380</td>\n",
       "      <td>380</td>\n",
       "    </tr>\n",
       "    <tr>\n",
       "      <th>SerieA</th>\n",
       "      <td>380</td>\n",
       "      <td>380</td>\n",
       "      <td>380</td>\n",
       "      <td>380</td>\n",
       "      <td>380</td>\n",
       "      <td>380</td>\n",
       "      <td>380</td>\n",
       "      <td>380</td>\n",
       "      <td>380</td>\n",
       "    </tr>\n",
       "    <tr>\n",
       "      <th rowspan=\"4\" valign=\"top\">2016-2017</th>\n",
       "      <th>Bundesliga</th>\n",
       "      <td>306</td>\n",
       "      <td>306</td>\n",
       "      <td>306</td>\n",
       "      <td>306</td>\n",
       "      <td>306</td>\n",
       "      <td>306</td>\n",
       "      <td>306</td>\n",
       "      <td>306</td>\n",
       "      <td>306</td>\n",
       "    </tr>\n",
       "    <tr>\n",
       "      <th>Laliga</th>\n",
       "      <td>380</td>\n",
       "      <td>380</td>\n",
       "      <td>380</td>\n",
       "      <td>380</td>\n",
       "      <td>380</td>\n",
       "      <td>380</td>\n",
       "      <td>380</td>\n",
       "      <td>380</td>\n",
       "      <td>380</td>\n",
       "    </tr>\n",
       "    <tr>\n",
       "      <th>Premier_league</th>\n",
       "      <td>380</td>\n",
       "      <td>380</td>\n",
       "      <td>380</td>\n",
       "      <td>380</td>\n",
       "      <td>380</td>\n",
       "      <td>380</td>\n",
       "      <td>380</td>\n",
       "      <td>380</td>\n",
       "      <td>380</td>\n",
       "    </tr>\n",
       "    <tr>\n",
       "      <th>SerieA</th>\n",
       "      <td>380</td>\n",
       "      <td>380</td>\n",
       "      <td>380</td>\n",
       "      <td>380</td>\n",
       "      <td>380</td>\n",
       "      <td>380</td>\n",
       "      <td>380</td>\n",
       "      <td>380</td>\n",
       "      <td>380</td>\n",
       "    </tr>\n",
       "    <tr>\n",
       "      <th rowspan=\"4\" valign=\"top\">2017-2018</th>\n",
       "      <th>Bundesliga</th>\n",
       "      <td>306</td>\n",
       "      <td>306</td>\n",
       "      <td>306</td>\n",
       "      <td>306</td>\n",
       "      <td>306</td>\n",
       "      <td>306</td>\n",
       "      <td>306</td>\n",
       "      <td>306</td>\n",
       "      <td>306</td>\n",
       "    </tr>\n",
       "    <tr>\n",
       "      <th>Laliga</th>\n",
       "      <td>380</td>\n",
       "      <td>380</td>\n",
       "      <td>380</td>\n",
       "      <td>380</td>\n",
       "      <td>380</td>\n",
       "      <td>380</td>\n",
       "      <td>380</td>\n",
       "      <td>380</td>\n",
       "      <td>380</td>\n",
       "    </tr>\n",
       "    <tr>\n",
       "      <th>Premier_league</th>\n",
       "      <td>380</td>\n",
       "      <td>380</td>\n",
       "      <td>380</td>\n",
       "      <td>380</td>\n",
       "      <td>380</td>\n",
       "      <td>380</td>\n",
       "      <td>380</td>\n",
       "      <td>380</td>\n",
       "      <td>380</td>\n",
       "    </tr>\n",
       "    <tr>\n",
       "      <th>SerieA</th>\n",
       "      <td>380</td>\n",
       "      <td>380</td>\n",
       "      <td>380</td>\n",
       "      <td>380</td>\n",
       "      <td>380</td>\n",
       "      <td>380</td>\n",
       "      <td>380</td>\n",
       "      <td>380</td>\n",
       "      <td>380</td>\n",
       "    </tr>\n",
       "  </tbody>\n",
       "</table>\n",
       "</div>"
      ],
      "text/plain": [
       "                          Away  Data  Home  Hora  Placar  Rodada  campo1  \\\n",
       "Temporada Liga                                                             \n",
       "2015-2016 Bundesliga       306   306   306   306     306     306     306   \n",
       "          Laliga           380   380   380   380     380     380     380   \n",
       "          Premier_league   380   380   380   380     380     380     380   \n",
       "          SerieA           380   380   380   380     380     380     380   \n",
       "2016-2017 Bundesliga       306   306   306   306     306     306     306   \n",
       "          Laliga           380   380   380   380     380     380     380   \n",
       "          Premier_league   380   380   380   380     380     380     380   \n",
       "          SerieA           380   380   380   380     380     380     380   \n",
       "2017-2018 Bundesliga       306   306   306   306     306     306     306   \n",
       "          Laliga           380   380   380   380     380     380     380   \n",
       "          Premier_league   380   380   380   380     380     380     380   \n",
       "          SerieA           380   380   380   380     380     380     380   \n",
       "\n",
       "                          campo2  campo3  \n",
       "Temporada Liga                            \n",
       "2015-2016 Bundesliga         306     306  \n",
       "          Laliga             380     380  \n",
       "          Premier_league     380     380  \n",
       "          SerieA             380     380  \n",
       "2016-2017 Bundesliga         306     306  \n",
       "          Laliga             380     380  \n",
       "          Premier_league     380     380  \n",
       "          SerieA             380     380  \n",
       "2017-2018 Bundesliga         306     306  \n",
       "          Laliga             380     380  \n",
       "          Premier_league     380     380  \n",
       "          SerieA             380     380  "
      ]
     },
     "execution_count": 50,
     "metadata": {},
     "output_type": "execute_result"
    }
   ],
   "source": [
    "#Verificando a quantidade de jogos por temporada e Liga\n",
    "df_rodada.groupby(['Temporada','Liga']).count()\n"
   ]
  },
  {
   "cell_type": "code",
   "execution_count": 51,
   "metadata": {},
   "outputs": [
    {
     "data": {
      "text/html": [
       "<div>\n",
       "<style>\n",
       "    .dataframe thead tr:only-child th {\n",
       "        text-align: right;\n",
       "    }\n",
       "\n",
       "    .dataframe thead th {\n",
       "        text-align: left;\n",
       "    }\n",
       "\n",
       "    .dataframe tbody tr th {\n",
       "        vertical-align: top;\n",
       "    }\n",
       "</style>\n",
       "<table border=\"1\" class=\"dataframe\">\n",
       "  <thead>\n",
       "    <tr style=\"text-align: right;\">\n",
       "      <th></th>\n",
       "      <th>Mandante</th>\n",
       "      <th>Visitante</th>\n",
       "      <th>Placar</th>\n",
       "      <th>Liga</th>\n",
       "      <th>Rodada</th>\n",
       "      <th>Temporada</th>\n",
       "    </tr>\n",
       "  </thead>\n",
       "  <tbody>\n",
       "    <tr>\n",
       "      <th>0</th>\n",
       "      <td>Hull City</td>\n",
       "      <td>Leicester City</td>\n",
       "      <td>2:1</td>\n",
       "      <td>Premier_league</td>\n",
       "      <td>1</td>\n",
       "      <td>2016-2017</td>\n",
       "    </tr>\n",
       "    <tr>\n",
       "      <th>1</th>\n",
       "      <td>Burnley FC</td>\n",
       "      <td>Swansea City</td>\n",
       "      <td>0:1</td>\n",
       "      <td>Premier_league</td>\n",
       "      <td>1</td>\n",
       "      <td>2016-2017</td>\n",
       "    </tr>\n",
       "    <tr>\n",
       "      <th>2</th>\n",
       "      <td>Crystal Palace</td>\n",
       "      <td>West Bromwich Albion</td>\n",
       "      <td>0:1</td>\n",
       "      <td>Premier_league</td>\n",
       "      <td>1</td>\n",
       "      <td>2016-2017</td>\n",
       "    </tr>\n",
       "    <tr>\n",
       "      <th>3</th>\n",
       "      <td>Everton FC</td>\n",
       "      <td>Tottenham Hotspur</td>\n",
       "      <td>1:1</td>\n",
       "      <td>Premier_league</td>\n",
       "      <td>1</td>\n",
       "      <td>2016-2017</td>\n",
       "    </tr>\n",
       "    <tr>\n",
       "      <th>4</th>\n",
       "      <td>Middlesbrough FC</td>\n",
       "      <td>Stoke City</td>\n",
       "      <td>1:1</td>\n",
       "      <td>Premier_league</td>\n",
       "      <td>1</td>\n",
       "      <td>2016-2017</td>\n",
       "    </tr>\n",
       "  </tbody>\n",
       "</table>\n",
       "</div>"
      ],
      "text/plain": [
       "           Mandante             Visitante Placar            Liga  Rodada  \\\n",
       "0         Hull City        Leicester City   2:1   Premier_league       1   \n",
       "1        Burnley FC          Swansea City   0:1   Premier_league       1   \n",
       "2    Crystal Palace  West Bromwich Albion   0:1   Premier_league       1   \n",
       "3        Everton FC     Tottenham Hotspur   1:1   Premier_league       1   \n",
       "4  Middlesbrough FC            Stoke City   1:1   Premier_league       1   \n",
       "\n",
       "   Temporada  \n",
       "0  2016-2017  \n",
       "1  2016-2017  \n",
       "2  2016-2017  \n",
       "3  2016-2017  \n",
       "4  2016-2017  "
      ]
     },
     "execution_count": 51,
     "metadata": {},
     "output_type": "execute_result"
    }
   ],
   "source": [
    "#Ordenando e retirando variaveis desnecessarias\n",
    "df_rodada = df_rodada[['Home','Away','Placar','Liga','Rodada','Temporada']]\n",
    "df_rodada.rename(columns={'Home':'Mandante','Away':'Visitante'},inplace=True)\n",
    "df_rodada.head()"
   ]
  },
  {
   "cell_type": "code",
   "execution_count": 52,
   "metadata": {},
   "outputs": [],
   "source": [
    "#corrigindo o valor da variavel\n",
    "df_rodada.loc[2075,'Placar'] = '0:3'\n",
    "#Separando a variavel 'Placar' em uma lista\n",
    "df_rodada['gols'] = df_rodada['Placar'].str.split(':')\n"
   ]
  },
  {
   "cell_type": "code",
   "execution_count": 53,
   "metadata": {},
   "outputs": [],
   "source": [
    "#Criando 4 variaveis \n",
    "df_rodada['Gols_mand']= pd.to_numeric(df_rodada['gols'].str[0])\n",
    "df_rodada['Gols_visit']= pd.to_numeric(df_rodada['gols'].str[1])\n",
    "df_rodada['Diff_gols'] = np.abs(df_rodada['Gols_mand']- df_rodada['Gols_visit'])\n",
    "df_rodada['Num_gols'] = df_rodada['Gols_mand'] + df_rodada['Gols_visit']\n"
   ]
  },
  {
   "cell_type": "code",
   "execution_count": 54,
   "metadata": {},
   "outputs": [],
   "source": [
    "#Cria variavel 'Ano_Inicio'\n",
    "df_rodada['Ano_inicio'] = [ano[0] for ano in df_rodada['Temporada'].str.split('-')]\n",
    "df_rodada['Ano_inicio'] = pd.to_numeric(df_rodada['Ano_inicio'])"
   ]
  },
  {
   "cell_type": "code",
   "execution_count": 55,
   "metadata": {},
   "outputs": [],
   "source": [
    "#salva arquivo\n",
    "df_rodada.to_csv('/media/sf_FormacaoCientistaDeDados/Portfolio/Dashboard/Data/jogos_final.csv')"
   ]
  },
  {
   "cell_type": "markdown",
   "metadata": {},
   "source": [
    "## 1- Criar campo 'Temporada'\n",
    "## 2- Criar Campo 'Liga'\n",
    "## 3- Criar Coleção 'Publico'\n",
    "## 4- Unificar as ligas em um unico banco e 4 coleçoes  "
   ]
  },
  {
   "cell_type": "code",
   "execution_count": null,
   "metadata": {},
   "outputs": [],
   "source": []
  }
 ],
 "metadata": {
  "kernelspec": {
   "display_name": "Python 3",
   "language": "python",
   "name": "python3"
  },
  "language_info": {
   "codemirror_mode": {
    "name": "ipython",
    "version": 3
   },
   "file_extension": ".py",
   "mimetype": "text/x-python",
   "name": "python",
   "nbconvert_exporter": "python",
   "pygments_lexer": "ipython3",
   "version": "3.6.3"
  }
 },
 "nbformat": 4,
 "nbformat_minor": 2
}
