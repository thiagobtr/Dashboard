{
 "cells": [
  {
   "cell_type": "code",
   "execution_count": 1,
   "metadata": {},
   "outputs": [],
   "source": [
    "#Biblioteca usada para requisitar uma pagina web\n",
    "import urllib.request"
   ]
  },
  {
   "cell_type": "code",
   "execution_count": 2,
   "metadata": {},
   "outputs": [],
   "source": [
    "# Definimos a url\n",
    "# Verifique as permissões em https://www.python.org/robots.txt\n",
    "with urllib.request.urlopen(\"https://int.soccerway.com/national/england/premier-league/20182019/regular-season/r48730/\") as url:\n",
    "    page = url.read()"
   ]
  },
  {
   "cell_type": "code",
   "execution_count": 4,
   "metadata": {},
   "outputs": [],
   "source": [
    "from bs4 import BeautifulSoup"
   ]
  },
  {
   "cell_type": "code",
   "execution_count": 5,
   "metadata": {},
   "outputs": [],
   "source": [
    "# Analise o html na variável 'page' e armazene-o no formato Beautiful Soup\n",
    "soup = BeautifulSoup(page, \"html.parser\")"
   ]
  },
  {
   "cell_type": "code",
   "execution_count": 6,
   "metadata": {},
   "outputs": [
    {
     "data": {
      "text/plain": [
       "<title>Summary - Premier League - England - Results, fixtures, tables and news - Soccerway</title>"
      ]
     },
     "execution_count": 6,
     "metadata": {},
     "output_type": "execute_result"
    }
   ],
   "source": [
    "soup.title"
   ]
  },
  {
   "cell_type": "code",
   "execution_count": 8,
   "metadata": {},
   "outputs": [
    {
     "data": {
      "text/plain": [
       "'Summary - Premier League - England - Results, fixtures, tables and news - Soccerway'"
      ]
     },
     "execution_count": 8,
     "metadata": {},
     "output_type": "execute_result"
    }
   ],
   "source": [
    "soup.title.string"
   ]
  },
  {
   "cell_type": "code",
   "execution_count": 9,
   "metadata": {},
   "outputs": [],
   "source": [
    "table_ = soup.find('table')"
   ]
  },
  {
   "cell_type": "code",
   "execution_count": 10,
   "metadata": {},
   "outputs": [
    {
     "data": {
      "text/plain": [
       "<table class=\"matches \">\n",
       "<thead>\n",
       "<tr class=\"sub-head\">\n",
       "<th class=\"day\">Day</th>\n",
       "<th class=\"date\">Date</th>\n",
       "<th class=\"team team-a\">Home team</th>\n",
       "<th class=\"score-time\">Score/Time</th>\n",
       "<th class=\"team team-b\">Away team</th>\n",
       "<th class=\"events-button button\"> </th>\n",
       "</tr>\n",
       "</thead>\n",
       "<tbody>\n",
       "<tr class=\"even expanded match no-date-repetition\" data-competition=\"8\" data-timestamp=\"1535801400\" id=\"page_competition_1_block_competition_matches_summary_5_match-2795305\">\n",
       "<td class=\"day no-repetition\"><span class=\"timestamp\" data-format=\"ddd\" data-value=\"1535801400\">Sat</span></td>\n",
       "<td class=\"date no-repetition\"><span class=\"timestamp\" data-format=\"dd/mm/yy\" data-value=\"1535801400\">01/09/18</span></td>\n",
       "<td class=\"team team-a \">\n",
       "<a href=\"/teams/england/leicester-city-fc/682/\" title=\"Leicester City\">\n",
       "                    Leicester City\n",
       "                  </a>\n",
       "</td>\n",
       "<td class=\"score-time score\">\n",
       "<a href=\"/matches/2018/09/01/england/premier-league/leicester-city-fc/liverpool-fc/2795305/?ICID=PL_MS_01\">\n",
       "                \n",
       "                1 - 2\n",
       "                \n",
       "              </a>\n",
       "</td>\n",
       "<td class=\"team team-b \">\n",
       "<a href=\"/teams/england/liverpool-fc/663/\" title=\"Liverpool\">\n",
       "                  Liverpool\n",
       "                </a>\n",
       "</td>\n",
       "<td class=\"events-button button first-occur\">\n",
       "<a class=\"events-button-button \" href=\"/matches/2018/09/01/england/premier-league/leicester-city-fc/liverpool-fc/2795305/#events\" title=\"View events\">View events</a>\n",
       "</td>\n",
       "<td class=\"info-button button\">\n",
       "<a href=\"/matches/2018/09/01/england/premier-league/leicester-city-fc/liverpool-fc/2795305/\" title=\"More info\">More info</a>\n",
       "</td>\n",
       "</tr>\n",
       "<tr class=\"odd expanded match no-date-repetition\" data-competition=\"8\" data-timestamp=\"1535810400\" id=\"page_competition_1_block_competition_matches_summary_5_match-2795303\">\n",
       "<td class=\"day no-repetition\"><span class=\"timestamp\" data-format=\"ddd\" data-value=\"1535810400\">Sat</span></td>\n",
       "<td class=\"date no-repetition\"><span class=\"timestamp\" data-format=\"dd/mm/yy\" data-value=\"1535810400\">01/09/18</span></td>\n",
       "<td class=\"team team-a \">\n",
       "<a href=\"/teams/england/crystal-palace-fc/679/\" title=\"Crystal Palace\">\n",
       "                    Crystal Palace\n",
       "                  </a>\n",
       "</td>\n",
       "<td class=\"score-time score\">\n",
       "<a href=\"/matches/2018/09/01/england/premier-league/crystal-palace-fc/southampton-fc/2795303/?ICID=PL_MS_02\">\n",
       "                \n",
       "                0 - 2\n",
       "                \n",
       "              </a>\n",
       "</td>\n",
       "<td class=\"team team-b \">\n",
       "<a href=\"/teams/england/southampton-fc/670/\" title=\"Southampton\">\n",
       "                  Southampton\n",
       "                </a>\n",
       "</td>\n",
       "<td class=\"events-button button first-occur\">\n",
       "<a class=\"events-button-button \" href=\"/matches/2018/09/01/england/premier-league/crystal-palace-fc/southampton-fc/2795303/#events\" title=\"View events\">View events</a>\n",
       "</td>\n",
       "<td class=\"info-button button\">\n",
       "<a href=\"/matches/2018/09/01/england/premier-league/crystal-palace-fc/southampton-fc/2795303/\" title=\"More info\">More info</a>\n",
       "</td>\n",
       "</tr>\n",
       "<tr class=\"even expanded match no-date-repetition\" data-competition=\"8\" data-timestamp=\"1535810400\" id=\"page_competition_1_block_competition_matches_summary_5_match-2795299\">\n",
       "<td class=\"day no-repetition\"><span class=\"timestamp\" data-format=\"ddd\" data-value=\"1535810400\">Sat</span></td>\n",
       "<td class=\"date no-repetition\"><span class=\"timestamp\" data-format=\"dd/mm/yy\" data-value=\"1535810400\">01/09/18</span></td>\n",
       "<td class=\"team team-a \">\n",
       "<a href=\"/teams/england/brighton--hove-albion-fc/703/\" title=\"Brighton &amp; Hove Albion\">\n",
       "                    Brighton &amp; Hov…\n",
       "                  </a>\n",
       "</td>\n",
       "<td class=\"score-time score\">\n",
       "<a href=\"/matches/2018/09/01/england/premier-league/brighton--hove-albion-fc/fulham-football-club/2795299/?ICID=PL_MS_03\">\n",
       "                \n",
       "                2 - 2\n",
       "                \n",
       "              </a>\n",
       "</td>\n",
       "<td class=\"team team-b \">\n",
       "<a href=\"/teams/england/fulham-football-club/667/\" title=\"Fulham\">\n",
       "                  Fulham\n",
       "                </a>\n",
       "</td>\n",
       "<td class=\"events-button button first-occur\">\n",
       "<a class=\"events-button-button \" href=\"/matches/2018/09/01/england/premier-league/brighton--hove-albion-fc/fulham-football-club/2795299/#events\" title=\"View events\">View events</a>\n",
       "</td>\n",
       "<td class=\"info-button button\">\n",
       "<a href=\"/matches/2018/09/01/england/premier-league/brighton--hove-albion-fc/fulham-football-club/2795299/\" title=\"More info\">More info</a>\n",
       "</td>\n",
       "</tr>\n",
       "<tr class=\"odd expanded match no-date-repetition\" data-competition=\"8\" data-timestamp=\"1535810400\" id=\"page_competition_1_block_competition_matches_summary_5_match-2795304\">\n",
       "<td class=\"day no-repetition\"><span class=\"timestamp\" data-format=\"ddd\" data-value=\"1535810400\">Sat</span></td>\n",
       "<td class=\"date no-repetition\"><span class=\"timestamp\" data-format=\"dd/mm/yy\" data-value=\"1535810400\">01/09/18</span></td>\n",
       "<td class=\"team team-a \">\n",
       "<a href=\"/teams/england/everton-football-club/674/\" title=\"Everton\">\n",
       "                    Everton\n",
       "                  </a>\n",
       "</td>\n",
       "<td class=\"score-time score\">\n",
       "<a href=\"/matches/2018/09/01/england/premier-league/everton-football-club/huddersfield-town-fc/2795304/?ICID=PL_MS_04\">\n",
       "                \n",
       "                1 - 1\n",
       "                \n",
       "              </a>\n",
       "</td>\n",
       "<td class=\"team team-b \">\n",
       "<a href=\"/teams/england/huddersfield-town-fc/726/\" title=\"Huddersfield Town\">\n",
       "                  Huddersfield Town\n",
       "                </a>\n",
       "</td>\n",
       "<td class=\"events-button button first-occur\">\n",
       "<a class=\"events-button-button \" href=\"/matches/2018/09/01/england/premier-league/everton-football-club/huddersfield-town-fc/2795304/#events\" title=\"View events\">View events</a>\n",
       "</td>\n",
       "<td class=\"info-button button\">\n",
       "<a href=\"/matches/2018/09/01/england/premier-league/everton-football-club/huddersfield-town-fc/2795304/\" title=\"More info\">More info</a>\n",
       "</td>\n",
       "</tr>\n",
       "<tr class=\"even expanded match no-date-repetition\" data-competition=\"8\" data-timestamp=\"1535810400\" id=\"page_competition_1_block_competition_matches_summary_5_match-2795302\">\n",
       "<td class=\"day no-repetition\"><span class=\"timestamp\" data-format=\"ddd\" data-value=\"1535810400\">Sat</span></td>\n",
       "<td class=\"date no-repetition\"><span class=\"timestamp\" data-format=\"dd/mm/yy\" data-value=\"1535810400\">01/09/18</span></td>\n",
       "<td class=\"team team-a \">\n",
       "<a href=\"/teams/england/chelsea-football-club/661/\" title=\"Chelsea\">\n",
       "                    Chelsea\n",
       "                  </a>\n",
       "</td>\n",
       "<td class=\"score-time score\">\n",
       "<a href=\"/matches/2018/09/01/england/premier-league/chelsea-football-club/afc-bournemouth/2795302/?ICID=PL_MS_05\">\n",
       "                \n",
       "                2 - 0\n",
       "                \n",
       "              </a>\n",
       "</td>\n",
       "<td class=\"team team-b \">\n",
       "<a href=\"/teams/england/afc-bournemouth/711/\" title=\"AFC Bournemouth\">\n",
       "                  AFC Bournemouth\n",
       "                </a>\n",
       "</td>\n",
       "<td class=\"events-button button first-occur\">\n",
       "<a class=\"events-button-button \" href=\"/matches/2018/09/01/england/premier-league/chelsea-football-club/afc-bournemouth/2795302/#events\" title=\"View events\">View events</a>\n",
       "</td>\n",
       "<td class=\"info-button button\">\n",
       "<a href=\"/matches/2018/09/01/england/premier-league/chelsea-football-club/afc-bournemouth/2795302/\" title=\"More info\">More info</a>\n",
       "</td>\n",
       "</tr>\n",
       "<tr class=\"odd expanded match no-date-repetition\" data-competition=\"8\" data-timestamp=\"1535810400\" id=\"page_competition_1_block_competition_matches_summary_5_match-2795308\">\n",
       "<td class=\"day no-repetition\"><span class=\"timestamp\" data-format=\"ddd\" data-value=\"1535810400\">Sat</span></td>\n",
       "<td class=\"date no-repetition\"><span class=\"timestamp\" data-format=\"dd/mm/yy\" data-value=\"1535810400\">01/09/18</span></td>\n",
       "<td class=\"team team-a \">\n",
       "<a href=\"/teams/england/west-ham-united-fc/684/\" title=\"West Ham United\">\n",
       "                    West Ham United\n",
       "                  </a>\n",
       "</td>\n",
       "<td class=\"score-time score\">\n",
       "<a href=\"/matches/2018/09/01/england/premier-league/west-ham-united-fc/wolverhampton-wanderers-fc/2795308/?ICID=PL_MS_06\">\n",
       "                \n",
       "                0 - 1\n",
       "                \n",
       "              </a>\n",
       "</td>\n",
       "<td class=\"team team-b \">\n",
       "<a href=\"/teams/england/wolverhampton-wanderers-fc/680/\" title=\"Wolverhampton Wanderers\">\n",
       "                  Wolverhampton …\n",
       "                </a>\n",
       "</td>\n",
       "<td class=\"events-button button first-occur\">\n",
       "<a class=\"events-button-button \" href=\"/matches/2018/09/01/england/premier-league/west-ham-united-fc/wolverhampton-wanderers-fc/2795308/#events\" title=\"View events\">View events</a>\n",
       "</td>\n",
       "<td class=\"info-button button\">\n",
       "<a href=\"/matches/2018/09/01/england/premier-league/west-ham-united-fc/wolverhampton-wanderers-fc/2795308/\" title=\"More info\">More info</a>\n",
       "</td>\n",
       "</tr>\n",
       "<tr class=\"even expanded match no-date-repetition\" data-competition=\"8\" data-timestamp=\"1535819400\" id=\"page_competition_1_block_competition_matches_summary_5_match-2795306\">\n",
       "<td class=\"day no-repetition\"><span class=\"timestamp\" data-format=\"ddd\" data-value=\"1535819400\">Sat</span></td>\n",
       "<td class=\"date no-repetition\"><span class=\"timestamp\" data-format=\"dd/mm/yy\" data-value=\"1535819400\">01/09/18</span></td>\n",
       "<td class=\"team team-a \">\n",
       "<a href=\"/teams/england/manchester-city-football-club/676/\" title=\"Manchester City\">\n",
       "                    Manchester City\n",
       "                  </a>\n",
       "</td>\n",
       "<td class=\"score-time score\">\n",
       "<a href=\"/matches/2018/09/01/england/premier-league/manchester-city-football-club/newcastle-united-football-club/2795306/?ICID=PL_MS_07\">\n",
       "                \n",
       "                2 - 1\n",
       "                \n",
       "              </a>\n",
       "</td>\n",
       "<td class=\"team team-b \">\n",
       "<a href=\"/teams/england/newcastle-united-football-club/664/\" title=\"Newcastle United\">\n",
       "                  Newcastle United\n",
       "                </a>\n",
       "</td>\n",
       "<td class=\"events-button button first-occur\">\n",
       "<a class=\"events-button-button \" href=\"/matches/2018/09/01/england/premier-league/manchester-city-football-club/newcastle-united-football-club/2795306/#events\" title=\"View events\">View events</a>\n",
       "</td>\n",
       "<td class=\"info-button button\">\n",
       "<a href=\"/matches/2018/09/01/england/premier-league/manchester-city-football-club/newcastle-united-football-club/2795306/\" title=\"More info\">More info</a>\n",
       "</td>\n",
       "</tr>\n",
       "<tr class=\"odd expanded match no-date-repetition\" data-competition=\"8\" data-timestamp=\"1535891400\" id=\"page_competition_1_block_competition_matches_summary_5_match-2795301\">\n",
       "<td class=\"day no-repetition\"><span class=\"timestamp\" data-format=\"ddd\" data-value=\"1535891400\">Sun</span></td>\n",
       "<td class=\"date no-repetition\"><span class=\"timestamp\" data-format=\"dd/mm/yy\" data-value=\"1535891400\">02/09/18</span></td>\n",
       "<td class=\"team team-a \">\n",
       "<a href=\"/teams/wales/cardiff-city-fc/691/\" title=\"Cardiff City\">\n",
       "                    Cardiff City\n",
       "                  </a>\n",
       "</td>\n",
       "<td class=\"score-time score\">\n",
       "<a href=\"/matches/2018/09/02/england/premier-league/cardiff-city-fc/arsenal-fc/2795301/?ICID=PL_MS_08\">\n",
       "                \n",
       "                2 - 3\n",
       "                \n",
       "              </a>\n",
       "</td>\n",
       "<td class=\"team team-b \">\n",
       "<a href=\"/teams/england/arsenal-fc/660/\" title=\"Arsenal\">\n",
       "                  Arsenal\n",
       "                </a>\n",
       "</td>\n",
       "<td class=\"events-button button first-occur\">\n",
       "<a class=\"events-button-button \" href=\"/matches/2018/09/02/england/premier-league/cardiff-city-fc/arsenal-fc/2795301/#events\" title=\"View events\">View events</a>\n",
       "</td>\n",
       "<td class=\"info-button button\">\n",
       "<a href=\"/matches/2018/09/02/england/premier-league/cardiff-city-fc/arsenal-fc/2795301/\" title=\"More info\">More info</a>\n",
       "</td>\n",
       "</tr>\n",
       "<tr class=\"even expanded match no-date-repetition\" data-competition=\"8\" data-timestamp=\"1535900400\" id=\"page_competition_1_block_competition_matches_summary_5_match-2795300\">\n",
       "<td class=\"day no-repetition\"><span class=\"timestamp\" data-format=\"ddd\" data-value=\"1535900400\">Sun</span></td>\n",
       "<td class=\"date no-repetition\"><span class=\"timestamp\" data-format=\"dd/mm/yy\" data-value=\"1535900400\">02/09/18</span></td>\n",
       "<td class=\"team team-a \">\n",
       "<a href=\"/teams/england/burnley-fc/698/\" title=\"Burnley\">\n",
       "                    Burnley\n",
       "                  </a>\n",
       "</td>\n",
       "<td class=\"score-time score\">\n",
       "<a href=\"/matches/2018/09/02/england/premier-league/burnley-fc/manchester-united-fc/2795300/?ICID=PL_MS_09\">\n",
       "                \n",
       "                0 - 2\n",
       "                \n",
       "              </a>\n",
       "</td>\n",
       "<td class=\"team team-b \">\n",
       "<a href=\"/teams/england/manchester-united-fc/662/\" title=\"Manchester United\">\n",
       "                  Manchester United\n",
       "                </a>\n",
       "</td>\n",
       "<td class=\"events-button button first-occur\">\n",
       "<a class=\"events-button-button \" href=\"/matches/2018/09/02/england/premier-league/burnley-fc/manchester-united-fc/2795300/#events\" title=\"View events\">View events</a>\n",
       "</td>\n",
       "<td class=\"info-button button\">\n",
       "<a href=\"/matches/2018/09/02/england/premier-league/burnley-fc/manchester-united-fc/2795300/\" title=\"More info\">More info</a>\n",
       "</td>\n",
       "</tr>\n",
       "<tr class=\"odd expanded match no-date-repetition\" data-competition=\"8\" data-timestamp=\"1535900400\" id=\"page_competition_1_block_competition_matches_summary_5_match-2795307\">\n",
       "<td class=\"day no-repetition\"><span class=\"timestamp\" data-format=\"ddd\" data-value=\"1535900400\">Sun</span></td>\n",
       "<td class=\"date no-repetition\"><span class=\"timestamp\" data-format=\"dd/mm/yy\" data-value=\"1535900400\">02/09/18</span></td>\n",
       "<td class=\"team team-a \">\n",
       "<a href=\"/teams/england/watford-football-club/696/\" title=\"Watford\">\n",
       "                    Watford\n",
       "                  </a>\n",
       "</td>\n",
       "<td class=\"score-time score\">\n",
       "<a href=\"/matches/2018/09/02/england/premier-league/watford-football-club/tottenham-hotspur-football-club/2795307/?ICID=PL_MS_10\">\n",
       "                \n",
       "                2 - 1\n",
       "                \n",
       "              </a>\n",
       "</td>\n",
       "<td class=\"team team-b \">\n",
       "<a href=\"/teams/england/tottenham-hotspur-football-club/675/\" title=\"Tottenham Hotspur\">\n",
       "                  Tottenham Hotspur\n",
       "                </a>\n",
       "</td>\n",
       "<td class=\"events-button button first-occur\">\n",
       "<a class=\"events-button-button \" href=\"/matches/2018/09/02/england/premier-league/watford-football-club/tottenham-hotspur-football-club/2795307/#events\" title=\"View events\">View events</a>\n",
       "</td>\n",
       "<td class=\"info-button button\">\n",
       "<a href=\"/matches/2018/09/02/england/premier-league/watford-football-club/tottenham-hotspur-football-club/2795307/\" title=\"More info\">More info</a>\n",
       "</td>\n",
       "</tr>\n",
       "</tbody>\n",
       "</table>"
      ]
     },
     "execution_count": 10,
     "metadata": {},
     "output_type": "execute_result"
    }
   ],
   "source": [
    "table_"
   ]
  },
  {
   "cell_type": "code",
   "execution_count": null,
   "metadata": {},
   "outputs": [],
   "source": [
    "table_.find_all('tr')"
   ]
  },
  {
   "cell_type": "code",
   "execution_count": 13,
   "metadata": {},
   "outputs": [
    {
     "name": "stdout",
     "output_type": "stream",
     "text": [
      "Day\n",
      "<class 'bs4.element.Tag'>\n",
      "Date\n",
      "<class 'bs4.element.Tag'>\n",
      "Home team\n",
      "<class 'bs4.element.Tag'>\n",
      "Score/Time\n",
      "<class 'bs4.element.Tag'>\n",
      "Away team\n",
      "<class 'bs4.element.Tag'>\n",
      " \n",
      "<class 'bs4.element.Tag'>\n"
     ]
    }
   ],
   "source": [
    "cabecalho = []\n",
    "rows = table_.find_all('tr')\n",
    "for row in rows:\n",
    "    #print ()\n",
    "    for col in row.find_all('th'):\n",
    "        print(col.string)\n",
    "        print(type(col))\n",
    "        cabecalho.append(col.get_text(strip = True))"
   ]
  },
  {
   "cell_type": "code",
   "execution_count": 153,
   "metadata": {},
   "outputs": [
    {
     "data": {
      "text/plain": [
       "''"
      ]
     },
     "execution_count": 153,
     "metadata": {},
     "output_type": "execute_result"
    }
   ],
   "source": [
    "cabecalho.pop()"
   ]
  },
  {
   "cell_type": "code",
   "execution_count": null,
   "metadata": {},
   "outputs": [],
   "source": [
    "data_rows = table_.find_all('tr')\n",
    "dia = []\n",
    "data = []\n",
    "timeA = []\n",
    "Placar = []\n",
    "timeC = []\n",
    "for value in data_rows:\n",
    "    #print (value.find_all('td'))\n",
    "    #print(value.find_all('td', {'class' : \"day no-repetition\"}))\n",
    "    if value.find_all('td', {'class' : \"day no-repetition\"}):\n",
    "        \n",
    "        print(value)\n",
    "        #valor = value.find_all('td')\n",
    "        \n",
    "        dia.append(value.get_text(strip = True))\n",
    "    if value.find_all('td', {'class' : 'date no-repetition'}):\n",
    "        data.append(value.get_text(strip = True))\n",
    "    if value.find_all('td', {'class' : 'team team-a '}):\n",
    "        timeA.append(value.get_text(strip = True))\n",
    "    if value.find_all('td', {'class' : 'score-time score'}):\n",
    "        Placar.append(value.get_text(strip = True))\n",
    "    if value.find_all('td', {'class' : 'team team-b '}):\n",
    "        timeC.append(value.get_text(strip = True))\n",
    "        \n",
    "        "
   ]
  },
  {
   "cell_type": "code",
   "execution_count": null,
   "metadata": {},
   "outputs": [],
   "source": []
  },
  {
   "cell_type": "code",
   "execution_count": 41,
   "metadata": {},
   "outputs": [
    {
     "data": {
      "text/plain": [
       "'Day'"
      ]
     },
     "execution_count": 41,
     "metadata": {},
     "output_type": "execute_result"
    }
   ],
   "source": [
    "row.findAll('th')[1].getText()"
   ]
  },
  {
   "cell_type": "code",
   "execution_count": 149,
   "metadata": {},
   "outputs": [],
   "source": [
    "#https://stackoverflow.com/questions/14167352/beautifulsoup-html-csv\n",
    "rows=[]\n",
    "for row in table_.find_all('tr'):\n",
    "    rows.append([val.get_text(strip = True) for val in row.find_all('td')][0:5])"
   ]
  },
  {
   "cell_type": "code",
   "execution_count": 150,
   "metadata": {},
   "outputs": [
    {
     "data": {
      "text/plain": [
       "[['Sat', '25/08/18', 'Wolverhampton …', '1 - 1', 'Manchester City']]"
      ]
     },
     "execution_count": 150,
     "metadata": {},
     "output_type": "execute_result"
    }
   ],
   "source": [
    "rows[:][1:2]"
   ]
  },
  {
   "cell_type": "code",
   "execution_count": 122,
   "metadata": {},
   "outputs": [],
   "source": [
    "import pandas as pd"
   ]
  },
  {
   "cell_type": "code",
   "execution_count": 158,
   "metadata": {},
   "outputs": [],
   "source": [
    "Premier_Ligue = pd.DataFrame(rows[1:], columns = cabecalho)"
   ]
  },
  {
   "cell_type": "code",
   "execution_count": 161,
   "metadata": {},
   "outputs": [
    {
     "data": {
      "text/html": [
       "<div>\n",
       "<style>\n",
       "    .dataframe thead tr:only-child th {\n",
       "        text-align: right;\n",
       "    }\n",
       "\n",
       "    .dataframe thead th {\n",
       "        text-align: left;\n",
       "    }\n",
       "\n",
       "    .dataframe tbody tr th {\n",
       "        vertical-align: top;\n",
       "    }\n",
       "</style>\n",
       "<table border=\"1\" class=\"dataframe\">\n",
       "  <thead>\n",
       "    <tr style=\"text-align: right;\">\n",
       "      <th></th>\n",
       "      <th>Day</th>\n",
       "      <th>Date</th>\n",
       "      <th>Home team</th>\n",
       "      <th>Score/Time</th>\n",
       "      <th>Away team</th>\n",
       "    </tr>\n",
       "  </thead>\n",
       "  <tbody>\n",
       "    <tr>\n",
       "      <th>0</th>\n",
       "      <td>Sat</td>\n",
       "      <td>25/08/18</td>\n",
       "      <td>Wolverhampton …</td>\n",
       "      <td>1 - 1</td>\n",
       "      <td>Manchester City</td>\n",
       "    </tr>\n",
       "    <tr>\n",
       "      <th>1</th>\n",
       "      <td>Sat</td>\n",
       "      <td>25/08/18</td>\n",
       "      <td>AFC Bournemouth</td>\n",
       "      <td>2 - 2</td>\n",
       "      <td>Everton</td>\n",
       "    </tr>\n",
       "    <tr>\n",
       "      <th>2</th>\n",
       "      <td>Sat</td>\n",
       "      <td>25/08/18</td>\n",
       "      <td>Arsenal</td>\n",
       "      <td>3 - 1</td>\n",
       "      <td>West Ham United</td>\n",
       "    </tr>\n",
       "    <tr>\n",
       "      <th>3</th>\n",
       "      <td>Sat</td>\n",
       "      <td>25/08/18</td>\n",
       "      <td>Huddersfield Town</td>\n",
       "      <td>0 - 0</td>\n",
       "      <td>Cardiff City</td>\n",
       "    </tr>\n",
       "    <tr>\n",
       "      <th>4</th>\n",
       "      <td>Sat</td>\n",
       "      <td>25/08/18</td>\n",
       "      <td>Southampton</td>\n",
       "      <td>1 - 2</td>\n",
       "      <td>Leicester City</td>\n",
       "    </tr>\n",
       "    <tr>\n",
       "      <th>5</th>\n",
       "      <td>Sat</td>\n",
       "      <td>25/08/18</td>\n",
       "      <td>Liverpool</td>\n",
       "      <td>1 - 0</td>\n",
       "      <td>Brighton &amp; Hov…</td>\n",
       "    </tr>\n",
       "    <tr>\n",
       "      <th>6</th>\n",
       "      <td>Sun</td>\n",
       "      <td>26/08/18</td>\n",
       "      <td>Watford</td>\n",
       "      <td>14 : 30</td>\n",
       "      <td>Crystal Palace</td>\n",
       "    </tr>\n",
       "    <tr>\n",
       "      <th>7</th>\n",
       "      <td>Sun</td>\n",
       "      <td>26/08/18</td>\n",
       "      <td>Fulham</td>\n",
       "      <td>17 : 00</td>\n",
       "      <td>Burnley</td>\n",
       "    </tr>\n",
       "    <tr>\n",
       "      <th>8</th>\n",
       "      <td>Sun</td>\n",
       "      <td>26/08/18</td>\n",
       "      <td>Newcastle United</td>\n",
       "      <td>17 : 00</td>\n",
       "      <td>Chelsea</td>\n",
       "    </tr>\n",
       "    <tr>\n",
       "      <th>9</th>\n",
       "      <td>Mon</td>\n",
       "      <td>27/08/18</td>\n",
       "      <td>Manchester United</td>\n",
       "      <td>21 : 00</td>\n",
       "      <td>Tottenham Hotspur</td>\n",
       "    </tr>\n",
       "  </tbody>\n",
       "</table>\n",
       "</div>"
      ],
      "text/plain": [
       "   Day      Date          Home team Score/Time          Away team\n",
       "0  Sat  25/08/18    Wolverhampton …      1 - 1    Manchester City\n",
       "1  Sat  25/08/18    AFC Bournemouth      2 - 2            Everton\n",
       "2  Sat  25/08/18            Arsenal      3 - 1    West Ham United\n",
       "3  Sat  25/08/18  Huddersfield Town      0 - 0       Cardiff City\n",
       "4  Sat  25/08/18        Southampton      1 - 2     Leicester City\n",
       "5  Sat  25/08/18          Liverpool      1 - 0    Brighton & Hov…\n",
       "6  Sun  26/08/18            Watford    14 : 30     Crystal Palace\n",
       "7  Sun  26/08/18             Fulham    17 : 00            Burnley\n",
       "8  Sun  26/08/18   Newcastle United    17 : 00            Chelsea\n",
       "9  Mon  27/08/18  Manchester United    21 : 00  Tottenham Hotspur"
      ]
     },
     "execution_count": 161,
     "metadata": {},
     "output_type": "execute_result"
    }
   ],
   "source": [
    "Premier_Ligue"
   ]
  },
  {
   "cell_type": "code",
   "execution_count": null,
   "metadata": {},
   "outputs": [],
   "source": []
  }
 ],
 "metadata": {
  "kernelspec": {
   "display_name": "Python 3",
   "language": "python",
   "name": "python3"
  },
  "language_info": {
   "codemirror_mode": {
    "name": "ipython",
    "version": 3
   },
   "file_extension": ".py",
   "mimetype": "text/x-python",
   "name": "python",
   "nbconvert_exporter": "python",
   "pygments_lexer": "ipython3",
   "version": "3.6.3"
  }
 },
 "nbformat": 4,
 "nbformat_minor": 2
}
