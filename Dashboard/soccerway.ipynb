{
 "cells": [
  {
   "cell_type": "code",
   "execution_count": 1,
   "metadata": {},
   "outputs": [],
   "source": [
    "#Biblioteca usada para requisitar uma pagina web\n",
    "import urllib.request"
   ]
  },
  {
   "cell_type": "code",
   "execution_count": 2,
   "metadata": {},
   "outputs": [],
   "source": [
    "# Definimos a url\n",
    "# Verifique as permissões em https://www.python.org/robots.txt\n",
    "with urllib.request.urlopen(\"https://int.soccerway.com/national/england/premier-league/20182019/regular-season/r48730/\") as url:\n",
    "    page = url.read()"
   ]
  },
  {
   "cell_type": "code",
   "execution_count": 4,
   "metadata": {},
   "outputs": [],
   "source": [
    "from bs4 import BeautifulSoup"
   ]
  },
  {
   "cell_type": "code",
   "execution_count": 5,
   "metadata": {},
   "outputs": [],
   "source": [
    "# Analise o html na variável 'page' e armazene-o no formato Beautiful Soup\n",
    "soup = BeautifulSoup(page, \"html.parser\")"
   ]
  },
  {
   "cell_type": "code",
   "execution_count": 6,
   "metadata": {},
   "outputs": [
    {
     "data": {
      "text/plain": [
       "<title>Summary - Premier League - England - Results, fixtures, tables and news - Soccerway</title>"
      ]
     },
     "execution_count": 6,
     "metadata": {},
     "output_type": "execute_result"
    }
   ],
   "source": [
    "soup.title"
   ]
  },
  {
   "cell_type": "code",
   "execution_count": 8,
   "metadata": {},
   "outputs": [
    {
     "data": {
      "text/plain": [
       "'Summary - Premier League - England - Results, fixtures, tables and news - Soccerway'"
      ]
     },
     "execution_count": 8,
     "metadata": {},
     "output_type": "execute_result"
    }
   ],
   "source": [
    "soup.title.string"
   ]
  },
  {
   "cell_type": "code",
   "execution_count": 9,
   "metadata": {},
   "outputs": [],
   "source": [
    "table_ = soup.find('table')"
   ]
  },
  {
   "cell_type": "code",
   "execution_count": null,
   "metadata": {},
   "outputs": [],
   "source": [
    "table_"
   ]
  },
  {
   "cell_type": "code",
   "execution_count": null,
   "metadata": {},
   "outputs": [],
   "source": [
    "table_.find_all('tr')"
   ]
  },
  {
   "cell_type": "code",
   "execution_count": 13,
   "metadata": {},
   "outputs": [
    {
     "name": "stdout",
     "output_type": "stream",
     "text": [
      "Day\n",
      "<class 'bs4.element.Tag'>\n",
      "Date\n",
      "<class 'bs4.element.Tag'>\n",
      "Home team\n",
      "<class 'bs4.element.Tag'>\n",
      "Score/Time\n",
      "<class 'bs4.element.Tag'>\n",
      "Away team\n",
      "<class 'bs4.element.Tag'>\n",
      " \n",
      "<class 'bs4.element.Tag'>\n"
     ]
    }
   ],
   "source": [
    "cabecalho = []\n",
    "rows = table_.find_all('tr')\n",
    "for row in rows:\n",
    "    #print ()\n",
    "    for col in row.find_all('th'):\n",
    "        print(col.string)\n",
    "        print(type(col))\n",
    "        cabecalho.append(col.get_text(strip = True))"
   ]
  },
  {
   "cell_type": "code",
   "execution_count": 153,
   "metadata": {},
   "outputs": [
    {
     "data": {
      "text/plain": [
       "''"
      ]
     },
     "execution_count": 153,
     "metadata": {},
     "output_type": "execute_result"
    }
   ],
   "source": [
    "cabecalho.pop()"
   ]
  },
  {
   "cell_type": "code",
   "execution_count": null,
   "metadata": {},
   "outputs": [],
   "source": [
    "data_rows = table_.find_all('tr')\n",
    "dia = []\n",
    "data = []\n",
    "timeA = []\n",
    "Placar = []\n",
    "timeC = []\n",
    "for value in data_rows:\n",
    "    #print (value.find_all('td'))\n",
    "    #print(value.find_all('td', {'class' : \"day no-repetition\"}))\n",
    "    if value.find_all('td', {'class' : \"day no-repetition\"}):\n",
    "        \n",
    "        print(value)\n",
    "        #valor = value.find_all('td')\n",
    "        \n",
    "        dia.append(value.get_text(strip = True))\n",
    "    if value.find_all('td', {'class' : 'date no-repetition'}):\n",
    "        data.append(value.get_text(strip = True))\n",
    "    if value.find_all('td', {'class' : 'team team-a '}):\n",
    "        timeA.append(value.get_text(strip = True))\n",
    "    if value.find_all('td', {'class' : 'score-time score'}):\n",
    "        Placar.append(value.get_text(strip = True))\n",
    "    if value.find_all('td', {'class' : 'team team-b '}):\n",
    "        timeC.append(value.get_text(strip = True))\n",
    "        \n",
    "        "
   ]
  },
  {
   "cell_type": "code",
   "execution_count": null,
   "metadata": {},
   "outputs": [],
   "source": []
  },
  {
   "cell_type": "code",
   "execution_count": 41,
   "metadata": {},
   "outputs": [
    {
     "data": {
      "text/plain": [
       "'Day'"
      ]
     },
     "execution_count": 41,
     "metadata": {},
     "output_type": "execute_result"
    }
   ],
   "source": [
    "row.findAll('th')[1].getText()"
   ]
  },
  {
   "cell_type": "code",
   "execution_count": 149,
   "metadata": {},
   "outputs": [],
   "source": [
    "#https://stackoverflow.com/questions/14167352/beautifulsoup-html-csv\n",
    "rows=[]\n",
    "for row in table_.find_all('tr'):\n",
    "    rows.append([val.get_text(strip = True) for val in row.find_all('td')][0:5])"
   ]
  },
  {
   "cell_type": "code",
   "execution_count": 150,
   "metadata": {},
   "outputs": [
    {
     "data": {
      "text/plain": [
       "[['Sat', '25/08/18', 'Wolverhampton …', '1 - 1', 'Manchester City']]"
      ]
     },
     "execution_count": 150,
     "metadata": {},
     "output_type": "execute_result"
    }
   ],
   "source": [
    "rows[:][1:2]"
   ]
  },
  {
   "cell_type": "code",
   "execution_count": 122,
   "metadata": {},
   "outputs": [],
   "source": [
    "import pandas as pd"
   ]
  },
  {
   "cell_type": "code",
   "execution_count": 158,
   "metadata": {},
   "outputs": [],
   "source": [
    "Premier_Ligue = pd.DataFrame(rows[1:], columns = cabecalho)"
   ]
  },
  {
   "cell_type": "code",
   "execution_count": 161,
   "metadata": {},
   "outputs": [
    {
     "data": {
      "text/html": [
       "<div>\n",
       "<style>\n",
       "    .dataframe thead tr:only-child th {\n",
       "        text-align: right;\n",
       "    }\n",
       "\n",
       "    .dataframe thead th {\n",
       "        text-align: left;\n",
       "    }\n",
       "\n",
       "    .dataframe tbody tr th {\n",
       "        vertical-align: top;\n",
       "    }\n",
       "</style>\n",
       "<table border=\"1\" class=\"dataframe\">\n",
       "  <thead>\n",
       "    <tr style=\"text-align: right;\">\n",
       "      <th></th>\n",
       "      <th>Day</th>\n",
       "      <th>Date</th>\n",
       "      <th>Home team</th>\n",
       "      <th>Score/Time</th>\n",
       "      <th>Away team</th>\n",
       "    </tr>\n",
       "  </thead>\n",
       "  <tbody>\n",
       "    <tr>\n",
       "      <th>0</th>\n",
       "      <td>Sat</td>\n",
       "      <td>25/08/18</td>\n",
       "      <td>Wolverhampton …</td>\n",
       "      <td>1 - 1</td>\n",
       "      <td>Manchester City</td>\n",
       "    </tr>\n",
       "    <tr>\n",
       "      <th>1</th>\n",
       "      <td>Sat</td>\n",
       "      <td>25/08/18</td>\n",
       "      <td>AFC Bournemouth</td>\n",
       "      <td>2 - 2</td>\n",
       "      <td>Everton</td>\n",
       "    </tr>\n",
       "    <tr>\n",
       "      <th>2</th>\n",
       "      <td>Sat</td>\n",
       "      <td>25/08/18</td>\n",
       "      <td>Arsenal</td>\n",
       "      <td>3 - 1</td>\n",
       "      <td>West Ham United</td>\n",
       "    </tr>\n",
       "    <tr>\n",
       "      <th>3</th>\n",
       "      <td>Sat</td>\n",
       "      <td>25/08/18</td>\n",
       "      <td>Huddersfield Town</td>\n",
       "      <td>0 - 0</td>\n",
       "      <td>Cardiff City</td>\n",
       "    </tr>\n",
       "    <tr>\n",
       "      <th>4</th>\n",
       "      <td>Sat</td>\n",
       "      <td>25/08/18</td>\n",
       "      <td>Southampton</td>\n",
       "      <td>1 - 2</td>\n",
       "      <td>Leicester City</td>\n",
       "    </tr>\n",
       "    <tr>\n",
       "      <th>5</th>\n",
       "      <td>Sat</td>\n",
       "      <td>25/08/18</td>\n",
       "      <td>Liverpool</td>\n",
       "      <td>1 - 0</td>\n",
       "      <td>Brighton &amp; Hov…</td>\n",
       "    </tr>\n",
       "    <tr>\n",
       "      <th>6</th>\n",
       "      <td>Sun</td>\n",
       "      <td>26/08/18</td>\n",
       "      <td>Watford</td>\n",
       "      <td>14 : 30</td>\n",
       "      <td>Crystal Palace</td>\n",
       "    </tr>\n",
       "    <tr>\n",
       "      <th>7</th>\n",
       "      <td>Sun</td>\n",
       "      <td>26/08/18</td>\n",
       "      <td>Fulham</td>\n",
       "      <td>17 : 00</td>\n",
       "      <td>Burnley</td>\n",
       "    </tr>\n",
       "    <tr>\n",
       "      <th>8</th>\n",
       "      <td>Sun</td>\n",
       "      <td>26/08/18</td>\n",
       "      <td>Newcastle United</td>\n",
       "      <td>17 : 00</td>\n",
       "      <td>Chelsea</td>\n",
       "    </tr>\n",
       "    <tr>\n",
       "      <th>9</th>\n",
       "      <td>Mon</td>\n",
       "      <td>27/08/18</td>\n",
       "      <td>Manchester United</td>\n",
       "      <td>21 : 00</td>\n",
       "      <td>Tottenham Hotspur</td>\n",
       "    </tr>\n",
       "  </tbody>\n",
       "</table>\n",
       "</div>"
      ],
      "text/plain": [
       "   Day      Date          Home team Score/Time          Away team\n",
       "0  Sat  25/08/18    Wolverhampton …      1 - 1    Manchester City\n",
       "1  Sat  25/08/18    AFC Bournemouth      2 - 2            Everton\n",
       "2  Sat  25/08/18            Arsenal      3 - 1    West Ham United\n",
       "3  Sat  25/08/18  Huddersfield Town      0 - 0       Cardiff City\n",
       "4  Sat  25/08/18        Southampton      1 - 2     Leicester City\n",
       "5  Sat  25/08/18          Liverpool      1 - 0    Brighton & Hov…\n",
       "6  Sun  26/08/18            Watford    14 : 30     Crystal Palace\n",
       "7  Sun  26/08/18             Fulham    17 : 00            Burnley\n",
       "8  Sun  26/08/18   Newcastle United    17 : 00            Chelsea\n",
       "9  Mon  27/08/18  Manchester United    21 : 00  Tottenham Hotspur"
      ]
     },
     "execution_count": 161,
     "metadata": {},
     "output_type": "execute_result"
    }
   ],
   "source": [
    "Premier_Ligue"
   ]
  },
  {
   "cell_type": "code",
   "execution_count": null,
   "metadata": {},
   "outputs": [],
   "source": []
  }
 ],
 "metadata": {
  "kernelspec": {
   "display_name": "Python 3",
   "language": "python",
   "name": "python3"
  },
  "language_info": {
   "codemirror_mode": {
    "name": "ipython",
    "version": 3
   },
   "file_extension": ".py",
   "mimetype": "text/x-python",
   "name": "python",
   "nbconvert_exporter": "python",
   "pygments_lexer": "ipython3",
   "version": "3.6.3"
  }
 },
 "nbformat": 4,
 "nbformat_minor": 2
}
