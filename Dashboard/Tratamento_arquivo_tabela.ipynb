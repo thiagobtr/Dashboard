{
 "cells": [
  {
   "cell_type": "code",
   "execution_count": 1,
   "metadata": {},
   "outputs": [],
   "source": [
    "#MongoDB\n",
    "from pymongo import MongoClient \n",
    "#Pandas\n",
    "import pandas as pd\n",
    "import numpy as np"
   ]
  },
  {
   "cell_type": "code",
   "execution_count": 26,
   "metadata": {},
   "outputs": [],
   "source": [
    "#conexao ao banco\n",
    "conn = MongoClient('localhost',27017)\n",
    "db = conn.Ligas_futebol"
   ]
  },
  {
   "cell_type": "code",
   "execution_count": 27,
   "metadata": {},
   "outputs": [
    {
     "data": {
      "text/plain": [
       "['Publico', 'Rodadas', 'score', 'Rank']"
      ]
     },
     "execution_count": 27,
     "metadata": {},
     "output_type": "execute_result"
    }
   ],
   "source": [
    "#listando as coleçoes disponiveis\n",
    "db.list_collection_names()"
   ]
  },
  {
   "cell_type": "code",
   "execution_count": 28,
   "metadata": {},
   "outputs": [],
   "source": [
    "#seleciona collection\n",
    "db_rank = db['Rank']"
   ]
  },
  {
   "cell_type": "code",
   "execution_count": 29,
   "metadata": {},
   "outputs": [],
   "source": [
    "#Cria o Dataframe\n",
    "df_rank = pd.DataFrame (list(db_rank.find({})))"
   ]
  },
  {
   "cell_type": "code",
   "execution_count": 30,
   "metadata": {},
   "outputs": [],
   "source": [
    "#Exclui campos e valores NAs\n",
    "df_rank.drop('_id',inplace=True,axis=1)\n",
    "df_rank.dropna(inplace=True)"
   ]
  },
  {
   "cell_type": "code",
   "execution_count": 31,
   "metadata": {},
   "outputs": [
    {
     "data": {
      "text/plain": [
       "D            False\n",
       "Dif          False\n",
       "L            False\n",
       "Liga         False\n",
       "M            False\n",
       "Pt           False\n",
       "Rodada       False\n",
       "Team         False\n",
       "Temporada    False\n",
       "W            False\n",
       "goals        False\n",
       "rank         False\n",
       "dtype: bool"
      ]
     },
     "execution_count": 31,
     "metadata": {},
     "output_type": "execute_result"
    }
   ],
   "source": [
    "df_rank.count().isnull()"
   ]
  },
  {
   "cell_type": "code",
   "execution_count": 32,
   "metadata": {},
   "outputs": [
    {
     "name": "stdout",
     "output_type": "stream",
     "text": [
      "<class 'pandas.core.frame.DataFrame'>\n",
      "Int64Index: 8676 entries, 0 to 8675\n",
      "Data columns (total 12 columns):\n",
      "D            8676 non-null object\n",
      "Dif          8676 non-null object\n",
      "L            8676 non-null object\n",
      "Liga         8676 non-null object\n",
      "M            8676 non-null object\n",
      "Pt           8676 non-null object\n",
      "Rodada       8676 non-null int64\n",
      "Team         8676 non-null object\n",
      "Temporada    8676 non-null object\n",
      "W            8676 non-null object\n",
      "goals        8676 non-null object\n",
      "rank         8676 non-null object\n",
      "dtypes: int64(1), object(11)\n",
      "memory usage: 881.2+ KB\n"
     ]
    }
   ],
   "source": [
    "df_rank.info()"
   ]
  },
  {
   "cell_type": "code",
   "execution_count": 33,
   "metadata": {},
   "outputs": [
    {
     "data": {
      "text/html": [
       "<div>\n",
       "<style>\n",
       "    .dataframe thead tr:only-child th {\n",
       "        text-align: right;\n",
       "    }\n",
       "\n",
       "    .dataframe thead th {\n",
       "        text-align: left;\n",
       "    }\n",
       "\n",
       "    .dataframe tbody tr th {\n",
       "        vertical-align: top;\n",
       "    }\n",
       "</style>\n",
       "<table border=\"1\" class=\"dataframe\">\n",
       "  <thead>\n",
       "    <tr style=\"text-align: right;\">\n",
       "      <th></th>\n",
       "      <th></th>\n",
       "      <th>D</th>\n",
       "      <th>Dif</th>\n",
       "      <th>L</th>\n",
       "      <th>M</th>\n",
       "      <th>Pt</th>\n",
       "      <th>Rodada</th>\n",
       "      <th>Team</th>\n",
       "      <th>W</th>\n",
       "      <th>goals</th>\n",
       "      <th>rank</th>\n",
       "    </tr>\n",
       "    <tr>\n",
       "      <th>Temporada</th>\n",
       "      <th>Liga</th>\n",
       "      <th></th>\n",
       "      <th></th>\n",
       "      <th></th>\n",
       "      <th></th>\n",
       "      <th></th>\n",
       "      <th></th>\n",
       "      <th></th>\n",
       "      <th></th>\n",
       "      <th></th>\n",
       "      <th></th>\n",
       "    </tr>\n",
       "  </thead>\n",
       "  <tbody>\n",
       "    <tr>\n",
       "      <th rowspan=\"4\" valign=\"top\">2015-2016</th>\n",
       "      <th>Bundesliga</th>\n",
       "      <td>612</td>\n",
       "      <td>612</td>\n",
       "      <td>612</td>\n",
       "      <td>612</td>\n",
       "      <td>612</td>\n",
       "      <td>612</td>\n",
       "      <td>612</td>\n",
       "      <td>612</td>\n",
       "      <td>612</td>\n",
       "      <td>612</td>\n",
       "    </tr>\n",
       "    <tr>\n",
       "      <th>Laliga</th>\n",
       "      <td>760</td>\n",
       "      <td>760</td>\n",
       "      <td>760</td>\n",
       "      <td>760</td>\n",
       "      <td>760</td>\n",
       "      <td>760</td>\n",
       "      <td>760</td>\n",
       "      <td>760</td>\n",
       "      <td>760</td>\n",
       "      <td>760</td>\n",
       "    </tr>\n",
       "    <tr>\n",
       "      <th>Premier_league</th>\n",
       "      <td>760</td>\n",
       "      <td>760</td>\n",
       "      <td>760</td>\n",
       "      <td>760</td>\n",
       "      <td>760</td>\n",
       "      <td>760</td>\n",
       "      <td>760</td>\n",
       "      <td>760</td>\n",
       "      <td>760</td>\n",
       "      <td>760</td>\n",
       "    </tr>\n",
       "    <tr>\n",
       "      <th>SerieA</th>\n",
       "      <td>760</td>\n",
       "      <td>760</td>\n",
       "      <td>760</td>\n",
       "      <td>760</td>\n",
       "      <td>760</td>\n",
       "      <td>760</td>\n",
       "      <td>760</td>\n",
       "      <td>760</td>\n",
       "      <td>760</td>\n",
       "      <td>760</td>\n",
       "    </tr>\n",
       "    <tr>\n",
       "      <th rowspan=\"4\" valign=\"top\">2016-2017</th>\n",
       "      <th>Bundesliga</th>\n",
       "      <td>612</td>\n",
       "      <td>612</td>\n",
       "      <td>612</td>\n",
       "      <td>612</td>\n",
       "      <td>612</td>\n",
       "      <td>612</td>\n",
       "      <td>612</td>\n",
       "      <td>612</td>\n",
       "      <td>612</td>\n",
       "      <td>612</td>\n",
       "    </tr>\n",
       "    <tr>\n",
       "      <th>Laliga</th>\n",
       "      <td>760</td>\n",
       "      <td>760</td>\n",
       "      <td>760</td>\n",
       "      <td>760</td>\n",
       "      <td>760</td>\n",
       "      <td>760</td>\n",
       "      <td>760</td>\n",
       "      <td>760</td>\n",
       "      <td>760</td>\n",
       "      <td>760</td>\n",
       "    </tr>\n",
       "    <tr>\n",
       "      <th>Premier_league</th>\n",
       "      <td>760</td>\n",
       "      <td>760</td>\n",
       "      <td>760</td>\n",
       "      <td>760</td>\n",
       "      <td>760</td>\n",
       "      <td>760</td>\n",
       "      <td>760</td>\n",
       "      <td>760</td>\n",
       "      <td>760</td>\n",
       "      <td>760</td>\n",
       "    </tr>\n",
       "    <tr>\n",
       "      <th>SerieA</th>\n",
       "      <td>760</td>\n",
       "      <td>760</td>\n",
       "      <td>760</td>\n",
       "      <td>760</td>\n",
       "      <td>760</td>\n",
       "      <td>760</td>\n",
       "      <td>760</td>\n",
       "      <td>760</td>\n",
       "      <td>760</td>\n",
       "      <td>760</td>\n",
       "    </tr>\n",
       "    <tr>\n",
       "      <th rowspan=\"4\" valign=\"top\">2017-2018</th>\n",
       "      <th>Bundesliga</th>\n",
       "      <td>612</td>\n",
       "      <td>612</td>\n",
       "      <td>612</td>\n",
       "      <td>612</td>\n",
       "      <td>612</td>\n",
       "      <td>612</td>\n",
       "      <td>612</td>\n",
       "      <td>612</td>\n",
       "      <td>612</td>\n",
       "      <td>612</td>\n",
       "    </tr>\n",
       "    <tr>\n",
       "      <th>Laliga</th>\n",
       "      <td>760</td>\n",
       "      <td>760</td>\n",
       "      <td>760</td>\n",
       "      <td>760</td>\n",
       "      <td>760</td>\n",
       "      <td>760</td>\n",
       "      <td>760</td>\n",
       "      <td>760</td>\n",
       "      <td>760</td>\n",
       "      <td>760</td>\n",
       "    </tr>\n",
       "    <tr>\n",
       "      <th>Premier_league</th>\n",
       "      <td>760</td>\n",
       "      <td>760</td>\n",
       "      <td>760</td>\n",
       "      <td>760</td>\n",
       "      <td>760</td>\n",
       "      <td>760</td>\n",
       "      <td>760</td>\n",
       "      <td>760</td>\n",
       "      <td>760</td>\n",
       "      <td>760</td>\n",
       "    </tr>\n",
       "    <tr>\n",
       "      <th>SerieA</th>\n",
       "      <td>760</td>\n",
       "      <td>760</td>\n",
       "      <td>760</td>\n",
       "      <td>760</td>\n",
       "      <td>760</td>\n",
       "      <td>760</td>\n",
       "      <td>760</td>\n",
       "      <td>760</td>\n",
       "      <td>760</td>\n",
       "      <td>760</td>\n",
       "    </tr>\n",
       "  </tbody>\n",
       "</table>\n",
       "</div>"
      ],
      "text/plain": [
       "                            D  Dif    L    M   Pt  Rodada  Team    W  goals  \\\n",
       "Temporada Liga                                                                \n",
       "2015-2016 Bundesliga      612  612  612  612  612     612   612  612    612   \n",
       "          Laliga          760  760  760  760  760     760   760  760    760   \n",
       "          Premier_league  760  760  760  760  760     760   760  760    760   \n",
       "          SerieA          760  760  760  760  760     760   760  760    760   \n",
       "2016-2017 Bundesliga      612  612  612  612  612     612   612  612    612   \n",
       "          Laliga          760  760  760  760  760     760   760  760    760   \n",
       "          Premier_league  760  760  760  760  760     760   760  760    760   \n",
       "          SerieA          760  760  760  760  760     760   760  760    760   \n",
       "2017-2018 Bundesliga      612  612  612  612  612     612   612  612    612   \n",
       "          Laliga          760  760  760  760  760     760   760  760    760   \n",
       "          Premier_league  760  760  760  760  760     760   760  760    760   \n",
       "          SerieA          760  760  760  760  760     760   760  760    760   \n",
       "\n",
       "                          rank  \n",
       "Temporada Liga                  \n",
       "2015-2016 Bundesliga       612  \n",
       "          Laliga           760  \n",
       "          Premier_league   760  \n",
       "          SerieA           760  \n",
       "2016-2017 Bundesliga       612  \n",
       "          Laliga           760  \n",
       "          Premier_league   760  \n",
       "          SerieA           760  \n",
       "2017-2018 Bundesliga       612  \n",
       "          Laliga           760  \n",
       "          Premier_league   760  \n",
       "          SerieA           760  "
      ]
     },
     "execution_count": 33,
     "metadata": {},
     "output_type": "execute_result"
    }
   ],
   "source": [
    "#Verificando a quantidade de jogos por temporada e Liga\n",
    "df_rank.groupby(['Temporada','Liga']).count()\n"
   ]
  },
  {
   "cell_type": "code",
   "execution_count": 34,
   "metadata": {},
   "outputs": [],
   "source": [
    "#alterando nome das variaveis\n",
    "df_rank.rename(columns={'Team':'Time','W':'Vitorias','L':'Derrotas','D':'Empates','Dif':'Saldo','Pt':'Pontos'},inplace=True)\n"
   ]
  },
  {
   "cell_type": "code",
   "execution_count": 35,
   "metadata": {},
   "outputs": [],
   "source": [
    "#Cria variaveis no df\n",
    "#df_premier['goals'] = df_premier['goals'].str.split(':')\n",
    "df_rank['Gols_pro'] = [vl[0] for vl in df_rank['goals'].str.split(':')]\n",
    "df_rank['Gols_con'] = [vl[1] for vl in df_rank['goals'].str.split(':')]\n",
    "#exclui variavel original\n",
    "df_rank.drop('goals',inplace=True,axis=1)"
   ]
  },
  {
   "cell_type": "code",
   "execution_count": 36,
   "metadata": {},
   "outputs": [],
   "source": [
    "#Cria variavel 'Ano_Inicio'\n",
    "df_rank['Ano_inicio'] = [ano[0] for ano in df_rank['Temporada'].str.split('-')]\n",
    "df_rank['Ano_inicio'] = pd.to_numeric(df_rank['Ano_inicio'])\n"
   ]
  },
  {
   "cell_type": "code",
   "execution_count": 37,
   "metadata": {},
   "outputs": [
    {
     "data": {
      "text/html": [
       "<div>\n",
       "<style>\n",
       "    .dataframe thead tr:only-child th {\n",
       "        text-align: right;\n",
       "    }\n",
       "\n",
       "    .dataframe thead th {\n",
       "        text-align: left;\n",
       "    }\n",
       "\n",
       "    .dataframe tbody tr th {\n",
       "        vertical-align: top;\n",
       "    }\n",
       "</style>\n",
       "<table border=\"1\" class=\"dataframe\">\n",
       "  <thead>\n",
       "    <tr style=\"text-align: right;\">\n",
       "      <th></th>\n",
       "      <th>Empates</th>\n",
       "      <th>Saldo</th>\n",
       "      <th>Derrotas</th>\n",
       "      <th>Liga</th>\n",
       "      <th>M</th>\n",
       "      <th>Pontos</th>\n",
       "      <th>Rodada</th>\n",
       "      <th>Time</th>\n",
       "      <th>Temporada</th>\n",
       "      <th>Vitorias</th>\n",
       "      <th>rank</th>\n",
       "      <th>Gols_pro</th>\n",
       "      <th>Gols_con</th>\n",
       "      <th>Ano_inicio</th>\n",
       "    </tr>\n",
       "  </thead>\n",
       "  <tbody>\n",
       "    <tr>\n",
       "      <th>0</th>\n",
       "      <td>0</td>\n",
       "      <td>2</td>\n",
       "      <td>0</td>\n",
       "      <td>Premier_league</td>\n",
       "      <td>1</td>\n",
       "      <td>3</td>\n",
       "      <td>1</td>\n",
       "      <td>Manchester United</td>\n",
       "      <td>2016-2017</td>\n",
       "      <td>1</td>\n",
       "      <td>1</td>\n",
       "      <td>3</td>\n",
       "      <td>1</td>\n",
       "      <td>2016</td>\n",
       "    </tr>\n",
       "    <tr>\n",
       "      <th>1</th>\n",
       "      <td>0</td>\n",
       "      <td>1</td>\n",
       "      <td>0</td>\n",
       "      <td>Premier_league</td>\n",
       "      <td>1</td>\n",
       "      <td>3</td>\n",
       "      <td>1</td>\n",
       "      <td>Liverpool FC</td>\n",
       "      <td>2016-2017</td>\n",
       "      <td>1</td>\n",
       "      <td>2</td>\n",
       "      <td>4</td>\n",
       "      <td>3</td>\n",
       "      <td>2016</td>\n",
       "    </tr>\n",
       "    <tr>\n",
       "      <th>2</th>\n",
       "      <td>0</td>\n",
       "      <td>1</td>\n",
       "      <td>0</td>\n",
       "      <td>Premier_league</td>\n",
       "      <td>1</td>\n",
       "      <td>3</td>\n",
       "      <td>1</td>\n",
       "      <td>Chelsea FC</td>\n",
       "      <td>2016-2017</td>\n",
       "      <td>1</td>\n",
       "      <td>3</td>\n",
       "      <td>2</td>\n",
       "      <td>1</td>\n",
       "      <td>2016</td>\n",
       "    </tr>\n",
       "    <tr>\n",
       "      <th>3</th>\n",
       "      <td>0</td>\n",
       "      <td>1</td>\n",
       "      <td>0</td>\n",
       "      <td>Premier_league</td>\n",
       "      <td>1</td>\n",
       "      <td>3</td>\n",
       "      <td>1</td>\n",
       "      <td>Hull City</td>\n",
       "      <td>2016-2017</td>\n",
       "      <td>1</td>\n",
       "      <td></td>\n",
       "      <td>2</td>\n",
       "      <td>1</td>\n",
       "      <td>2016</td>\n",
       "    </tr>\n",
       "    <tr>\n",
       "      <th>4</th>\n",
       "      <td>0</td>\n",
       "      <td>1</td>\n",
       "      <td>0</td>\n",
       "      <td>Premier_league</td>\n",
       "      <td>1</td>\n",
       "      <td>3</td>\n",
       "      <td>1</td>\n",
       "      <td>Manchester City</td>\n",
       "      <td>2016-2017</td>\n",
       "      <td>1</td>\n",
       "      <td></td>\n",
       "      <td>2</td>\n",
       "      <td>1</td>\n",
       "      <td>2016</td>\n",
       "    </tr>\n",
       "  </tbody>\n",
       "</table>\n",
       "</div>"
      ],
      "text/plain": [
       "  Empates Saldo Derrotas            Liga  M Pontos  Rodada               Time  \\\n",
       "0       0     2        0  Premier_league  1      3       1  Manchester United   \n",
       "1       0     1        0  Premier_league  1      3       1       Liverpool FC   \n",
       "2       0     1        0  Premier_league  1      3       1         Chelsea FC   \n",
       "3       0     1        0  Premier_league  1      3       1          Hull City   \n",
       "4       0     1        0  Premier_league  1      3       1    Manchester City   \n",
       "\n",
       "   Temporada Vitorias rank Gols_pro Gols_con  Ano_inicio  \n",
       "0  2016-2017        1    1        3        1        2016  \n",
       "1  2016-2017        1    2        4        3        2016  \n",
       "2  2016-2017        1    3        2        1        2016  \n",
       "3  2016-2017        1             2        1        2016  \n",
       "4  2016-2017        1             2        1        2016  "
      ]
     },
     "execution_count": 37,
     "metadata": {},
     "output_type": "execute_result"
    }
   ],
   "source": [
    "df_rank.head()"
   ]
  },
  {
   "cell_type": "code",
   "execution_count": 44,
   "metadata": {},
   "outputs": [],
   "source": [
    "dict= {str('ano'): ano for ano in df_rank['Ano_inicio'].unique()}"
   ]
  },
  {
   "cell_type": "code",
   "execution_count": 75,
   "metadata": {},
   "outputs": [
    {
     "data": {
      "text/plain": [
       "[{'label': '2015-2016', 'value': 2015},\n",
       " {'label': '2016-2017', 'value': 2016},\n",
       " {'label': '2017-2018', 'value': 2017}]"
      ]
     },
     "execution_count": 75,
     "metadata": {},
     "output_type": "execute_result"
    }
   ],
   "source": [
    "[{'label':ano[0],'value': ano[1] }for ano in  df2.itertuples(index=False)]"
   ]
  },
  {
   "cell_type": "code",
   "execution_count": 73,
   "metadata": {},
   "outputs": [],
   "source": [
    "df2 = df_rank[['Temporada','Ano_inicio']].drop_duplicates().sort_values(by='Ano_inicio')"
   ]
  },
  {
   "cell_type": "code",
   "execution_count": 38,
   "metadata": {},
   "outputs": [],
   "source": [
    "#salva arquivo\n",
    "df_rank.to_csv('/media/sf_FormacaoCientistaDeDados/Portfolio/Dashboard/Data/tabela_final.csv')"
   ]
  },
  {
   "cell_type": "markdown",
   "metadata": {},
   "source": [
    "## 1- Criar campo 'Temporada'\n",
    "## 2- Criar Campo 'Liga'\n",
    "## 3- Criar Coleção 'Publico'\n",
    "## 4- Unificar as ligas em um unico banco e 4 coleçoes  "
   ]
  },
  {
   "cell_type": "code",
   "execution_count": null,
   "metadata": {},
   "outputs": [],
   "source": []
  }
 ],
 "metadata": {
  "kernelspec": {
   "display_name": "Python 3",
   "language": "python",
   "name": "python3"
  },
  "language_info": {
   "codemirror_mode": {
    "name": "ipython",
    "version": 3
   },
   "file_extension": ".py",
   "mimetype": "text/x-python",
   "name": "python",
   "nbconvert_exporter": "python",
   "pygments_lexer": "ipython3",
   "version": "3.6.3"
  }
 },
 "nbformat": 4,
 "nbformat_minor": 2
}
