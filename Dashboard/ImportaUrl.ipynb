{
 "cells": [
  {
   "cell_type": "code",
   "execution_count": 1,
   "metadata": {},
   "outputs": [],
   "source": [
    "from Load_tables import *\n",
    "#import load_tables"
   ]
  },
  {
   "cell_type": "code",
   "execution_count": 2,
   "metadata": {},
   "outputs": [
    {
     "name": "stdout",
     "output_type": "stream",
     "text": [
      "<pymongo.results.InsertManyResult object at 0x7f945d9eef48>\n"
     ]
    },
    {
     "ename": "NameError",
     "evalue": "name 'Carrega_Publico' is not defined",
     "output_type": "error",
     "traceback": [
      "\u001b[0;31m---------------------------------------------------------------------------\u001b[0m",
      "\u001b[0;31mNameError\u001b[0m                                 Traceback (most recent call last)",
      "\u001b[0;32m<ipython-input-2-de2a18d7e36f>\u001b[0m in \u001b[0;36m<module>\u001b[0;34m()\u001b[0m\n\u001b[1;32m     38\u001b[0m     \u001b[0murl\u001b[0m \u001b[0;34m=\u001b[0m \u001b[0;34m'https://www.worldfootball.net/attendance/eng-premier-league-'\u001b[0m\u001b[0;34m+\u001b[0m\u001b[0mtemporada\u001b[0m\u001b[0;34m+\u001b[0m\u001b[0;34m'/1/'\u001b[0m\u001b[0;34m\u001b[0m\u001b[0m\n\u001b[1;32m     39\u001b[0m \u001b[0;34m\u001b[0m\u001b[0m\n\u001b[0;32m---> 40\u001b[0;31m     \u001b[0mCarrega_Publico\u001b[0m\u001b[0;34m(\u001b[0m\u001b[0murl\u001b[0m\u001b[0;34m,\u001b[0m\u001b[0mliga\u001b[0m\u001b[0;34m,\u001b[0m\u001b[0mtemporada\u001b[0m\u001b[0;34m)\u001b[0m\u001b[0;34m\u001b[0m\u001b[0m\n\u001b[0m\u001b[1;32m     41\u001b[0m \u001b[0;34m\u001b[0m\u001b[0m\n\u001b[1;32m     42\u001b[0m \u001b[0;34m\u001b[0m\u001b[0m\n",
      "\u001b[0;31mNameError\u001b[0m: name 'Carrega_Publico' is not defined"
     ]
    }
   ],
   "source": [
    "########### Premier League ###########\n",
    "\n",
    "\n",
    "#banco = 'Ligas_Futebol'\n",
    "\n",
    "temporada_ini=2015\n",
    "#temporada_fim=1991\n",
    "\n",
    "\n",
    "liga ='Premier_league'\n",
    "\n",
    "for ano in range(temporada_ini,2018):\n",
    "    temporada = str(ano)+'-'+str(ano + 1)\n",
    "    url = 'https://www.worldfootball.net/schedule/eng-premier-league-'+temporada+'-spieltag/'\n",
    "\n",
    "    #Carrega Tabela de Classificacao\n",
    "    for rodada in range(1,39):\n",
    "        #concatena a url com o numero da rodada\n",
    "        link = url + str(rodada) + '/'\n",
    "        #carrega tabela no Mongodb\n",
    "        Carrega_table(link,liga,rodada,temporada)\n",
    "    \n",
    "     #Carrega Partidas\n",
    "    url = 'https://www.worldfootball.net/schedule/eng-premier-league-'+temporada+'-spieltag/'\n",
    "\n",
    "    for rodada in range(1,39):\n",
    "        #concatena a url com o numero da rodada\n",
    "        link = url + str(rodada) + '/'\n",
    "        #carrega tabela no Mongodb\n",
    "        Carrega_placar(link,liga,rodada,temporada)\n",
    "\n",
    "    #Carrega Artilharia e Assistencia\n",
    "    url = 'https://www.worldfootball.net/scorer/eng-premier-league-'+temporada+'/'\n",
    "\n",
    "    Carrega_art_ass(url,liga,temporada)\n",
    "\n",
    "    #Carrega Publico\n",
    "    url = 'https://www.worldfootball.net/attendance/eng-premier-league-'+temporada+'/1/'\n",
    "\n",
    "    Carrega_publico(url,liga,temporada)\n",
    "\n",
    "       \n",
    "    \n",
    "    \n",
    "\n"
   ]
  },
  {
   "cell_type": "code",
   "execution_count": 4,
   "metadata": {},
   "outputs": [
    {
     "name": "stdout",
     "output_type": "stream",
     "text": [
      "<pymongo.results.InsertManyResult object at 0x7fad29277f48>\n",
      "<pymongo.results.InsertManyResult object at 0x7fad29585088>\n",
      "<pymongo.results.InsertManyResult object at 0x7fad29947b48>\n"
     ]
    }
   ],
   "source": [
    "########### Bundesliga ###########\n",
    "\n",
    "temporada_ini=2015\n",
    "#temporada_fim=1991\n",
    "liga ='Bundesliga'\n",
    "\n",
    "\n",
    "for ano in range(temporada_ini,2018):\n",
    "    temporada = str(ano)+'-'+str(ano + 1)\n",
    "    url = 'https://www.worldfootball.net/schedule/bundesliga-'+temporada+'-spieltag/'\n",
    "\n",
    "    #Carrega Tabela de Classificacao\n",
    "    for rodada in range(1,35):\n",
    "        #concatena a url com o numero da rodada\n",
    "        link = url + str(rodada) + '/'\n",
    "        #carrega tabela no Mongodb\n",
    "        Carrega_table(link,liga,rodada,temporada)\n",
    "\n",
    "    #Carrega Partidas\n",
    "\n",
    "    url= 'https://www.worldfootball.net/schedule/bundesliga-'+temporada+'-spieltag/'\n",
    "\n",
    "    for rodada in range(1,35):\n",
    "        #concatena a url com o numero da rodada\n",
    "        link = url + str(rodada) + '/'\n",
    "        #carrega tabela no Mongodb\n",
    "        Carrega_placar(link,liga,rodada,temporada)\n",
    "\n",
    "    #Carrega Artilharia e Assistencia\n",
    "    url = 'https://www.worldfootball.net/scorer/bundesliga-'+temporada+'/'\n",
    "\n",
    "    Carrega_art_ass(url,liga,temporada)\n",
    "    \n",
    "    #Carrega Publico\n",
    "    url = 'https://www.worldfootball.net/attendance/bundesliga-'+temporada+'/1/'\n",
    "\n",
    "    Carrega_publico(url,liga,temporada)\n",
    "\n"
   ]
  },
  {
   "cell_type": "code",
   "execution_count": 12,
   "metadata": {},
   "outputs": [
    {
     "name": "stdout",
     "output_type": "stream",
     "text": [
      "<pymongo.results.InsertManyResult object at 0x7fad297c9948>\n"
     ]
    }
   ],
   "source": [
    "########### Laliga ###########\n",
    "\n",
    "\n",
    "temporada_ini=2017\n",
    "#temporada_fim=1991\n",
    "liga ='Laliga'\n",
    "\n",
    "\n",
    "for ano in range(temporada_ini,2018):\n",
    "    temporada = str(ano)+'-'+str(ano + 1)\n",
    "    url = 'https://www.worldfootball.net/schedule/esp-primera-division-'+temporada+'-spieltag/'\n",
    "\n",
    "    #Carrega Tabela de Classificacao\n",
    "    for rodada in range(1,39):\n",
    "        #concatena a url com o numero da rodada\n",
    "        link = url + str(rodada) + '/'\n",
    "        #carrega tabela no Mongodb\n",
    "        Carrega_table(link,liga,rodada,temporada)\n",
    "\n",
    "    #Carrega Partidas\n",
    "\n",
    "    url = 'https://www.worldfootball.net/schedule/esp-primera-division-'+temporada+'-spieltag/'\n",
    "\n",
    "    for rodada in range(1,39):\n",
    "        #concatena a url com o numero da rodada\n",
    "        link = url + str(rodada) + '/'\n",
    "        #carrega tabela no Mongodb\n",
    "        Carrega_placar(link,liga,rodada,temporada)\n",
    "\n",
    "    #Carrega Artilharia e Assistencia\n",
    "    url = 'https://www.worldfootball.net/scorer/esp-primera-division-'+temporada+'/'\n",
    "\n",
    "    Carrega_art_ass(url,liga,temporada)\n",
    "    \n",
    "    #Carrega Publico\n",
    "    url = 'https://www.worldfootball.net/attendance/esp-primera-division-'+temporada+'/1/'\n",
    "\n",
    "    Carrega_publico(url,liga,temporada)\n",
    "    \n"
   ]
  },
  {
   "cell_type": "code",
   "execution_count": 9,
   "metadata": {},
   "outputs": [
    {
     "name": "stdout",
     "output_type": "stream",
     "text": [
      "<pymongo.results.InsertManyResult object at 0x7fad2968d308>\n",
      "<pymongo.results.InsertManyResult object at 0x7fad28ed9b48>\n",
      "<pymongo.results.InsertManyResult object at 0x7fad28395888>\n"
     ]
    }
   ],
   "source": [
    "########### SerieA ###########\n",
    "\n",
    "\n",
    "temporada_ini=2015\n",
    "#temporada_fim=1991\n",
    "liga ='SerieA'\n",
    "\n",
    "\n",
    "for ano in range(temporada_ini,2018):\n",
    "    temporada = str(ano)+'-'+str(ano + 1)\n",
    "    url = 'https://www.worldfootball.net/schedule/ita-serie-a-'+temporada+'-spieltag/'\n",
    "\n",
    "    #Carrega Tabela de Classificacao\n",
    "    for rodada in range(1,39):\n",
    "        #concatena a url com o numero da rodada\n",
    "        link = url + str(rodada) + '/'\n",
    "        #carrega tabela no Mongodb\n",
    "        Carrega_table(link,liga,rodada,temporada)\n",
    "\n",
    "    #Carrega Partidas\n",
    "\n",
    "    url = 'https://www.worldfootball.net/schedule/ita-serie-a-'+temporada+'-spieltag/'\n",
    "\n",
    "    for rodada in range(1,39):\n",
    "        #concatena a url com o numero da rodada\n",
    "        link = url + str(rodada) + '/'\n",
    "        #carrega tabela no Mongodb\n",
    "        Carrega_placar(link,liga,rodada,temporada)\n",
    "\n",
    "    #Carrega Artilharia e Assistencia\n",
    "    url = 'https://www.worldfootball.net/scorer/ita-serie-a-'+temporada+'/'\n",
    "\n",
    "    Carrega_art_ass(url,liga,temporada)\n",
    "\n",
    "    #Carrega Publico\n",
    "    url = 'https://www.worldfootball.net/attendance/ita-serie-a-'+temporada+'/1/'\n",
    "\n",
    "    Carrega_publico(url,liga,temporada)\n",
    "    "
   ]
  },
  {
   "cell_type": "code",
   "execution_count": 9,
   "metadata": {},
   "outputs": [
    {
     "name": "stdout",
     "output_type": "stream",
     "text": [
      "<pymongo.results.InsertManyResult object at 0x7f7e207d0508>\n",
      "<pymongo.results.InsertManyResult object at 0x7f7e206d58c8>\n",
      "<pymongo.results.InsertManyResult object at 0x7f7e20781bc8>\n"
     ]
    }
   ],
   "source": [
    "########### Premier League ###########\n",
    "\n",
    "\n",
    "#banco = 'Ligas_Futebol'\n",
    "\n",
    "temporada_ini=2015\n",
    "#temporada_fim=1991\n",
    "\n",
    "\n",
    "liga ='Premier_league'\n",
    "\n",
    "for ano in range(temporada_ini,2018):\n",
    "    temporada = str(ano)+'-'+str(ano + 1)\n",
    " \n",
    "\n",
    "    #Carrega Publico\n",
    "    url = 'https://www.worldfootball.net/attendance/eng-premier-league-'+temporada+'/1/'\n",
    "\n",
    "    Carrega_publico(url,liga,temporada)\n",
    "\n",
    "       \n",
    "    \n",
    "    \n",
    "\n"
   ]
  },
  {
   "cell_type": "code",
   "execution_count": 7,
   "metadata": {},
   "outputs": [],
   "source": [
    "from pymongo import MongoClient "
   ]
  },
  {
   "cell_type": "code",
   "execution_count": 8,
   "metadata": {},
   "outputs": [],
   "source": [
    "conn = MongoClient('localhost',27017)"
   ]
  },
  {
   "cell_type": "code",
   "execution_count": 33,
   "metadata": {},
   "outputs": [
    {
     "data": {
      "text/plain": [
       "['Bundesliga', 'Laliga', 'PremierLeague', 'SerieA', 'admin', 'local']"
      ]
     },
     "execution_count": 33,
     "metadata": {},
     "output_type": "execute_result"
    }
   ],
   "source": [
    "#lista database\n",
    "conn.list_database_names()"
   ]
  },
  {
   "cell_type": "code",
   "execution_count": 30,
   "metadata": {},
   "outputs": [],
   "source": [
    "#CriacaConexao do Banco\n",
    "db = conn.PremierLeague"
   ]
  },
  {
   "cell_type": "code",
   "execution_count": 31,
   "metadata": {},
   "outputs": [
    {
     "data": {
      "text/plain": [
       "['PremierLeague_Table', 'Rodadas', 'score', 'Rank']"
      ]
     },
     "execution_count": 31,
     "metadata": {},
     "output_type": "execute_result"
    }
   ],
   "source": [
    "#lista as collections\n",
    "db.list_collection_names()"
   ]
  },
  {
   "cell_type": "code",
   "execution_count": 27,
   "metadata": {},
   "outputs": [],
   "source": [
    "Premier_collection = db['score']"
   ]
  },
  {
   "cell_type": "code",
   "execution_count": 28,
   "metadata": {},
   "outputs": [
    {
     "data": {
      "text/plain": [
       "307"
      ]
     },
     "execution_count": 28,
     "metadata": {},
     "output_type": "execute_result"
    }
   ],
   "source": [
    "#Lista documentos\n",
    "Premier_collection.estimated_document_count()"
   ]
  },
  {
   "cell_type": "code",
   "execution_count": 11,
   "metadata": {},
   "outputs": [],
   "source": [
    "#lista os valores\n",
    "#for rodadas in Premier_collection.find({'Rodada':{\"$gte\":'1'}}):\n",
    "for rodadas in Premier_collection.find({'Rodada':1}):\n",
    "    print(rodadas)"
   ]
  },
  {
   "cell_type": "code",
   "execution_count": 11,
   "metadata": {},
   "outputs": [
    {
     "name": "stdout",
     "output_type": "stream",
     "text": [
      "nok\n"
     ]
    }
   ],
   "source": [
    "ro='1'\n",
    "if Premier_collection.find_one({'Rodada': ro}):\n",
    "    print('ok')\n",
    "else:\n",
    "    print('nok')\n",
    "    \n",
    "    "
   ]
  },
  {
   "cell_type": "code",
   "execution_count": 9,
   "metadata": {},
   "outputs": [
    {
     "data": {
      "text/plain": [
       "<pymongo.results.DeleteResult at 0x7ff30e907e08>"
      ]
     },
     "execution_count": 9,
     "metadata": {},
     "output_type": "execute_result"
    }
   ],
   "source": [
    "#remove todos os documentos\n",
    "Premier_collection.delete_many({})"
   ]
  },
  {
   "cell_type": "code",
   "execution_count": 29,
   "metadata": {},
   "outputs": [
    {
     "data": {
      "text/plain": [
       "{'': '',\n",
       " 'Country': 'Poland',\n",
       " 'Player': 'Robert Lewandowski',\n",
       " 'Rodada': 8,\n",
       " 'Team': 'Bayern München',\n",
       " '_id': ObjectId('5bd5016581a0d51c5c2cc76c'),\n",
       " 'ass': '4',\n",
       " 'gols': '29',\n",
       " 'points': ['33(29', '4)'],\n",
       " 'rank': '1.'}"
      ]
     },
     "execution_count": 29,
     "metadata": {},
     "output_type": "execute_result"
    }
   ],
   "source": [
    "Premier_collection.find_one()"
   ]
  },
  {
   "cell_type": "code",
   "execution_count": 32,
   "metadata": {},
   "outputs": [
    {
     "data": {
      "text/plain": [
       "{'nIndexesWas': 1, 'ns': 'PremierLeague.PremierLeague_Table', 'ok': 1.0}"
      ]
     },
     "execution_count": 32,
     "metadata": {},
     "output_type": "execute_result"
    }
   ],
   "source": [
    "#Remove database\n",
    "db.drop_collection('PremierLeague_Table')"
   ]
  },
  {
   "cell_type": "code",
   "execution_count": 28,
   "metadata": {},
   "outputs": [],
   "source": [
    "conn.drop_database('Bundelisga')"
   ]
  },
  {
   "cell_type": "code",
   "execution_count": null,
   "metadata": {},
   "outputs": [],
   "source": []
  }
 ],
 "metadata": {
  "kernelspec": {
   "display_name": "Python 3",
   "language": "python",
   "name": "python3"
  },
  "language_info": {
   "codemirror_mode": {
    "name": "ipython",
    "version": 3
   },
   "file_extension": ".py",
   "mimetype": "text/x-python",
   "name": "python",
   "nbconvert_exporter": "python",
   "pygments_lexer": "ipython3",
   "version": "3.6.3"
  }
 },
 "nbformat": 4,
 "nbformat_minor": 2
}
