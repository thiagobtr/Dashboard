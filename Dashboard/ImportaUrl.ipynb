{
 "cells": [
  {
   "cell_type": "code",
   "execution_count": 1,
   "metadata": {},
   "outputs": [],
   "source": [
    "from Load_tables import *\n",
    "#import load_tables"
   ]
  },
  {
   "cell_type": "code",
   "execution_count": 2,
   "metadata": {},
   "outputs": [
    {
     "name": "stdout",
     "output_type": "stream",
     "text": [
      "<pymongo.results.InsertManyResult object at 0x7f15342fa708>\n",
      "<pymongo.results.InsertManyResult object at 0x7f1533113088>\n",
      "<pymongo.results.InsertManyResult object at 0x7f1532f879c8>\n",
      "<pymongo.results.InsertManyResult object at 0x7f1532dfe388>\n",
      "<pymongo.results.InsertManyResult object at 0x7f1532cefc48>\n",
      "<pymongo.results.InsertManyResult object at 0x7f1532e79b08>\n",
      "<pymongo.results.InsertManyResult object at 0x7f15329de0c8>\n",
      "<pymongo.results.InsertManyResult object at 0x7f1532851a08>\n",
      "<pymongo.results.InsertManyResult object at 0x7f15326c63c8>\n",
      "<pymongo.results.InsertManyResult object at 0x7f15325b8cc8>\n",
      "<pymongo.results.InsertManyResult object at 0x7f1532cefa88>\n",
      "<pymongo.results.InsertManyResult object at 0x7f1532b6a048>\n",
      "<pymongo.results.InsertManyResult object at 0x7f15329b9988>\n",
      "<pymongo.results.InsertManyResult object at 0x7f15330eec48>\n",
      "<pymongo.results.InsertManyResult object at 0x7f153273bcc8>\n",
      "<pymongo.results.InsertManyResult object at 0x7f1532b07688>\n",
      "<pymongo.results.InsertManyResult object at 0x7f15331a6088>\n",
      "<pymongo.results.InsertManyResult object at 0x7f1532ed79c8>\n",
      "<pymongo.results.InsertManyResult object at 0x7f1532c0a388>\n",
      "<pymongo.results.InsertManyResult object at 0x7f15329fdc48>\n",
      "<pymongo.results.InsertManyResult object at 0x7f15324316c8>\n",
      "<pymongo.results.InsertManyResult object at 0x7f1534c3ef88>\n",
      "<pymongo.results.InsertManyResult object at 0x7f1532b07348>\n",
      "<pymongo.results.InsertManyResult object at 0x7f153c023848>\n",
      "<pymongo.results.InsertManyResult object at 0x7f1532b5c308>\n",
      "<pymongo.results.InsertManyResult object at 0x7f15328c6c88>\n",
      "<pymongo.results.InsertManyResult object at 0x7f15328c8e08>\n",
      "<pymongo.results.InsertManyResult object at 0x7f15331e3048>\n",
      "<pymongo.results.InsertManyResult object at 0x7f1532fd4988>\n",
      "<pymongo.results.InsertManyResult object at 0x7f1532d04348>\n",
      "<pymongo.results.InsertManyResult object at 0x7f1532d014c8>\n",
      "<pymongo.results.InsertManyResult object at 0x7f1532673688>\n",
      "<pymongo.results.InsertManyResult object at 0x7f153c089fc8>\n",
      "<pymongo.results.InsertManyResult object at 0x7f1532437048>\n",
      "<pymongo.results.InsertManyResult object at 0x7f15326bd948>\n",
      "<pymongo.results.InsertManyResult object at 0x7f15343b9308>\n",
      "<pymongo.results.InsertManyResult object at 0x7f1532a29c88>\n",
      "<pymongo.results.InsertManyResult object at 0x7f1532784648>\n",
      "<pymongo.results.InsertManyResult object at 0x7f153267e8c8>\n"
     ]
    }
   ],
   "source": [
    "########### Premier League ###########\n",
    "\n",
    "\n",
    "banco = 'PremierLeague'\n",
    "\n",
    "url = 'https://www.worldfootball.net/schedule/eng-premier-league-2017-2018-spieltag/'\n",
    "\n",
    "#Carrega Tabela de Classificacao\n",
    "for rodada in range(1,39):\n",
    "    #concatena a url com o numero da rodada\n",
    "    url = url + str(rodada) + '/'\n",
    "    #carrega tabela no Mongodb\n",
    "    Carrega_table(url,rodada,banco)\n",
    "    \n",
    "#Carrega Partidas\n",
    "\n",
    "url = 'https://www.worldfootball.net/schedule/eng-premier-league-2017-2018-spieltag/'\n",
    "    \n",
    "for rodada in range(1,39):\n",
    "    #concatena a url com o numero da rodada\n",
    "    url = url + str(rodada) + '/'\n",
    "    #carrega tabela no Mongodb\n",
    "    Carrega_placar(url,rodada,banco)\n",
    "\n",
    "#CArrega Artilharia e Assistencia\n",
    "url = 'https://www.worldfootball.net/scorer/eng-premier-league-2017-2018/'\n",
    "\n",
    "Carrega_art_ass(url,38,banco)\n",
    "    \n"
   ]
  },
  {
   "cell_type": "code",
   "execution_count": 3,
   "metadata": {},
   "outputs": [
    {
     "name": "stdout",
     "output_type": "stream",
     "text": [
      "<pymongo.results.InsertManyResult object at 0x7f15325f0d08>\n",
      "<pymongo.results.InsertManyResult object at 0x7f15343c1588>\n",
      "<pymongo.results.InsertManyResult object at 0x7f1532ccb688>\n",
      "<pymongo.results.InsertManyResult object at 0x7f1532f13108>\n",
      "<pymongo.results.InsertManyResult object at 0x7f1533174688>\n",
      "<pymongo.results.InsertManyResult object at 0x7f1532a93c48>\n",
      "<pymongo.results.InsertManyResult object at 0x7f153277a248>\n",
      "<pymongo.results.InsertManyResult object at 0x7f15342ee388>\n",
      "<pymongo.results.InsertManyResult object at 0x7f1532f11a48>\n",
      "<pymongo.results.InsertManyResult object at 0x7f15325ea108>\n",
      "<pymongo.results.InsertManyResult object at 0x7f1534c35c88>\n",
      "<pymongo.results.InsertManyResult object at 0x7f1532bfeb88>\n",
      "<pymongo.results.InsertManyResult object at 0x7f1532ac7f88>\n",
      "<pymongo.results.InsertManyResult object at 0x7f1532dc3748>\n",
      "<pymongo.results.InsertManyResult object at 0x7f1533041d08>\n",
      "<pymongo.results.InsertManyResult object at 0x7f1532ee0308>\n",
      "<pymongo.results.InsertManyResult object at 0x7f15329c78c8>\n",
      "<pymongo.results.InsertManyResult object at 0x7f15325ace88>\n",
      "<pymongo.results.InsertManyResult object at 0x7f1532784908>\n",
      "<pymongo.results.InsertManyResult object at 0x7f1534c35648>\n",
      "<pymongo.results.InsertManyResult object at 0x7f1532c0ec88>\n",
      "<pymongo.results.InsertManyResult object at 0x7f1532bbb588>\n",
      "<pymongo.results.InsertManyResult object at 0x7f1532413b48>\n",
      "<pymongo.results.InsertManyResult object at 0x7f1532b1f188>\n",
      "<pymongo.results.InsertManyResult object at 0x7f1532a13708>\n",
      "<pymongo.results.InsertManyResult object at 0x7f1532929cc8>\n",
      "<pymongo.results.InsertManyResult object at 0x7f15330a42c8>\n",
      "<pymongo.results.InsertManyResult object at 0x7f1532ce2888>\n",
      "<pymongo.results.InsertManyResult object at 0x7f1532eaee48>\n",
      "<pymongo.results.InsertManyResult object at 0x7f1532687288>\n",
      "<pymongo.results.InsertManyResult object at 0x7f153307e9c8>\n",
      "<pymongo.results.InsertManyResult object at 0x7f1532c8bc88>\n",
      "<pymongo.results.InsertManyResult object at 0x7f15330c2588>\n",
      "<pymongo.results.InsertManyResult object at 0x7f1532e2bb48>\n",
      "<pymongo.results.InsertManyResult object at 0x7f1532eea348>\n"
     ]
    }
   ],
   "source": [
    "########### Bundesliga ###########\n",
    "\n",
    "\n",
    "banco = 'Bundesliga'\n",
    "\n",
    "url = 'https://www.worldfootball.net/schedule/bundesliga-2017-2018-spieltag/'\n",
    "\n",
    "#Carrega Tabela de Classificacao\n",
    "for rodada in range(1,35):\n",
    "    #concatena a url com o numero da rodada\n",
    "    url = url + str(rodada) + '/'\n",
    "    #carrega tabela no Mongodb\n",
    "    Carrega_table(url,rodada,banco)\n",
    "    \n",
    "#Carrega Partidas\n",
    "\n",
    "url= 'https://www.worldfootball.net/schedule/bundesliga-2017-2018-spieltag/34/'\n",
    "    \n",
    "for rodada in range(1,35):\n",
    "    #concatena a url com o numero da rodada\n",
    "    url = url + str(rodada) + '/'\n",
    "    #carrega tabela no Mongodb\n",
    "    Carrega_placar(url,rodada,banco)\n",
    "\n",
    "#CArrega Artilharia e Assistencia\n",
    "url = 'https://www.worldfootball.net/scorer/bundesliga-2017-2018/'\n",
    "\n",
    "Carrega_art_ass(url,38,banco)\n",
    "    \n"
   ]
  },
  {
   "cell_type": "code",
   "execution_count": 5,
   "metadata": {},
   "outputs": [
    {
     "name": "stdout",
     "output_type": "stream",
     "text": [
      "<pymongo.results.InsertManyResult object at 0x7f15323d2b48>\n",
      "<pymongo.results.InsertManyResult object at 0x7f153325ed08>\n",
      "<pymongo.results.InsertManyResult object at 0x7f153325e988>\n",
      "<pymongo.results.InsertManyResult object at 0x7f1532dfba88>\n",
      "<pymongo.results.InsertManyResult object at 0x7f15330acb88>\n",
      "<pymongo.results.InsertManyResult object at 0x7f15332237c8>\n",
      "<pymongo.results.InsertManyResult object at 0x7f15326f6108>\n",
      "<pymongo.results.InsertManyResult object at 0x7f1532d19ec8>\n",
      "<pymongo.results.InsertManyResult object at 0x7f1532f43d08>\n",
      "<pymongo.results.InsertManyResult object at 0x7f15330db508>\n",
      "<pymongo.results.InsertManyResult object at 0x7f1532aad988>\n",
      "<pymongo.results.InsertManyResult object at 0x7f15312177c8>\n",
      "<pymongo.results.InsertManyResult object at 0x7f1532ab12c8>\n",
      "<pymongo.results.InsertManyResult object at 0x7f153300eac8>\n",
      "<pymongo.results.InsertManyResult object at 0x7f15330f2608>\n",
      "<pymongo.results.InsertManyResult object at 0x7f15325f2448>\n",
      "<pymongo.results.InsertManyResult object at 0x7f15330ef788>\n",
      "<pymongo.results.InsertManyResult object at 0x7f1533223808>\n",
      "<pymongo.results.InsertManyResult object at 0x7f1532821288>\n",
      "<pymongo.results.InsertManyResult object at 0x7f1532911108>\n",
      "<pymongo.results.InsertManyResult object at 0x7f1534362ec8>\n",
      "<pymongo.results.InsertManyResult object at 0x7f153289dd08>\n",
      "<pymongo.results.InsertManyResult object at 0x7f1534303e88>\n",
      "<pymongo.results.InsertManyResult object at 0x7f1532b9a988>\n",
      "<pymongo.results.InsertManyResult object at 0x7f153300e6c8>\n",
      "<pymongo.results.InsertManyResult object at 0x7f153283a788>\n",
      "<pymongo.results.InsertManyResult object at 0x7f15343435c8>\n",
      "<pymongo.results.InsertManyResult object at 0x7f1532e0a408>\n",
      "<pymongo.results.InsertManyResult object at 0x7f1534381048>\n",
      "<pymongo.results.InsertManyResult object at 0x7f1532de1108>\n",
      "<pymongo.results.InsertManyResult object at 0x7f1532fabe88>\n",
      "<pymongo.results.InsertManyResult object at 0x7f153295ecc8>\n",
      "<pymongo.results.InsertManyResult object at 0x7f153263db08>\n",
      "<pymongo.results.InsertManyResult object at 0x7f15331af948>\n",
      "<pymongo.results.InsertManyResult object at 0x7f1531296788>\n",
      "<pymongo.results.InsertManyResult object at 0x7f15324b73c8>\n",
      "<pymongo.results.InsertManyResult object at 0x7f15331ba788>\n",
      "<pymongo.results.InsertManyResult object at 0x7f1532dff5c8>\n",
      "<pymongo.results.InsertManyResult object at 0x7f1532ec9108>\n"
     ]
    }
   ],
   "source": [
    "########### Laliga ###########\n",
    "\n",
    "\n",
    "banco = 'Laliga'\n",
    "\n",
    "url = 'https://www.worldfootball.net/schedule/esp-primera-division-2017-2018-spieltag/'\n",
    "\n",
    "#Carrega Tabela de Classificacao\n",
    "for rodada in range(1,39):\n",
    "    #concatena a url com o numero da rodada\n",
    "    url = url + str(rodada) + '/'\n",
    "    #carrega tabela no Mongodb\n",
    "    Carrega_table(url,rodada,banco)\n",
    "    \n",
    "#Carrega Partidas\n",
    "\n",
    "url = 'https://www.worldfootball.net/schedule/esp-primera-division-2017-2018-spieltag/'\n",
    "    \n",
    "for rodada in range(1,39):\n",
    "    #concatena a url com o numero da rodada\n",
    "    url = url + str(rodada) + '/'\n",
    "    #carrega tabela no Mongodb\n",
    "    Carrega_placar(url,rodada,banco)\n",
    "\n",
    "#Carrega Artilharia e Assistencia\n",
    "url = 'https://www.worldfootball.net/scorer/esp-primera-division-2017-2018/'\n",
    "\n",
    "Carrega_art_ass(url,38,banco)\n",
    "    \n"
   ]
  },
  {
   "cell_type": "code",
   "execution_count": 6,
   "metadata": {},
   "outputs": [
    {
     "name": "stdout",
     "output_type": "stream",
     "text": [
      "<pymongo.results.InsertManyResult object at 0x7f1533223208>\n",
      "<pymongo.results.InsertManyResult object at 0x7f1532492dc8>\n",
      "<pymongo.results.InsertManyResult object at 0x7f15328e0388>\n",
      "<pymongo.results.InsertManyResult object at 0x7f1532c52908>\n",
      "<pymongo.results.InsertManyResult object at 0x7f15329c7e88>\n",
      "<pymongo.results.InsertManyResult object at 0x7f1532eba448>\n",
      "<pymongo.results.InsertManyResult object at 0x7f15324bc248>\n",
      "<pymongo.results.InsertManyResult object at 0x7f15324bcac8>\n",
      "<pymongo.results.InsertManyResult object at 0x7f152bebf1c8>\n",
      "<pymongo.results.InsertManyResult object at 0x7f152bd27a08>\n",
      "<pymongo.results.InsertManyResult object at 0x7f152be46988>\n",
      "<pymongo.results.InsertManyResult object at 0x7f1532784c88>\n",
      "<pymongo.results.InsertManyResult object at 0x7f152be9d3c8>\n",
      "<pymongo.results.InsertManyResult object at 0x7f152bf96e48>\n",
      "<pymongo.results.InsertManyResult object at 0x7f152bf9fec8>\n",
      "<pymongo.results.InsertManyResult object at 0x7f15324f8d48>\n",
      "<pymongo.results.InsertManyResult object at 0x7f1532f60308>\n",
      "<pymongo.results.InsertManyResult object at 0x7f1533058888>\n",
      "<pymongo.results.InsertManyResult object at 0x7f15311ffe08>\n",
      "<pymongo.results.InsertManyResult object at 0x7f152bf0fc88>\n",
      "<pymongo.results.InsertManyResult object at 0x7f153314e948>\n",
      "<pymongo.results.InsertManyResult object at 0x7f1533173308>\n",
      "<pymongo.results.InsertManyResult object at 0x7f1532e27388>\n",
      "<pymongo.results.InsertManyResult object at 0x7f1532d3b788>\n",
      "<pymongo.results.InsertManyResult object at 0x7f1532fa8248>\n",
      "<pymongo.results.InsertManyResult object at 0x7f15331f87c8>\n",
      "<pymongo.results.InsertManyResult object at 0x7f152bd18d48>\n",
      "<pymongo.results.InsertManyResult object at 0x7f1531159308>\n",
      "<pymongo.results.InsertManyResult object at 0x7f1532817888>\n",
      "<pymongo.results.InsertManyResult object at 0x7f15326bce08>\n",
      "<pymongo.results.InsertManyResult object at 0x7f15325df888>\n",
      "<pymongo.results.InsertManyResult object at 0x7f1532ae1908>\n",
      "<pymongo.results.InsertManyResult object at 0x7f1532588e88>\n",
      "<pymongo.results.InsertManyResult object at 0x7f15331cd648>\n",
      "<pymongo.results.InsertManyResult object at 0x7f15328356c8>\n",
      "<pymongo.results.InsertManyResult object at 0x7f153249fc48>\n",
      "<pymongo.results.InsertManyResult object at 0x7f1532c30208>\n",
      "<pymongo.results.InsertManyResult object at 0x7f152bd24788>\n",
      "<pymongo.results.InsertManyResult object at 0x7f15311b5788>\n"
     ]
    }
   ],
   "source": [
    "########### SerieA ###########\n",
    "\n",
    "\n",
    "banco = 'SerieA'\n",
    "\n",
    "url = 'https://www.worldfootball.net/schedule/ita-serie-a-2017-2018-spieltag/'\n",
    "\n",
    "#Carrega Tabela de Classificacao\n",
    "for rodada in range(1,39):\n",
    "    #concatena a url com o numero da rodada\n",
    "    url = url + str(rodada) + '/'\n",
    "    #carrega tabela no Mongodb\n",
    "    Carrega_table(url,rodada,banco)\n",
    "    \n",
    "#Carrega Partidas\n",
    "\n",
    "url = 'https://www.worldfootball.net/schedule/ita-serie-a-2017-2018-spieltag/'\n",
    "   \n",
    "for rodada in range(1,39):\n",
    "    #concatena a url com o numero da rodada\n",
    "    url = url + str(rodada) + '/'\n",
    "    #carrega tabela no Mongodb\n",
    "    Carrega_placar(url,rodada,banco)\n",
    "\n",
    "#Carrega Artilharia e Assistencia\n",
    "url = 'https://www.worldfootball.net/scorer/ita-serie-a-2017-2018/'\n",
    "\n",
    "Carrega_art_ass(url,38,banco)\n",
    "    \n"
   ]
  },
  {
   "cell_type": "code",
   "execution_count": 7,
   "metadata": {},
   "outputs": [],
   "source": [
    "from pymongo import MongoClient "
   ]
  },
  {
   "cell_type": "code",
   "execution_count": 8,
   "metadata": {},
   "outputs": [],
   "source": [
    "conn = MongoClient('localhost',27017)"
   ]
  },
  {
   "cell_type": "code",
   "execution_count": 33,
   "metadata": {},
   "outputs": [
    {
     "data": {
      "text/plain": [
       "['Bundesliga', 'Laliga', 'PremierLeague', 'SerieA', 'admin', 'local']"
      ]
     },
     "execution_count": 33,
     "metadata": {},
     "output_type": "execute_result"
    }
   ],
   "source": [
    "#lista database\n",
    "conn.list_database_names()"
   ]
  },
  {
   "cell_type": "code",
   "execution_count": 30,
   "metadata": {},
   "outputs": [],
   "source": [
    "#CriacaConexao do Banco\n",
    "db = conn.PremierLeague"
   ]
  },
  {
   "cell_type": "code",
   "execution_count": 31,
   "metadata": {},
   "outputs": [
    {
     "data": {
      "text/plain": [
       "['PremierLeague_Table', 'Rodadas', 'score', 'Rank']"
      ]
     },
     "execution_count": 31,
     "metadata": {},
     "output_type": "execute_result"
    }
   ],
   "source": [
    "#lista as collections\n",
    "db.list_collection_names()"
   ]
  },
  {
   "cell_type": "code",
   "execution_count": 27,
   "metadata": {},
   "outputs": [],
   "source": [
    "Premier_collection = db['score']"
   ]
  },
  {
   "cell_type": "code",
   "execution_count": 28,
   "metadata": {},
   "outputs": [
    {
     "data": {
      "text/plain": [
       "307"
      ]
     },
     "execution_count": 28,
     "metadata": {},
     "output_type": "execute_result"
    }
   ],
   "source": [
    "#Lista documentos\n",
    "Premier_collection.estimated_document_count()"
   ]
  },
  {
   "cell_type": "code",
   "execution_count": 11,
   "metadata": {},
   "outputs": [],
   "source": [
    "#lista os valores\n",
    "#for rodadas in Premier_collection.find({'Rodada':{\"$gte\":'1'}}):\n",
    "for rodadas in Premier_collection.find({'Rodada':1}):\n",
    "    print(rodadas)"
   ]
  },
  {
   "cell_type": "code",
   "execution_count": 11,
   "metadata": {},
   "outputs": [
    {
     "name": "stdout",
     "output_type": "stream",
     "text": [
      "nok\n"
     ]
    }
   ],
   "source": [
    "ro='1'\n",
    "if Premier_collection.find_one({'Rodada': ro}):\n",
    "    print('ok')\n",
    "else:\n",
    "    print('nok')\n",
    "    \n",
    "    "
   ]
  },
  {
   "cell_type": "code",
   "execution_count": 9,
   "metadata": {},
   "outputs": [
    {
     "data": {
      "text/plain": [
       "<pymongo.results.DeleteResult at 0x7ff30e907e08>"
      ]
     },
     "execution_count": 9,
     "metadata": {},
     "output_type": "execute_result"
    }
   ],
   "source": [
    "#remove todos os documentos\n",
    "Premier_collection.delete_many({})"
   ]
  },
  {
   "cell_type": "code",
   "execution_count": 29,
   "metadata": {},
   "outputs": [
    {
     "data": {
      "text/plain": [
       "{'': '',\n",
       " 'Country': 'Poland',\n",
       " 'Player': 'Robert Lewandowski',\n",
       " 'Rodada': 8,\n",
       " 'Team': 'Bayern München',\n",
       " '_id': ObjectId('5bd5016581a0d51c5c2cc76c'),\n",
       " 'ass': '4',\n",
       " 'gols': '29',\n",
       " 'points': ['33(29', '4)'],\n",
       " 'rank': '1.'}"
      ]
     },
     "execution_count": 29,
     "metadata": {},
     "output_type": "execute_result"
    }
   ],
   "source": [
    "Premier_collection.find_one()"
   ]
  },
  {
   "cell_type": "code",
   "execution_count": 32,
   "metadata": {},
   "outputs": [
    {
     "data": {
      "text/plain": [
       "{'nIndexesWas': 1, 'ns': 'PremierLeague.PremierLeague_Table', 'ok': 1.0}"
      ]
     },
     "execution_count": 32,
     "metadata": {},
     "output_type": "execute_result"
    }
   ],
   "source": [
    "#Remove database\n",
    "db.drop_collection('PremierLeague_Table')"
   ]
  },
  {
   "cell_type": "code",
   "execution_count": 28,
   "metadata": {},
   "outputs": [],
   "source": [
    "conn.drop_database('Bundelisga')"
   ]
  },
  {
   "cell_type": "code",
   "execution_count": null,
   "metadata": {},
   "outputs": [],
   "source": []
  }
 ],
 "metadata": {
  "kernelspec": {
   "display_name": "Python 3",
   "language": "python",
   "name": "python3"
  },
  "language_info": {
   "codemirror_mode": {
    "name": "ipython",
    "version": 3
   },
   "file_extension": ".py",
   "mimetype": "text/x-python",
   "name": "python",
   "nbconvert_exporter": "python",
   "pygments_lexer": "ipython3",
   "version": "3.6.3"
  }
 },
 "nbformat": 4,
 "nbformat_minor": 2
}
