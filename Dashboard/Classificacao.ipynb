{
 "cells": [
  {
   "cell_type": "code",
   "execution_count": null,
   "metadata": {},
   "outputs": [],
   "source": [
    "#instalando pymongo\n",
    "!pip install pymongo"
   ]
  },
  {
   "cell_type": "code",
   "execution_count": 1,
   "metadata": {},
   "outputs": [],
   "source": [
    "#Biblioteca usada para requisitar uma pagina web\n",
    "import urllib.request\n",
    "import pandas as pd\n",
    "from pymongo import MongoClient"
   ]
  },
  {
   "cell_type": "code",
   "execution_count": 2,
   "metadata": {},
   "outputs": [],
   "source": [
    "# Definimos a url\n",
    "# Verifique as permissões em https://www.python.org/robots.txt\n",
    "with urllib.request.urlopen('https://www.worldfootball.net/attendance/esp-primera-division-2017-2018/1/') as url:\n",
    "    page = url.read()"
   ]
  },
  {
   "cell_type": "code",
   "execution_count": 3,
   "metadata": {},
   "outputs": [],
   "source": [
    "from bs4 import BeautifulSoup"
   ]
  },
  {
   "cell_type": "code",
   "execution_count": 4,
   "metadata": {},
   "outputs": [],
   "source": [
    "# Analise o html na variável 'page' e armazene-o no formato Beautiful Soup\n",
    "soup = BeautifulSoup(page, \"html.parser\")"
   ]
  },
  {
   "cell_type": "code",
   "execution_count": 5,
   "metadata": {},
   "outputs": [
    {
     "data": {
      "text/plain": [
       "<title>Primera División 2017/2018 » Attendance » Home matches</title>"
      ]
     },
     "execution_count": 5,
     "metadata": {},
     "output_type": "execute_result"
    }
   ],
   "source": [
    "soup.title"
   ]
  },
  {
   "cell_type": "code",
   "execution_count": null,
   "metadata": {},
   "outputs": [],
   "source": [
    "soup.find_all('table')"
   ]
  },
  {
   "cell_type": "code",
   "execution_count": 20,
   "metadata": {},
   "outputs": [
    {
     "data": {
      "text/plain": [
       "'1'"
      ]
     },
     "execution_count": 20,
     "metadata": {},
     "output_type": "execute_result"
    }
   ],
   "source": [
    "rodada = soup.find_all('option',{'class':\"wahl\"})[1]\n",
    "rodada = rodada.get_text(strip=True).split('.')[0]"
   ]
  },
  {
   "cell_type": "code",
   "execution_count": 11,
   "metadata": {},
   "outputs": [],
   "source": [
    "#selecionando tabela com a classe\n",
    "Classif = soup.find_all('table',{'class':\"standard_tabelle\"})[0]"
   ]
  },
  {
   "cell_type": "code",
   "execution_count": 12,
   "metadata": {},
   "outputs": [],
   "source": [
    "Cabecalho = Classif.find_all('tr')"
   ]
  },
  {
   "cell_type": "code",
   "execution_count": 35,
   "metadata": {},
   "outputs": [],
   "source": [
    "header = Classif.find('tr')"
   ]
  },
  {
   "cell_type": "code",
   "execution_count": 43,
   "metadata": {},
   "outputs": [
    {
     "data": {
      "text/plain": [
       "'\\n#\\nTeam\\nsum\\nMatches\\naverage\\n'"
      ]
     },
     "execution_count": 43,
     "metadata": {},
     "output_type": "execute_result"
    }
   ],
   "source": [
    "header.get_text(strip=True)"
   ]
  },
  {
   "cell_type": "code",
   "execution_count": 37,
   "metadata": {},
   "outputs": [],
   "source": [
    "linha = Classif.find_all('tr')[1:]"
   ]
  },
  {
   "cell_type": "code",
   "execution_count": 46,
   "metadata": {},
   "outputs": [
    {
     "ename": "AttributeError",
     "evalue": "'NavigableString' object has no attribute 'find_all'",
     "output_type": "error",
     "traceback": [
      "\u001b[0;31m---------------------------------------------------------------------------\u001b[0m",
      "\u001b[0;31mAttributeError\u001b[0m                            Traceback (most recent call last)",
      "\u001b[0;32m<ipython-input-46-01debc70a2e4>\u001b[0m in \u001b[0;36m<module>\u001b[0;34m()\u001b[0m\n\u001b[1;32m      1\u001b[0m \u001b[0mheader_scorer\u001b[0m \u001b[0;34m=\u001b[0m \u001b[0;34m[\u001b[0m\u001b[0;34m]\u001b[0m\u001b[0;34m\u001b[0m\u001b[0m\n\u001b[1;32m      2\u001b[0m \u001b[0;32mfor\u001b[0m \u001b[0mnome\u001b[0m \u001b[0;32min\u001b[0m \u001b[0mheader\u001b[0m\u001b[0;34m:\u001b[0m\u001b[0;34m\u001b[0m\u001b[0m\n\u001b[0;32m----> 3\u001b[0;31m     \u001b[0mheader_scorer\u001b[0m\u001b[0;34m.\u001b[0m\u001b[0mappend\u001b[0m\u001b[0;34m(\u001b[0m\u001b[0;34m[\u001b[0m\u001b[0mcab\u001b[0m\u001b[0;34m.\u001b[0m\u001b[0mget_text\u001b[0m\u001b[0;34m(\u001b[0m\u001b[0mstrip\u001b[0m\u001b[0;34m=\u001b[0m\u001b[0;32mTrue\u001b[0m\u001b[0;34m)\u001b[0m \u001b[0;32mfor\u001b[0m \u001b[0mcab\u001b[0m \u001b[0;32min\u001b[0m \u001b[0mnome\u001b[0m\u001b[0;34m.\u001b[0m\u001b[0mfind_all\u001b[0m\u001b[0;34m(\u001b[0m\u001b[0;34m'td'\u001b[0m\u001b[0;34m)\u001b[0m\u001b[0;34m]\u001b[0m\u001b[0;34m)\u001b[0m\u001b[0;34m\u001b[0m\u001b[0m\n\u001b[0m\u001b[1;32m      4\u001b[0m     \u001b[0;31m#print (cab.)\u001b[0m\u001b[0;34m\u001b[0m\u001b[0;34m\u001b[0m\u001b[0m\n",
      "\u001b[0;32m~/anaconda3/lib/python3.6/site-packages/bs4/element.py\u001b[0m in \u001b[0;36m__getattr__\u001b[0;34m(self, attr)\u001b[0m\n\u001b[1;32m    735\u001b[0m             raise AttributeError(\n\u001b[1;32m    736\u001b[0m                 \"'%s' object has no attribute '%s'\" % (\n\u001b[0;32m--> 737\u001b[0;31m                     self.__class__.__name__, attr))\n\u001b[0m\u001b[1;32m    738\u001b[0m \u001b[0;34m\u001b[0m\u001b[0m\n\u001b[1;32m    739\u001b[0m     \u001b[0;32mdef\u001b[0m \u001b[0moutput_ready\u001b[0m\u001b[0;34m(\u001b[0m\u001b[0mself\u001b[0m\u001b[0;34m,\u001b[0m \u001b[0mformatter\u001b[0m\u001b[0;34m=\u001b[0m\u001b[0;34m\"minimal\"\u001b[0m\u001b[0;34m)\u001b[0m\u001b[0;34m:\u001b[0m\u001b[0;34m\u001b[0m\u001b[0m\n",
      "\u001b[0;31mAttributeError\u001b[0m: 'NavigableString' object has no attribute 'find_all'"
     ]
    }
   ],
   "source": [
    "header_scorer = []\n",
    "for nome in header:\n",
    "    header_scorer.append([cab.get_text(strip=True) for cab in nome.find_all('td')]) \n",
    "    #print (cab.)"
   ]
  },
  {
   "cell_type": "code",
   "execution_count": 49,
   "metadata": {},
   "outputs": [],
   "source": [
    "header = ['Rank','campo_vazio','Time','Total','Jogos','Media']"
   ]
  },
  {
   "cell_type": "code",
   "execution_count": 44,
   "metadata": {},
   "outputs": [
    {
     "name": "stdout",
     "output_type": "stream",
     "text": [
      "[['1', '', 'FC Barcelona', '1.248.898', '19', '65.731'], ['2', '', 'Real Madrid', '1.235.513', '19', '65.027'], ['3', '', 'Atlético Madrid', '1.054.252', '19', '55.487'], ['4', '', 'Real Betis', '881.470', '19', '46.393'], ['5', '', 'Valencia CF', '735.273', '19', '38.699'], ['6', '', 'Athletic Bilbao', '710.175', '19', '37.378'], ['7', '', 'Sevilla FC', '628.314', '19', '33.069'], ['8', '', 'Deportivo La Coruña', '392.050', '19', '20.634'], ['9', '', 'Málaga CF', '387.618', '19', '20.401'], ['10', '', 'Real Sociedad', '374.514', '19', '19.711'], ['11', '', 'Levante UD', '336.029', '19', '17.686'], ['12', '', 'Espanyol Barcelona', '334.286', '19', '17.594'], ['13', '', 'Villarreal CF', '316.602', '19', '16.663'], ['14', '', 'Celta Vigo', '308.822', '19', '16.254'], ['15', '', 'UD Las Palmas', '305.931', '19', '16.102'], ['16', '', 'CD Alavés', '286.127', '19', '15.059'], ['17', '', 'Girona FC', '193.835', '19', '10.202'], ['18', '', 'Getafe CF', '193.736', '19', '10.197'], ['19', '', 'CD Leganés', '165.285', '18', '9.183'], ['20', '', 'SD Eibar', '101.139', '19', '5.323'], []]\n"
     ]
    }
   ],
   "source": [
    "jogos=[]\n",
    "#pos = [0,1,2,4,5]\n",
    "for jogo in linha:\n",
    "    jogos.append([partida.get_text(strip=True) for partida in jogo.find_all('td')])\n",
    "    \n",
    "print (jogos)"
   ]
  },
  {
   "cell_type": "code",
   "execution_count": 50,
   "metadata": {},
   "outputs": [
    {
     "data": {
      "text/html": [
       "<div>\n",
       "<style>\n",
       "    .dataframe thead tr:only-child th {\n",
       "        text-align: right;\n",
       "    }\n",
       "\n",
       "    .dataframe thead th {\n",
       "        text-align: left;\n",
       "    }\n",
       "\n",
       "    .dataframe tbody tr th {\n",
       "        vertical-align: top;\n",
       "    }\n",
       "</style>\n",
       "<table border=\"1\" class=\"dataframe\">\n",
       "  <thead>\n",
       "    <tr style=\"text-align: right;\">\n",
       "      <th></th>\n",
       "      <th>Rank</th>\n",
       "      <th>campo_vazio</th>\n",
       "      <th>Time</th>\n",
       "      <th>Total</th>\n",
       "      <th>Jogos</th>\n",
       "      <th>Media</th>\n",
       "    </tr>\n",
       "  </thead>\n",
       "  <tbody>\n",
       "    <tr>\n",
       "      <th>0</th>\n",
       "      <td>1</td>\n",
       "      <td></td>\n",
       "      <td>FC Barcelona</td>\n",
       "      <td>1.248.898</td>\n",
       "      <td>19</td>\n",
       "      <td>65.731</td>\n",
       "    </tr>\n",
       "    <tr>\n",
       "      <th>1</th>\n",
       "      <td>2</td>\n",
       "      <td></td>\n",
       "      <td>Real Madrid</td>\n",
       "      <td>1.235.513</td>\n",
       "      <td>19</td>\n",
       "      <td>65.027</td>\n",
       "    </tr>\n",
       "    <tr>\n",
       "      <th>2</th>\n",
       "      <td>3</td>\n",
       "      <td></td>\n",
       "      <td>Atlético Madrid</td>\n",
       "      <td>1.054.252</td>\n",
       "      <td>19</td>\n",
       "      <td>55.487</td>\n",
       "    </tr>\n",
       "    <tr>\n",
       "      <th>3</th>\n",
       "      <td>4</td>\n",
       "      <td></td>\n",
       "      <td>Real Betis</td>\n",
       "      <td>881.470</td>\n",
       "      <td>19</td>\n",
       "      <td>46.393</td>\n",
       "    </tr>\n",
       "    <tr>\n",
       "      <th>4</th>\n",
       "      <td>5</td>\n",
       "      <td></td>\n",
       "      <td>Valencia CF</td>\n",
       "      <td>735.273</td>\n",
       "      <td>19</td>\n",
       "      <td>38.699</td>\n",
       "    </tr>\n",
       "  </tbody>\n",
       "</table>\n",
       "</div>"
      ],
      "text/plain": [
       "  Rank campo_vazio             Time      Total Jogos   Media\n",
       "0    1                 FC Barcelona  1.248.898    19  65.731\n",
       "1    2                  Real Madrid  1.235.513    19  65.027\n",
       "2    3              Atlético Madrid  1.054.252    19  55.487\n",
       "3    4                   Real Betis    881.470    19  46.393\n",
       "4    5                  Valencia CF    735.273    19  38.699"
      ]
     },
     "execution_count": 50,
     "metadata": {},
     "output_type": "execute_result"
    }
   ],
   "source": [
    "Partidas = pd.DataFrame.from_records(jogos,columns = header)\n",
    "Partidas.dropna(inplace=True)\n",
    "Partidas.head()"
   ]
  },
  {
   "cell_type": "code",
   "execution_count": 31,
   "metadata": {},
   "outputs": [
    {
     "data": {
      "text/html": [
       "<div>\n",
       "<style>\n",
       "    .dataframe thead tr:only-child th {\n",
       "        text-align: right;\n",
       "    }\n",
       "\n",
       "    .dataframe thead th {\n",
       "        text-align: left;\n",
       "    }\n",
       "\n",
       "    .dataframe tbody tr th {\n",
       "        vertical-align: top;\n",
       "    }\n",
       "</style>\n",
       "<table border=\"1\" class=\"dataframe\">\n",
       "  <thead>\n",
       "    <tr style=\"text-align: right;\">\n",
       "      <th></th>\n",
       "      <th>Data</th>\n",
       "      <th>Hora</th>\n",
       "      <th>Home</th>\n",
       "      <th>campo1</th>\n",
       "      <th>Away</th>\n",
       "      <th>Placar</th>\n",
       "      <th>campo2</th>\n",
       "      <th>campo3</th>\n",
       "    </tr>\n",
       "  </thead>\n",
       "  <tbody>\n",
       "    <tr>\n",
       "      <th>0</th>\n",
       "      <td>11/08/2017</td>\n",
       "      <td>19:45</td>\n",
       "      <td>Arsenal FC</td>\n",
       "      <td>-</td>\n",
       "      <td>Leicester City</td>\n",
       "      <td>4:3 (2:2)</td>\n",
       "      <td></td>\n",
       "      <td></td>\n",
       "    </tr>\n",
       "    <tr>\n",
       "      <th>1</th>\n",
       "      <td>12/08/2017</td>\n",
       "      <td>12:30</td>\n",
       "      <td>Watford FC</td>\n",
       "      <td>-</td>\n",
       "      <td>Liverpool FC</td>\n",
       "      <td>3:3 (2:1)</td>\n",
       "      <td></td>\n",
       "      <td></td>\n",
       "    </tr>\n",
       "    <tr>\n",
       "      <th>2</th>\n",
       "      <td></td>\n",
       "      <td>15:00</td>\n",
       "      <td>Chelsea FC</td>\n",
       "      <td>-</td>\n",
       "      <td>Burnley FC</td>\n",
       "      <td>2:3 (0:3)</td>\n",
       "      <td></td>\n",
       "      <td></td>\n",
       "    </tr>\n",
       "    <tr>\n",
       "      <th>3</th>\n",
       "      <td></td>\n",
       "      <td>15:00</td>\n",
       "      <td>Crystal Palace</td>\n",
       "      <td>-</td>\n",
       "      <td>Huddersfield Town</td>\n",
       "      <td>0:3 (0:2)</td>\n",
       "      <td></td>\n",
       "      <td></td>\n",
       "    </tr>\n",
       "    <tr>\n",
       "      <th>4</th>\n",
       "      <td></td>\n",
       "      <td>15:00</td>\n",
       "      <td>Everton FC</td>\n",
       "      <td>-</td>\n",
       "      <td>Stoke City</td>\n",
       "      <td>1:0 (1:0)</td>\n",
       "      <td></td>\n",
       "      <td></td>\n",
       "    </tr>\n",
       "  </tbody>\n",
       "</table>\n",
       "</div>"
      ],
      "text/plain": [
       "         Data   Hora            Home campo1               Away     Placar  \\\n",
       "0  11/08/2017  19:45      Arsenal FC      -     Leicester City  4:3 (2:2)   \n",
       "1  12/08/2017  12:30      Watford FC      -       Liverpool FC  3:3 (2:1)   \n",
       "2              15:00      Chelsea FC      -         Burnley FC  2:3 (0:3)   \n",
       "3              15:00  Crystal Palace      -  Huddersfield Town  0:3 (0:2)   \n",
       "4              15:00      Everton FC      -         Stoke City  1:0 (1:0)   \n",
       "\n",
       "  campo2 campo3  \n",
       "0                \n",
       "1                \n",
       "2                \n",
       "3                \n",
       "4                "
      ]
     },
     "execution_count": 31,
     "metadata": {},
     "output_type": "execute_result"
    }
   ],
   "source": [
    "Partidas.head()"
   ]
  },
  {
   "cell_type": "code",
   "execution_count": 33,
   "metadata": {},
   "outputs": [
    {
     "data": {
      "text/html": [
       "<div>\n",
       "<style>\n",
       "    .dataframe thead tr:only-child th {\n",
       "        text-align: right;\n",
       "    }\n",
       "\n",
       "    .dataframe thead th {\n",
       "        text-align: left;\n",
       "    }\n",
       "\n",
       "    .dataframe tbody tr th {\n",
       "        vertical-align: top;\n",
       "    }\n",
       "</style>\n",
       "<table border=\"1\" class=\"dataframe\">\n",
       "  <thead>\n",
       "    <tr style=\"text-align: right;\">\n",
       "      <th></th>\n",
       "      <th>Data</th>\n",
       "      <th>Hora</th>\n",
       "      <th>Home</th>\n",
       "      <th>campo1</th>\n",
       "      <th>Away</th>\n",
       "      <th>Placar</th>\n",
       "      <th>campo2</th>\n",
       "      <th>campo3</th>\n",
       "    </tr>\n",
       "  </thead>\n",
       "  <tbody>\n",
       "    <tr>\n",
       "      <th>0</th>\n",
       "      <td>11/08/2017</td>\n",
       "      <td>19:45</td>\n",
       "      <td>Arsenal FC</td>\n",
       "      <td>-</td>\n",
       "      <td>Leicester City</td>\n",
       "      <td>4:3</td>\n",
       "      <td></td>\n",
       "      <td></td>\n",
       "    </tr>\n",
       "    <tr>\n",
       "      <th>1</th>\n",
       "      <td>12/08/2017</td>\n",
       "      <td>12:30</td>\n",
       "      <td>Watford FC</td>\n",
       "      <td>-</td>\n",
       "      <td>Liverpool FC</td>\n",
       "      <td>3:3</td>\n",
       "      <td></td>\n",
       "      <td></td>\n",
       "    </tr>\n",
       "    <tr>\n",
       "      <th>2</th>\n",
       "      <td></td>\n",
       "      <td>15:00</td>\n",
       "      <td>Chelsea FC</td>\n",
       "      <td>-</td>\n",
       "      <td>Burnley FC</td>\n",
       "      <td>2:3</td>\n",
       "      <td></td>\n",
       "      <td></td>\n",
       "    </tr>\n",
       "    <tr>\n",
       "      <th>3</th>\n",
       "      <td></td>\n",
       "      <td>15:00</td>\n",
       "      <td>Crystal Palace</td>\n",
       "      <td>-</td>\n",
       "      <td>Huddersfield Town</td>\n",
       "      <td>0:3</td>\n",
       "      <td></td>\n",
       "      <td></td>\n",
       "    </tr>\n",
       "    <tr>\n",
       "      <th>4</th>\n",
       "      <td></td>\n",
       "      <td>15:00</td>\n",
       "      <td>Everton FC</td>\n",
       "      <td>-</td>\n",
       "      <td>Stoke City</td>\n",
       "      <td>1:0</td>\n",
       "      <td></td>\n",
       "      <td></td>\n",
       "    </tr>\n",
       "  </tbody>\n",
       "</table>\n",
       "</div>"
      ],
      "text/plain": [
       "         Data   Hora            Home campo1               Away Placar campo2  \\\n",
       "0  11/08/2017  19:45      Arsenal FC      -     Leicester City   4:3           \n",
       "1  12/08/2017  12:30      Watford FC      -       Liverpool FC   3:3           \n",
       "2              15:00      Chelsea FC      -         Burnley FC   2:3           \n",
       "3              15:00  Crystal Palace      -  Huddersfield Town   0:3           \n",
       "4              15:00      Everton FC      -         Stoke City   1:0           \n",
       "\n",
       "  campo3  \n",
       "0         \n",
       "1         \n",
       "2         \n",
       "3         \n",
       "4         "
      ]
     },
     "execution_count": 33,
     "metadata": {},
     "output_type": "execute_result"
    }
   ],
   "source": [
    "placar = [placar[0] for placar in Partidas['Placar'].str.split('(').tolist()]\n",
    "Partidas['Placar'] = placar\n",
    "Partidas.head()    "
   ]
  },
  {
   "cell_type": "code",
   "execution_count": 30,
   "metadata": {},
   "outputs": [],
   "source": [
    "import re"
   ]
  },
  {
   "cell_type": "code",
   "execution_count": 66,
   "metadata": {},
   "outputs": [],
   "source": [
    "Partidas['points'] = Partidas['points'].str.split('+')\n"
   ]
  },
  {
   "cell_type": "code",
   "execution_count": 44,
   "metadata": {},
   "outputs": [
    {
     "data": {
      "text/html": [
       "<div>\n",
       "<style>\n",
       "    .dataframe thead tr:only-child th {\n",
       "        text-align: right;\n",
       "    }\n",
       "\n",
       "    .dataframe thead th {\n",
       "        text-align: left;\n",
       "    }\n",
       "\n",
       "    .dataframe tbody tr th {\n",
       "        vertical-align: top;\n",
       "    }\n",
       "</style>\n",
       "<table border=\"1\" class=\"dataframe\">\n",
       "  <thead>\n",
       "    <tr style=\"text-align: right;\">\n",
       "      <th></th>\n",
       "      <th>0</th>\n",
       "      <th>1</th>\n",
       "    </tr>\n",
       "  </thead>\n",
       "  <tbody>\n",
       "    <tr>\n",
       "      <th>0</th>\n",
       "      <td>a</td>\n",
       "      <td>1</td>\n",
       "    </tr>\n",
       "    <tr>\n",
       "      <th>1</th>\n",
       "      <td>b</td>\n",
       "      <td>2</td>\n",
       "    </tr>\n",
       "    <tr>\n",
       "      <th>2</th>\n",
       "      <td>NaN</td>\n",
       "      <td>NaN</td>\n",
       "    </tr>\n",
       "  </tbody>\n",
       "</table>\n",
       "</div>"
      ],
      "text/plain": [
       "     0    1\n",
       "0    a    1\n",
       "1    b    2\n",
       "2  NaN  NaN"
      ]
     },
     "execution_count": 44,
     "metadata": {},
     "output_type": "execute_result"
    }
   ],
   "source": [
    "ab = pd.Series(['a1', 'b2', 'c3'])\n",
    "ab.str.extract('([ab])(\\d)', expand=False)"
   ]
  },
  {
   "cell_type": "code",
   "execution_count": 71,
   "metadata": {},
   "outputs": [],
   "source": [
    "gols = [valor[0] for valor in Partidas['points']]\n",
    "ass = [valor[1] for valor in Partidas['points']]\n",
    "Partidas['gols'] = gols\n",
    "Partidas['ass'] = ass\n"
   ]
  },
  {
   "cell_type": "code",
   "execution_count": 76,
   "metadata": {},
   "outputs": [
    {
     "data": {
      "text/html": [
       "<div>\n",
       "<style>\n",
       "    .dataframe thead tr:only-child th {\n",
       "        text-align: right;\n",
       "    }\n",
       "\n",
       "    .dataframe thead th {\n",
       "        text-align: left;\n",
       "    }\n",
       "\n",
       "    .dataframe tbody tr th {\n",
       "        vertical-align: top;\n",
       "    }\n",
       "</style>\n",
       "<table border=\"1\" class=\"dataframe\">\n",
       "  <thead>\n",
       "    <tr style=\"text-align: right;\">\n",
       "      <th></th>\n",
       "      <th>#</th>\n",
       "      <th>Player</th>\n",
       "      <th></th>\n",
       "      <th>Country</th>\n",
       "      <th>Team</th>\n",
       "      <th>points</th>\n",
       "      <th>gols</th>\n",
       "      <th>ass</th>\n",
       "    </tr>\n",
       "  </thead>\n",
       "  <tbody>\n",
       "    <tr>\n",
       "      <th>1</th>\n",
       "      <td>1.</td>\n",
       "      <td>Eden Hazard</td>\n",
       "      <td></td>\n",
       "      <td>Belgium</td>\n",
       "      <td>Chelsea FC</td>\n",
       "      <td>[10(7, 3)]</td>\n",
       "      <td>10(7</td>\n",
       "      <td>3)</td>\n",
       "    </tr>\n",
       "    <tr>\n",
       "      <th>2</th>\n",
       "      <td>2.</td>\n",
       "      <td>Kun Agüero</td>\n",
       "      <td></td>\n",
       "      <td>Argentina</td>\n",
       "      <td>Manchester City</td>\n",
       "      <td>[7(5, 2)]</td>\n",
       "      <td>7(5</td>\n",
       "      <td>2)</td>\n",
       "    </tr>\n",
       "    <tr>\n",
       "      <th>3</th>\n",
       "      <td></td>\n",
       "      <td>Callum Wilson</td>\n",
       "      <td></td>\n",
       "      <td>England</td>\n",
       "      <td>AFC Bournemouth</td>\n",
       "      <td>[7(3, 4)]</td>\n",
       "      <td>7(3</td>\n",
       "      <td>4)</td>\n",
       "    </tr>\n",
       "    <tr>\n",
       "      <th>4</th>\n",
       "      <td>4.</td>\n",
       "      <td>Harry Kane</td>\n",
       "      <td></td>\n",
       "      <td>England</td>\n",
       "      <td>Tottenham Hotspur</td>\n",
       "      <td>[6(5, 1)]</td>\n",
       "      <td>6(5</td>\n",
       "      <td>1)</td>\n",
       "    </tr>\n",
       "    <tr>\n",
       "      <th>5</th>\n",
       "      <td></td>\n",
       "      <td>Raheem Sterling</td>\n",
       "      <td></td>\n",
       "      <td>England</td>\n",
       "      <td>Manchester City</td>\n",
       "      <td>[6(4, 2)]</td>\n",
       "      <td>6(4</td>\n",
       "      <td>2)</td>\n",
       "    </tr>\n",
       "  </tbody>\n",
       "</table>\n",
       "</div>"
      ],
      "text/plain": [
       "    #           Player      Country               Team      points  gols ass\n",
       "1  1.      Eden Hazard      Belgium         Chelsea FC  [10(7, 3)]  10(7  3)\n",
       "2  2.       Kun Agüero    Argentina    Manchester City   [7(5, 2)]   7(5  2)\n",
       "3        Callum Wilson      England    AFC Bournemouth   [7(3, 4)]   7(3  4)\n",
       "4  4.       Harry Kane      England  Tottenham Hotspur   [6(5, 1)]   6(5  1)\n",
       "5      Raheem Sterling      England    Manchester City   [6(4, 2)]   6(4  2)"
      ]
     },
     "execution_count": 76,
     "metadata": {},
     "output_type": "execute_result"
    }
   ],
   "source": [
    "Partidas.head()"
   ]
  },
  {
   "cell_type": "code",
   "execution_count": null,
   "metadata": {},
   "outputs": [],
   "source": [
    "Partidas['ass'] = Partidas['ass'].str.split(')',expand=True)[0]"
   ]
  },
  {
   "cell_type": "code",
   "execution_count": null,
   "metadata": {},
   "outputs": [],
   "source": [
    "Partidas['gols'] = Partidas['gols'].str.split('(',expand=True)[1]\n"
   ]
  },
  {
   "cell_type": "code",
   "execution_count": 22,
   "metadata": {},
   "outputs": [
    {
     "data": {
      "text/html": [
       "<div>\n",
       "<style>\n",
       "    .dataframe thead tr:only-child th {\n",
       "        text-align: right;\n",
       "    }\n",
       "\n",
       "    .dataframe thead th {\n",
       "        text-align: left;\n",
       "    }\n",
       "\n",
       "    .dataframe tbody tr th {\n",
       "        vertical-align: top;\n",
       "    }\n",
       "</style>\n",
       "<table border=\"1\" class=\"dataframe\">\n",
       "  <thead>\n",
       "    <tr style=\"text-align: right;\">\n",
       "      <th></th>\n",
       "      <th>Data</th>\n",
       "      <th>Hora</th>\n",
       "      <th>Home</th>\n",
       "      <th>Away</th>\n",
       "      <th>Placar</th>\n",
       "      <th>Placar2</th>\n",
       "    </tr>\n",
       "  </thead>\n",
       "  <tbody>\n",
       "    <tr>\n",
       "      <th>0</th>\n",
       "      <td>10/08/2018</td>\n",
       "      <td>20:00</td>\n",
       "      <td>Manchester United</td>\n",
       "      <td>Leicester City</td>\n",
       "      <td>2:1 (1:0)</td>\n",
       "      <td>2:1</td>\n",
       "    </tr>\n",
       "    <tr>\n",
       "      <th>1</th>\n",
       "      <td>11/08/2018</td>\n",
       "      <td>12:30</td>\n",
       "      <td>Newcastle United</td>\n",
       "      <td>Tottenham Hotspur</td>\n",
       "      <td>1:2 (1:2)</td>\n",
       "      <td>1:2</td>\n",
       "    </tr>\n",
       "    <tr>\n",
       "      <th>2</th>\n",
       "      <td></td>\n",
       "      <td>15:00</td>\n",
       "      <td>AFC Bournemouth</td>\n",
       "      <td>Cardiff City</td>\n",
       "      <td>2:0 (1:0)</td>\n",
       "      <td>2:0</td>\n",
       "    </tr>\n",
       "    <tr>\n",
       "      <th>3</th>\n",
       "      <td></td>\n",
       "      <td>15:00</td>\n",
       "      <td>Fulham FC</td>\n",
       "      <td>Crystal Palace</td>\n",
       "      <td>0:2 (0:1)</td>\n",
       "      <td>0:2</td>\n",
       "    </tr>\n",
       "    <tr>\n",
       "      <th>4</th>\n",
       "      <td></td>\n",
       "      <td>15:00</td>\n",
       "      <td>Huddersfield Town</td>\n",
       "      <td>Chelsea FC</td>\n",
       "      <td>0:3 (0:2)</td>\n",
       "      <td>0:3</td>\n",
       "    </tr>\n",
       "    <tr>\n",
       "      <th>5</th>\n",
       "      <td></td>\n",
       "      <td>15:00</td>\n",
       "      <td>Watford FC</td>\n",
       "      <td>Brighton &amp; Hove Albion</td>\n",
       "      <td>2:0 (1:0)</td>\n",
       "      <td>2:0</td>\n",
       "    </tr>\n",
       "    <tr>\n",
       "      <th>6</th>\n",
       "      <td></td>\n",
       "      <td>17:30</td>\n",
       "      <td>Wolverhampton Wanderers</td>\n",
       "      <td>Everton FC</td>\n",
       "      <td>2:2 (1:1)</td>\n",
       "      <td>2:2</td>\n",
       "    </tr>\n",
       "    <tr>\n",
       "      <th>7</th>\n",
       "      <td>12/08/2018</td>\n",
       "      <td>13:30</td>\n",
       "      <td>Southampton FC</td>\n",
       "      <td>Burnley FC</td>\n",
       "      <td>0:0 (0:0)</td>\n",
       "      <td>0:0</td>\n",
       "    </tr>\n",
       "    <tr>\n",
       "      <th>8</th>\n",
       "      <td></td>\n",
       "      <td>13:30</td>\n",
       "      <td>Liverpool FC</td>\n",
       "      <td>West Ham United</td>\n",
       "      <td>4:0 (2:0)</td>\n",
       "      <td>4:0</td>\n",
       "    </tr>\n",
       "    <tr>\n",
       "      <th>9</th>\n",
       "      <td></td>\n",
       "      <td>16:00</td>\n",
       "      <td>Arsenal FC</td>\n",
       "      <td>Manchester City</td>\n",
       "      <td>0:2 (0:1)</td>\n",
       "      <td>0:2</td>\n",
       "    </tr>\n",
       "  </tbody>\n",
       "</table>\n",
       "</div>"
      ],
      "text/plain": [
       "         Data   Hora                     Home                    Away  \\\n",
       "0  10/08/2018  20:00        Manchester United          Leicester City   \n",
       "1  11/08/2018  12:30         Newcastle United       Tottenham Hotspur   \n",
       "2              15:00          AFC Bournemouth            Cardiff City   \n",
       "3              15:00                Fulham FC          Crystal Palace   \n",
       "4              15:00        Huddersfield Town              Chelsea FC   \n",
       "5              15:00               Watford FC  Brighton & Hove Albion   \n",
       "6              17:30  Wolverhampton Wanderers              Everton FC   \n",
       "7  12/08/2018  13:30           Southampton FC              Burnley FC   \n",
       "8              13:30             Liverpool FC         West Ham United   \n",
       "9              16:00               Arsenal FC         Manchester City   \n",
       "\n",
       "      Placar Placar2  \n",
       "0  2:1 (1:0)    2:1   \n",
       "1  1:2 (1:2)    1:2   \n",
       "2  2:0 (1:0)    2:0   \n",
       "3  0:2 (0:1)    0:2   \n",
       "4  0:3 (0:2)    0:3   \n",
       "5  2:0 (1:0)    2:0   \n",
       "6  2:2 (1:1)    2:2   \n",
       "7  0:0 (0:0)    0:0   \n",
       "8  4:0 (2:0)    4:0   \n",
       "9  0:2 (0:1)    0:2   "
      ]
     },
     "execution_count": 22,
     "metadata": {},
     "output_type": "execute_result"
    }
   ],
   "source": [
    "#Formata o placar\n",
    "placar = [placar[0] for placar in Partidas['Placar'].str.split('(').tolist()]\n",
    "Partidas['Placar'] = placar\n"
   ]
  },
  {
   "cell_type": "code",
   "execution_count": null,
   "metadata": {},
   "outputs": [],
   "source": [
    "#Selecionando cabecalho\n",
    "head = []\n",
    "for rows in Cabecalho:\n",
    "    head.append(rows.get_text(strip=True))\n",
    "    #print(type(rows))\n",
    "    "
   ]
  },
  {
   "cell_type": "code",
   "execution_count": null,
   "metadata": {},
   "outputs": [],
   "source": [
    "Classif.find_all('tr')"
   ]
  },
  {
   "cell_type": "code",
   "execution_count": null,
   "metadata": {},
   "outputs": [],
   "source": [
    "#Selecionando dados para criacao do dataset\n",
    "dados = []\n",
    "for linha in Classif.find_all('tr')[1:]:\n",
    "    dados.append([campo.get_text(strip=True) for campo in linha.find_all('td') ])\n",
    "   "
   ]
  },
  {
   "cell_type": "code",
   "execution_count": null,
   "metadata": {},
   "outputs": [],
   "source": [
    "dados_ok=[]\n",
    "for d in dados:\n",
    "    d.pop(1)\n",
    "    dados_ok.append(d)"
   ]
  },
  {
   "cell_type": "code",
   "execution_count": null,
   "metadata": {},
   "outputs": [],
   "source": [
    "Tabela_PremierLeague = pd.DataFrame.from_records(dados_ok,columns = head)"
   ]
  },
  {
   "cell_type": "code",
   "execution_count": null,
   "metadata": {},
   "outputs": [],
   "source": [
    "Tabela_PremierLeague.columns"
   ]
  },
  {
   "cell_type": "code",
   "execution_count": null,
   "metadata": {},
   "outputs": [],
   "source": [
    "Tabela_PremierLeague.rename(columns={'#':'rank','M.':'M','Dif.':'Dif','Pt.':'Pt'},inplace=True)"
   ]
  },
  {
   "cell_type": "code",
   "execution_count": null,
   "metadata": {},
   "outputs": [],
   "source": [
    "#Cria coluna rodada\n",
    "Tabela_PremierLeague['Rodada'] = rodada"
   ]
  },
  {
   "cell_type": "code",
   "execution_count": 50,
   "metadata": {},
   "outputs": [],
   "source": [
    "conn = MongoClient('localhost',27017)"
   ]
  },
  {
   "cell_type": "code",
   "execution_count": 22,
   "metadata": {},
   "outputs": [
    {
     "data": {
      "text/plain": [
       "pymongo.mongo_client.MongoClient"
      ]
     },
     "execution_count": 22,
     "metadata": {},
     "output_type": "execute_result"
    }
   ],
   "source": [
    "type(conn)"
   ]
  },
  {
   "cell_type": "code",
   "execution_count": 51,
   "metadata": {},
   "outputs": [],
   "source": [
    "#Criacao do Banco\n",
    "db = conn.RankGeral"
   ]
  },
  {
   "cell_type": "code",
   "execution_count": 52,
   "metadata": {},
   "outputs": [],
   "source": [
    "#Cricao da colecao\n",
    "Premier_collection = db.PremierLeague_Table"
   ]
  },
  {
   "cell_type": "code",
   "execution_count": null,
   "metadata": {},
   "outputs": [],
   "source": [
    "type(collection)"
   ]
  },
  {
   "cell_type": "code",
   "execution_count": null,
   "metadata": {},
   "outputs": [],
   "source": [
    "PremierLeagueDict = Tabela_PremierLeague.to_dict('records')"
   ]
  },
  {
   "cell_type": "code",
   "execution_count": null,
   "metadata": {},
   "outputs": [],
   "source": [
    "type(PremierLeagueDict)"
   ]
  },
  {
   "cell_type": "code",
   "execution_count": null,
   "metadata": {},
   "outputs": [],
   "source": [
    "#inserindo dados na colecao\n",
    "resultado = Premier_collection.insert_many(PremierLeagueDict)"
   ]
  },
  {
   "cell_type": "code",
   "execution_count": null,
   "metadata": {},
   "outputs": [],
   "source": [
    "resultado.inserted_ids"
   ]
  },
  {
   "cell_type": "code",
   "execution_count": 53,
   "metadata": {},
   "outputs": [
    {
     "data": {
      "text/plain": [
       "['PremierLeague_Table']"
      ]
     },
     "execution_count": 53,
     "metadata": {},
     "output_type": "execute_result"
    }
   ],
   "source": [
    "#lista as colections do banco\n",
    "db.list_collection_names()"
   ]
  },
  {
   "cell_type": "code",
   "execution_count": 25,
   "metadata": {},
   "outputs": [],
   "source": [
    "#Exclui a collection\n",
    "db.Tabelas.drop()"
   ]
  },
  {
   "cell_type": "code",
   "execution_count": 57,
   "metadata": {},
   "outputs": [
    {
     "data": {
      "text/plain": [
       "{'D': '0',\n",
       " 'Dif': '7',\n",
       " 'L': '0',\n",
       " 'M': '2',\n",
       " 'Pt': '6',\n",
       " 'Rodada': '2',\n",
       " 'Team': 'Manchester City',\n",
       " 'W': '2',\n",
       " '_id': ObjectId('5bb952de81a0d535e12db2be'),\n",
       " 'goals': '8:1',\n",
       " 'rank': '1'}"
      ]
     },
     "execution_count": 57,
     "metadata": {},
     "output_type": "execute_result"
    }
   ],
   "source": [
    "#lista primeiro registro\n",
    "Premier_collection.find_one()"
   ]
  },
  {
   "cell_type": "code",
   "execution_count": null,
   "metadata": {},
   "outputs": [],
   "source": [
    "#lista todos os registros\n",
    "for valor in Premier_collection.find():\n",
    "    print(valor)"
   ]
  },
  {
   "cell_type": "code",
   "execution_count": 63,
   "metadata": {},
   "outputs": [
    {
     "data": {
      "text/plain": [
       "0"
      ]
     },
     "execution_count": 63,
     "metadata": {},
     "output_type": "execute_result"
    }
   ],
   "source": [
    "#Lista documentos\n",
    "Premier_collection.estimated_document_count()"
   ]
  },
  {
   "cell_type": "code",
   "execution_count": 61,
   "metadata": {},
   "outputs": [],
   "source": [
    "Premier_collection.find_one()"
   ]
  },
  {
   "cell_type": "code",
   "execution_count": 62,
   "metadata": {},
   "outputs": [
    {
     "data": {
      "text/plain": [
       "<pymongo.results.DeleteResult at 0x7efdf2c02a88>"
      ]
     },
     "execution_count": 62,
     "metadata": {},
     "output_type": "execute_result"
    }
   ],
   "source": [
    "#remove todos os documentos\n",
    "Premier_collection.delete_many({})"
   ]
  },
  {
   "cell_type": "code",
   "execution_count": 63,
   "metadata": {},
   "outputs": [
    {
     "name": "stdout",
     "output_type": "stream",
     "text": [
      "{'_id': ObjectId('5bb01ebe81a0d515c1895e18'), 'rank': '1', 'Team': 'Manchester City', 'M': '2', 'W': '2', 'D': '0', 'L': '0', 'goals': '8:1', 'Dif': '7', 'Pt': '6'}\n",
      "{'_id': ObjectId('5bb01ebe81a0d515c1895e19'), 'rank': '2', 'Team': 'Liverpool FC', 'M': '2', 'W': '2', 'D': '0', 'L': '0', 'goals': '6:0', 'Dif': '6', 'Pt': '6'}\n",
      "{'_id': ObjectId('5bb01ebe81a0d515c1895e1a'), 'rank': '3', 'Team': 'Chelsea FC', 'M': '2', 'W': '2', 'D': '0', 'L': '0', 'goals': '6:2', 'Dif': '4', 'Pt': '6'}\n",
      "{'_id': ObjectId('5bb01ebe81a0d515c1895e1b'), 'rank': '4', 'Team': 'Watford FC', 'M': '2', 'W': '2', 'D': '0', 'L': '0', 'goals': '5:1', 'Dif': '4', 'Pt': '6'}\n",
      "{'_id': ObjectId('5bb01ebe81a0d515c1895e1c'), 'rank': '5', 'Team': 'Tottenham Hotspur', 'M': '2', 'W': '2', 'D': '0', 'L': '0', 'goals': '5:2', 'Dif': '3', 'Pt': '6'}\n",
      "{'_id': ObjectId('5bb01ebe81a0d515c1895e1d'), 'rank': '6', 'Team': 'AFC Bournemouth', 'M': '2', 'W': '2', 'D': '0', 'L': '0', 'goals': '4:1', 'Dif': '3', 'Pt': '6'}\n",
      "{'_id': ObjectId('5bb01ebe81a0d515c1895e1e'), 'rank': '7', 'Team': 'Everton FC', 'M': '2', 'W': '1', 'D': '1', 'L': '0', 'goals': '4:3', 'Dif': '1', 'Pt': '4'}\n",
      "{'_id': ObjectId('5bb01ebe81a0d515c1895e1f'), 'rank': '8', 'Team': 'Leicester City', 'M': '2', 'W': '1', 'D': '0', 'L': '1', 'goals': '3:2', 'Dif': '1', 'Pt': '3'}\n",
      "{'_id': ObjectId('5bb01ebe81a0d515c1895e20'), 'rank': '9', 'Team': 'Manchester United', 'M': '2', 'W': '1', 'D': '0', 'L': '1', 'goals': '4:4', 'Dif': '0', 'Pt': '3'}\n",
      "{'_id': ObjectId('5bb01ebe81a0d515c1895e21'), 'rank': '10', 'Team': 'Crystal Palace', 'M': '2', 'W': '1', 'D': '0', 'L': '1', 'goals': '2:2', 'Dif': '0', 'Pt': '3'}\n",
      "{'_id': ObjectId('5bb01ebe81a0d515c1895e22'), 'rank': '11', 'Team': 'Brighton & Hove Albion', 'M': '2', 'W': '1', 'D': '0', 'L': '1', 'goals': '3:4', 'Dif': '-1', 'Pt': '3'}\n",
      "{'_id': ObjectId('5bb01ebe81a0d515c1895e23'), 'rank': '12', 'Team': 'Newcastle United', 'M': '2', 'W': '0', 'D': '1', 'L': '1', 'goals': '1:2', 'Dif': '-1', 'Pt': '1'}\n",
      "{'_id': ObjectId('5bb01ebe81a0d515c1895e24'), 'rank': '', 'Team': 'Southampton FC', 'M': '2', 'W': '0', 'D': '1', 'L': '1', 'goals': '1:2', 'Dif': '-1', 'Pt': '1'}\n",
      "{'_id': ObjectId('5bb01ebe81a0d515c1895e25'), 'rank': '14', 'Team': 'Wolverhampton Wanderers', 'M': '2', 'W': '0', 'D': '1', 'L': '1', 'goals': '2:4', 'Dif': '-2', 'Pt': '1'}\n",
      "{'_id': ObjectId('5bb01ebe81a0d515c1895e26'), 'rank': '15', 'Team': 'Burnley FC', 'M': '2', 'W': '0', 'D': '1', 'L': '1', 'goals': '1:3', 'Dif': '-2', 'Pt': '1'}\n",
      "{'_id': ObjectId('5bb01ebe81a0d515c1895e27'), 'rank': '16', 'Team': 'Cardiff City', 'M': '2', 'W': '0', 'D': '1', 'L': '1', 'goals': '0:2', 'Dif': '-2', 'Pt': '1'}\n",
      "{'_id': ObjectId('5bb01ebe81a0d515c1895e28'), 'rank': '17', 'Team': 'Arsenal FC', 'M': '2', 'W': '0', 'D': '0', 'L': '2', 'goals': '2:5', 'Dif': '-3', 'Pt': '0'}\n",
      "{'_id': ObjectId('5bb01ebe81a0d515c1895e29'), 'rank': '18', 'Team': 'Fulham FC', 'M': '2', 'W': '0', 'D': '0', 'L': '2', 'goals': '1:5', 'Dif': '-4', 'Pt': '0'}\n",
      "{'_id': ObjectId('5bb01ebe81a0d515c1895e2a'), 'rank': '19', 'Team': 'West Ham United', 'M': '2', 'W': '0', 'D': '0', 'L': '2', 'goals': '1:6', 'Dif': '-5', 'Pt': '0'}\n",
      "{'_id': ObjectId('5bb01ebe81a0d515c1895e2b'), 'rank': '20', 'Team': 'Huddersfield Town', 'M': '2', 'W': '0', 'D': '0', 'L': '2', 'goals': '1:9', 'Dif': '-8', 'Pt': '0'}\n"
     ]
    }
   ],
   "source": [
    "#Lista documentos\n",
    "for rodadas in Premier_collection.find({'M':{'$gt':'1'}}):\n",
    "    print(rodadas)"
   ]
  },
  {
   "cell_type": "code",
   "execution_count": null,
   "metadata": {},
   "outputs": [],
   "source": []
  }
 ],
 "metadata": {
  "kernelspec": {
   "display_name": "Python 3",
   "language": "python",
   "name": "python3"
  },
  "language_info": {
   "codemirror_mode": {
    "name": "ipython",
    "version": 3
   },
   "file_extension": ".py",
   "mimetype": "text/x-python",
   "name": "python",
   "nbconvert_exporter": "python",
   "pygments_lexer": "ipython3",
   "version": "3.6.3"
  }
 },
 "nbformat": 4,
 "nbformat_minor": 2
}
