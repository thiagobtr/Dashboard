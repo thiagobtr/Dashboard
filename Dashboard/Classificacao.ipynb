{
 "cells": [
  {
   "cell_type": "code",
   "execution_count": null,
   "metadata": {},
   "outputs": [],
   "source": [
    "#instalando pymongo\n",
    "!pip install pymongo"
   ]
  },
  {
   "cell_type": "code",
   "execution_count": 1,
   "metadata": {},
   "outputs": [],
   "source": [
    "#Biblioteca usada para requisitar uma pagina web\n",
    "import urllib.request\n",
    "import pandas as pd\n",
    "from pymongo import MongoClient"
   ]
  },
  {
   "cell_type": "code",
   "execution_count": 2,
   "metadata": {},
   "outputs": [],
   "source": [
    "# Definimos a url\n",
    "# Verifique as permissões em https://www.python.org/robots.txt\n",
    "with urllib.request.urlopen(\"https://www.worldfootball.net/scorer/eng-premier-league-2018-2019/\") as url:\n",
    "    page = url.read()"
   ]
  },
  {
   "cell_type": "code",
   "execution_count": 3,
   "metadata": {},
   "outputs": [],
   "source": [
    "from bs4 import BeautifulSoup"
   ]
  },
  {
   "cell_type": "code",
   "execution_count": 4,
   "metadata": {},
   "outputs": [],
   "source": [
    "# Analise o html na variável 'page' e armazene-o no formato Beautiful Soup\n",
    "soup = BeautifulSoup(page, \"html.parser\")"
   ]
  },
  {
   "cell_type": "code",
   "execution_count": 5,
   "metadata": {},
   "outputs": [
    {
     "data": {
      "text/plain": [
       "<title>Premier League 2018/2019 » Scorers</title>"
      ]
     },
     "execution_count": 5,
     "metadata": {},
     "output_type": "execute_result"
    }
   ],
   "source": [
    "soup.title"
   ]
  },
  {
   "cell_type": "code",
   "execution_count": null,
   "metadata": {},
   "outputs": [],
   "source": [
    "soup.find_all('table')"
   ]
  },
  {
   "cell_type": "code",
   "execution_count": 20,
   "metadata": {},
   "outputs": [
    {
     "data": {
      "text/plain": [
       "'1'"
      ]
     },
     "execution_count": 20,
     "metadata": {},
     "output_type": "execute_result"
    }
   ],
   "source": [
    "rodada = soup.find_all('option',{'class':\"wahl\"})[1]\n",
    "rodada = rodada.get_text(strip=True).split('.')[0]"
   ]
  },
  {
   "cell_type": "code",
   "execution_count": 6,
   "metadata": {},
   "outputs": [],
   "source": [
    "#selecionando tabela com a classe\n",
    "Classif = soup.find_all('table',{'class':\"standard_tabelle\"})[0]"
   ]
  },
  {
   "cell_type": "code",
   "execution_count": 7,
   "metadata": {},
   "outputs": [],
   "source": [
    "Cabecalho = Classif.find_all('tr')"
   ]
  },
  {
   "cell_type": "code",
   "execution_count": 8,
   "metadata": {},
   "outputs": [],
   "source": [
    "header = Classif.find_all('th')"
   ]
  },
  {
   "cell_type": "code",
   "execution_count": 9,
   "metadata": {},
   "outputs": [],
   "source": [
    "header_scorer = []\n",
    "for cab in header:\n",
    "    header_scorer.append(cab.get_text(strip=True))"
   ]
  },
  {
   "cell_type": "code",
   "execution_count": 8,
   "metadata": {},
   "outputs": [],
   "source": [
    "header = ['Data','Hora','Home','campo1','Away','Placar','campo2','campo3']"
   ]
  },
  {
   "cell_type": "code",
   "execution_count": 10,
   "metadata": {},
   "outputs": [
    {
     "name": "stdout",
     "output_type": "stream",
     "text": [
      "[[], ['1.', 'Eden Hazard', '', 'Belgium', 'Chelsea FC', '10(7+3)'], ['2.', 'Kun Agüero', '', 'Argentina', 'Manchester City', '7(5+2)'], ['', 'Callum Wilson', '', 'England', 'AFC Bournemouth', '7(3+4)'], ['4.', 'Harry Kane', '', 'England', 'Tottenham Hotspur', '6(5+1)'], ['', 'Raheem Sterling', '', 'England', 'Manchester City', '6(4+2)'], ['', 'Alexandre Lacazette', '', 'France', 'Arsenal FC', '6(4+2)'], ['', 'Ryan Fraser', '', 'Scotland', 'AFC Bournemouth', '6(3+3)'], ['8.', 'Aleksandar Mitrović', '', 'Serbia', 'Fulham FC', '5(5+0)'], ['', 'Glenn Murray', '', 'England', 'Brighton & Hove Albion', '5(5+0)'], ['', 'Joshua King', '', 'Norway', 'AFC Bournemouth', '5(4+1)'], ['', 'Gylfi Sigurðsson', '', 'Iceland', 'Everton FC', '5(4+1)'], ['', 'Marko Arnautović', '', 'Austria', 'West Ham United', '5(4+1)'], ['', 'Pierre-Emerick Aubameyang', '', 'Gabon', 'Arsenal FC', '5(4+1)'], ['', 'James Maddison', '', 'England', 'Leicester City', '5(3+2)'], ['', 'Raúl Jiménez', '', 'Mexico', 'Wolverhampton Wanderers', '5(2+3)'], ['', 'Jóhann Guðmundsson', '', 'Iceland', 'Burnley FC', '5(1+4)'], ['', 'José Holebas', '', 'Greece', 'Watford FC', '5(1+4)'], ['18.', 'Romelu Lukaku', '', 'Belgium', 'Manchester United', '4(4+0)'], ['', 'Sadio Mané', '', 'Senegal', 'Liverpool FC', '4(4+0)'], ['', 'Richarlison', '', 'Brazil', 'Everton FC', '4(4+0)'], ['', 'Jamie Vardy', '', 'England', 'Leicester City', '4(3+1)'], ['', 'Mohamed Salah', '', 'Egypt', 'Liverpool FC', '4(3+1)'], ['', 'Wilfried Zaha', '', 'Ivory Coast', 'Crystal Palace', '4(3+1)'], ['', 'Theo Walcott', '', 'England', 'Everton FC', '4(2+2)'], ['', 'Roberto Firmino', '', 'Brazil', 'Liverpool FC', '4(2+2)'], ['', 'Paul Pogba', '', 'France', 'Manchester United', '4(2+2)'], ['', 'Anthony Knockaert', '', 'France', 'Brighton & Hove Albion', '4(1+3)'], ['', 'Aaron Ramsey', '', 'Wales', 'Arsenal FC', '4(1+3)'], ['', 'Kelechi Iheanacho', '', 'Nigeria', 'Leicester City', '4(1+3)'], ['', 'Benjamin Mendy', '', 'France', 'Manchester City', '4(0+4)'], ['', 'Olivier Giroud', '', 'France', 'Chelsea FC', '4(0+4)'], ['', 'Luciano Vietto', '', 'Argentina', 'Fulham FC', '4(0+4)'], ['33.', 'Lucas', '', 'Brazil', 'Tottenham Hotspur', '3(3+0)'], ['', 'Pedro', '', 'Spain', 'Chelsea FC', '3(3+0)'], ['', 'André Schürrle', '', 'Germany', 'Fulham FC', '3(3+0)'], ['', 'Roberto Pereyra', '', 'Argentina', 'Watford FC', '3(3+0)'], ['', 'Danny Ings', '', 'England', 'Southampton FC', '3(3+0)'], ['', 'Andre Gray', '', 'England', 'Watford FC', '3(3+0)'], ['', 'Érik Lamela', '', 'Argentina', 'Tottenham Hotspur', '3(2+1)'], ['', 'Bernardo Silva', '', 'Portugal', 'Manchester City', '3(2+1)'], ['', 'Shane Duffy', '', 'Ireland', 'Brighton & Hove Albion', '3(2+1)'], ['', 'Troy Deeney', '', 'England', 'Watford FC', '3(2+1)'], ['', 'Kieran Trippier', '', 'England', 'Tottenham Hotspur', '3(1+2)'], ['', 'James Milner', '', 'England', 'Liverpool FC', '3(1+2)'], ['', 'Matt Doherty', '', 'Ireland', 'Wolverhampton Wanderers', '3(1+2)'], ['', 'Leroy Sané', '', 'Germany', 'Manchester City', '3(1+2)'], ['', 'Marcos Alonso', '', 'Spain', 'Chelsea FC', '3(1+2)'], ['', 'Cenk Tosun', '', 'Turkey', 'Everton FC', '3(1+2)'], ['', 'İlkay Gündoğan', '', 'Germany', 'Manchester City', '3(1+2)'], ['50.', 'Joselu', '', 'Spain', 'Newcastle United', '2(2+0)'], ['', 'Mesut Özil', '', 'Germany', 'Arsenal FC', '2(2+0)'], ['', 'Daniel Sturridge', '', 'England', 'Liverpool FC', '2(2+0)'], ['', 'Andrey Yarmolenko', '', 'Ukraine', 'West Ham United', '2(2+0)'], ['', 'Riyad Mahrez', '', 'Algeria', 'Manchester City', '2(2+0)'], ['', 'Ashley Barnes', '', 'England', 'Burnley FC', '2(2+0)'], ['', 'Sam Vokes', '', 'Wales', 'Burnley FC', '2(2+0)'], ['', 'Harry Maguire', '', 'England', 'Leicester City', '2(2+0)'], ['', 'David Brooks', '', 'Wales', 'AFC Bournemouth', '2(2+0)'], ['', 'David Silva', '', 'Spain', 'Manchester City', '2(2+0)'], ['', 'Pierre-Emile Højbjerg', '', 'Denmark', 'Southampton FC', '2(2+0)'], ['', 'James Tarkowski', '', 'England', 'Burnley FC', '2(2+0)'], ['', 'Morata', '', 'Spain', 'Chelsea FC', '2(2+0)'], ['', 'Ricardo Pereira', '', 'Portugal', 'Leicester City', '2(1+1)'], ['', 'Henrikh Mkhitaryan', '', 'Armenia', 'Arsenal FC', '2(1+1)'], ['', 'Nacho Monreal', '', 'Spain', 'Arsenal FC', '2(1+1)'], ['', 'Rúben Neves', '', 'Portugal', 'Wolverhampton Wanderers', '2(1+1)'], ['', 'Patrick van Aanholt', '', 'Netherlands', 'Crystal Palace', '2(1+1)'], ['', 'DeAndre Yedlin', '', 'USA', 'Newcastle United', '2(1+1)'], ['', 'Mata', '', 'Spain', 'Manchester United', '2(1+1)'], ['', 'Granit Xhaka', '', 'Switzerland', 'Arsenal FC', '2(1+1)'], ['', 'Willian', '', 'Brazil', 'Chelsea FC', '2(1+1)'], ['', 'Luke Shaw', '', 'England', 'Manchester United', '2(1+1)'], ['', 'Danny Welbeck', '', 'England', 'Arsenal FC', '2(1+1)'], ['', 'Jean Michaël Seri', '', 'Ivory Coast', 'Fulham FC', '2(1+1)'], ['', 'Alexis Sánchez', '', 'Chile', 'Manchester United', '2(1+1)'], ['', 'João Moutinho', '', 'Portugal', 'Wolverhampton Wanderers', '2(1+1)'], ['', 'Michael Keane', '', 'England', 'Everton FC', '2(1+1)'], ['', 'Ross Barkley', '', 'England', 'Chelsea FC', '2(1+1)'], ['', 'Will Hughes', '', 'England', 'Watford FC', '2(1+1)'], ['', 'Alex Iwobi', '', 'Nigeria', 'Arsenal FC', '2(1+1)'], ['', 'Steve Cook', '', 'England', 'AFC Bournemouth', '2(1+1)'], ['', 'Felipe Anderson', '', 'Brazil', 'West Ham United', '2(1+1)'], ['', 'Aaron Lennon', '', 'England', 'Burnley FC', '2(1+1)'], ['', 'Marc Albrighton', '', 'England', 'Leicester City', '2(1+1)'], ['', 'Mark Noble', '', 'England', 'West Ham United', '2(0+2)'], ['', 'Sean Morrison', '', 'England', 'Cardiff City', '2(0+2)'], ['', 'Andrew Robertson', '', 'Scotland', 'Liverpool FC', '2(0+2)'], ['', 'Abdoulaye Doucouré', '', 'France', 'Watford FC', '2(0+2)'], ['', 'Héctor Bellerín', '', 'Spain', 'Arsenal FC', '2(0+2)'], ['', 'Christian Eriksen', '', 'Denmark', 'Tottenham Hotspur', '2(0+2)'], ['91.', 'Eric Dier', '', 'England', 'Tottenham Hotspur', '1(1+0)'], ['', 'Fred', '', 'Brazil', 'Manchester United', '1(1+0)'], ['', 'Rachid Ghezzal', '', 'Algeria', 'Leicester City', '1(1+0)'], ['', 'Jon Gorenc Stankovič', '', 'Slovenia', 'Huddersfield Town', '1(1+0)'], ['', 'Gabriel Jesus', '', 'Brazil', 'Manchester City', '1(1+0)'], ['', 'Dominic Calvert-Lewin', '', 'England', 'Everton FC', '1(1+0)'], ['', 'Ryan Bertrand', '', 'England', 'Southampton FC', '1(1+0)'], ['', 'Souleymane Bamba', '', 'Ivory Coast', 'Cardiff City', '1(1+0)'], ['', 'Dele Alli', '', 'England', 'Tottenham Hotspur', '1(1+0)'], ['', 'Nathan Aké', '', 'Netherlands', 'AFC Bournemouth', '1(1+0)'], ['', 'Philip Billing', '', 'Denmark', 'Huddersfield Town', '1(1+0)'], ['', 'Willy Boly', '', 'France', 'Wolverhampton Wanderers', '1(1+0)'], ['', 'Craig Cathcart', '', 'Northern Ireland', 'Watford FC', '1(1+0)'], ['', 'Camarasa', '', 'Spain', 'Cardiff City', '1(1+0)'], ['', 'Demarai Gray', '', 'England', 'Leicester City', '1(1+0)'], ['', 'Ciaran Clark', '', 'Ireland', 'Newcastle United', '1(1+0)'], ['', 'Jonny', '', 'Spain', 'Wolverhampton Wanderers', '1(1+0)'], ['', 'Adam Smith', '', 'England', 'AFC Bournemouth', '1(1+0)'], ['', 'Junior Stanislas', '', 'England', 'AFC Bournemouth', '1(1+0)'], ['', 'Chris Smalling', '', 'England', 'Manchester United', '1(1+0)'], ['', 'Jeffrey Schlupp', '', 'Ghana', 'Crystal Palace', '1(1+0)'], ['', 'Christopher Schindler', '', 'Germany', 'Huddersfield Town', '1(1+0)'], ['', 'Adama Traoré', '', 'Mali', 'Wolverhampton Wanderers', '1(1+0)'], ['', 'Jan Vertonghen', '', 'Belgium', 'Tottenham Hotspur', '1(1+0)'], ['', 'Georginio Wijnaldum', '', 'Netherlands', 'Liverpool FC', '1(1+0)'], ['', 'Danny Ward', '', 'England', 'Cardiff City', '1(1+0)'], ['', 'Kyle Walker', '', 'England', 'Manchester City', '1(1+0)'], ['', 'Matěj Vydra', '', 'Czech Republic', 'Burnley FC', '1(1+0)'], ['', 'Marcus Rashford', '', 'England', 'Manchester United', '1(1+0)'], ['', 'Yoshinori Mutō', '', 'Japan', 'Newcastle United', '1(1+0)'], ['', 'Mathias Jørgensen', '', 'Denmark', 'Huddersfield Town', '1(1+0)'], ['', \"N'Golo Kanté\", '', 'France', 'Chelsea FC', '1(1+0)'], ['', 'Jorginho', '', 'Italy', 'Chelsea FC', '1(1+0)'], ['', 'Ivan Cavaleiro', '', 'Portugal', 'Wolverhampton Wanderers', '1(1+0)'], ['', 'Jeff Hendrick', '', 'Ireland', 'Burnley FC', '1(1+0)'], ['', 'Kenedy', '', 'Brazil', 'Newcastle United', '1(1+0)'], ['', 'Aymeric Laporte', '', 'France', 'Manchester City', '1(1+0)'], ['', 'Shkodran Mustafi', '', 'Germany', 'Arsenal FC', '1(1+0)'], ['', 'Josh Murphy', '', 'England', 'Cardiff City', '1(1+0)'], ['', 'Joel Matip', '', 'Cameroon', 'Liverpool FC', '1(1+0)'], ['', 'Anthony Martial', '', 'France', 'Manchester United', '1(1+0)'], ['', 'Pascal Groß', '', 'Germany', 'Brighton & Hove Albion', '1(1+0)'], ['', 'Jordan Ayew', '', 'Ghana', 'Crystal Palace', '1(0+1)'], ['', 'Ryan Sessegnon', '', 'England', 'Fulham FC', '1(0+1)'], ['', 'Morgan Schneiderlin', '', 'France', 'Everton FC', '1(0+1)'], ['', 'Davinson Sánchez', '', 'Colombia', 'Tottenham Hotspur', '1(0+1)'], ['', 'Jonjoe Kenny', '', 'England', 'Everton FC', '1(0+1)'], ['', 'Xherdan Shaqiri', '', 'Switzerland', 'Liverpool FC', '1(0+1)'], ['', 'Biram Kayal', '', 'Israel', 'Brighton & Hove Albion', '1(0+1)'], ['', 'Daryl Janmaat', '', 'Netherlands', 'Watford FC', '1(0+1)'], ['', 'Lucas Torreira', '', 'Uruguay', 'Arsenal FC', '1(0+1)'], ['', 'Matt Targett', '', 'England', 'Southampton FC', '1(0+1)'], ['', 'Jonjo Shelvey', '', 'England', 'Newcastle United', '1(0+1)'], ['', 'Mateo Kovačić', '', 'Croatia', 'Chelsea FC', '1(0+1)'], ['', 'Mario Lemina', '', 'Gabon', 'Southampton FC', '1(0+1)'], ['', 'Steve Mounié', '', 'Benin', 'Huddersfield Town', '1(0+1)'], ['', 'Chris Löwe', '', 'Germany', 'Huddersfield Town', '1(0+1)'], ['', 'Max Meyer', '', 'Germany', 'Crystal Palace', '1(0+1)'], ['', 'Ben Mee', '', 'England', 'Burnley FC', '1(0+1)'], ['', 'Léo Bonatini', '', 'Brazil', 'Wolverhampton Wanderers', '1(0+1)'], ['', 'Pedro Obiang', '', 'Spain', 'West Ham United', '1(0+1)'], ['', 'Danny Rose', '', 'England', 'Tottenham Hotspur', '1(0+1)'], ['', 'Salomón Rondón', '', 'Venezuela', 'Newcastle United', '1(0+1)'], ['', 'Matt Ritchie', '', 'Scotland', 'Newcastle United', '1(0+1)'], ['', 'Aaron Wan-Bissaka', '', 'England', 'Crystal Palace', '1(0+1)'], ['', 'Ashley Westwood', '', 'England', 'Burnley FC', '1(0+1)'], ['', 'Bernard', '', 'Brazil', 'Everton FC', '1(0+1)'], ['', 'Tom Cairney', '', 'England', 'Fulham FC', '1(0+1)'], ['', 'Étienne Capoue', '', 'France', 'Watford FC', '1(0+1)'], ['', 'Cédric Soares', '', 'Portugal', 'Southampton FC', '1(0+1)'], ['', 'Joe Bennett', '', 'England', 'Cardiff City', '1(0+1)'], ['', 'Azpilicueta', '', 'Spain', 'Chelsea FC', '1(0+1)'], ['', 'Serge Aurier', '', 'Ivory Coast', 'Tottenham Hotspur', '1(0+1)'], ['', 'Solomon March', '', 'England', 'Brighton & Hove Albion', '1(0+1)'], ['', 'Ayoze Pérez', '', 'Spain', 'Newcastle United', '1(0+1)'], ['', 'Laurent Depoitre', '', 'Belgium', 'Huddersfield Town', '1(0+1)'], ['', 'Lucas Digne', '', 'France', 'Everton FC', '1(0+1)'], ['', 'Ashley Young', '', 'England', 'Manchester United', '1(0+1)'], ['', 'Federico Fernández', '', 'Argentina', 'Newcastle United', '1(0+1)'], ['', 'Fernandinho', '', 'Brazil', 'Manchester City', '1(0+1)'], ['', 'Simon Francis', '', 'England', 'AFC Bournemouth', '1(0+1)'], ['', 'Pablo Zabaleta', '', 'Argentina', 'West Ham United', '1(0+1)'], ['', 'Marouane Fellaini', '', 'Belgium', 'Manchester United', '1(0+1)'], ['', 'Bruno Écuélé', '', 'Gabon', 'Cardiff City', '1(0+1)'], ['', 'Ederson', '', 'Brazil', 'Manchester City', '1(0+1)'], ['', 'Kurt Zouma', '', 'France', 'Everton FC', '1(0+1)'], ['', 'Trent Alexander-Arnold', '', 'England', 'Liverpool FC', '1(0+1)']]\n"
     ]
    }
   ],
   "source": [
    "jogos=[]\n",
    "#pos = [0,1,2,4,5]\n",
    "for jogo in Cabecalho:\n",
    "    jogos.append([partida.get_text(strip=True) for partida in jogo.find_all('td')])\n",
    "    \n",
    "print (jogos)"
   ]
  },
  {
   "cell_type": "code",
   "execution_count": 65,
   "metadata": {},
   "outputs": [],
   "source": [
    "Partidas = pd.DataFrame.from_records(jogos,columns = header_scorer)\n",
    "Partidas.dropna(inplace=True)"
   ]
  },
  {
   "cell_type": "code",
   "execution_count": 30,
   "metadata": {},
   "outputs": [],
   "source": [
    "import re"
   ]
  },
  {
   "cell_type": "code",
   "execution_count": 66,
   "metadata": {},
   "outputs": [],
   "source": [
    "Partidas['points'] = Partidas['points'].str.split('+')\n"
   ]
  },
  {
   "cell_type": "code",
   "execution_count": 44,
   "metadata": {},
   "outputs": [
    {
     "data": {
      "text/html": [
       "<div>\n",
       "<style>\n",
       "    .dataframe thead tr:only-child th {\n",
       "        text-align: right;\n",
       "    }\n",
       "\n",
       "    .dataframe thead th {\n",
       "        text-align: left;\n",
       "    }\n",
       "\n",
       "    .dataframe tbody tr th {\n",
       "        vertical-align: top;\n",
       "    }\n",
       "</style>\n",
       "<table border=\"1\" class=\"dataframe\">\n",
       "  <thead>\n",
       "    <tr style=\"text-align: right;\">\n",
       "      <th></th>\n",
       "      <th>0</th>\n",
       "      <th>1</th>\n",
       "    </tr>\n",
       "  </thead>\n",
       "  <tbody>\n",
       "    <tr>\n",
       "      <th>0</th>\n",
       "      <td>a</td>\n",
       "      <td>1</td>\n",
       "    </tr>\n",
       "    <tr>\n",
       "      <th>1</th>\n",
       "      <td>b</td>\n",
       "      <td>2</td>\n",
       "    </tr>\n",
       "    <tr>\n",
       "      <th>2</th>\n",
       "      <td>NaN</td>\n",
       "      <td>NaN</td>\n",
       "    </tr>\n",
       "  </tbody>\n",
       "</table>\n",
       "</div>"
      ],
      "text/plain": [
       "     0    1\n",
       "0    a    1\n",
       "1    b    2\n",
       "2  NaN  NaN"
      ]
     },
     "execution_count": 44,
     "metadata": {},
     "output_type": "execute_result"
    }
   ],
   "source": [
    "ab = pd.Series(['a1', 'b2', 'c3'])\n",
    "ab.str.extract('([ab])(\\d)', expand=False)"
   ]
  },
  {
   "cell_type": "code",
   "execution_count": 71,
   "metadata": {},
   "outputs": [],
   "source": [
    "gols = [valor[0] for valor in Partidas['points']]\n",
    "ass = [valor[1] for valor in Partidas['points']]\n",
    "Partidas['gols'] = gols\n",
    "Partidas['ass'] = ass\n"
   ]
  },
  {
   "cell_type": "code",
   "execution_count": 76,
   "metadata": {},
   "outputs": [
    {
     "data": {
      "text/html": [
       "<div>\n",
       "<style>\n",
       "    .dataframe thead tr:only-child th {\n",
       "        text-align: right;\n",
       "    }\n",
       "\n",
       "    .dataframe thead th {\n",
       "        text-align: left;\n",
       "    }\n",
       "\n",
       "    .dataframe tbody tr th {\n",
       "        vertical-align: top;\n",
       "    }\n",
       "</style>\n",
       "<table border=\"1\" class=\"dataframe\">\n",
       "  <thead>\n",
       "    <tr style=\"text-align: right;\">\n",
       "      <th></th>\n",
       "      <th>#</th>\n",
       "      <th>Player</th>\n",
       "      <th></th>\n",
       "      <th>Country</th>\n",
       "      <th>Team</th>\n",
       "      <th>points</th>\n",
       "      <th>gols</th>\n",
       "      <th>ass</th>\n",
       "    </tr>\n",
       "  </thead>\n",
       "  <tbody>\n",
       "    <tr>\n",
       "      <th>1</th>\n",
       "      <td>1.</td>\n",
       "      <td>Eden Hazard</td>\n",
       "      <td></td>\n",
       "      <td>Belgium</td>\n",
       "      <td>Chelsea FC</td>\n",
       "      <td>[10(7, 3)]</td>\n",
       "      <td>10(7</td>\n",
       "      <td>3)</td>\n",
       "    </tr>\n",
       "    <tr>\n",
       "      <th>2</th>\n",
       "      <td>2.</td>\n",
       "      <td>Kun Agüero</td>\n",
       "      <td></td>\n",
       "      <td>Argentina</td>\n",
       "      <td>Manchester City</td>\n",
       "      <td>[7(5, 2)]</td>\n",
       "      <td>7(5</td>\n",
       "      <td>2)</td>\n",
       "    </tr>\n",
       "    <tr>\n",
       "      <th>3</th>\n",
       "      <td></td>\n",
       "      <td>Callum Wilson</td>\n",
       "      <td></td>\n",
       "      <td>England</td>\n",
       "      <td>AFC Bournemouth</td>\n",
       "      <td>[7(3, 4)]</td>\n",
       "      <td>7(3</td>\n",
       "      <td>4)</td>\n",
       "    </tr>\n",
       "    <tr>\n",
       "      <th>4</th>\n",
       "      <td>4.</td>\n",
       "      <td>Harry Kane</td>\n",
       "      <td></td>\n",
       "      <td>England</td>\n",
       "      <td>Tottenham Hotspur</td>\n",
       "      <td>[6(5, 1)]</td>\n",
       "      <td>6(5</td>\n",
       "      <td>1)</td>\n",
       "    </tr>\n",
       "    <tr>\n",
       "      <th>5</th>\n",
       "      <td></td>\n",
       "      <td>Raheem Sterling</td>\n",
       "      <td></td>\n",
       "      <td>England</td>\n",
       "      <td>Manchester City</td>\n",
       "      <td>[6(4, 2)]</td>\n",
       "      <td>6(4</td>\n",
       "      <td>2)</td>\n",
       "    </tr>\n",
       "  </tbody>\n",
       "</table>\n",
       "</div>"
      ],
      "text/plain": [
       "    #           Player      Country               Team      points  gols ass\n",
       "1  1.      Eden Hazard      Belgium         Chelsea FC  [10(7, 3)]  10(7  3)\n",
       "2  2.       Kun Agüero    Argentina    Manchester City   [7(5, 2)]   7(5  2)\n",
       "3        Callum Wilson      England    AFC Bournemouth   [7(3, 4)]   7(3  4)\n",
       "4  4.       Harry Kane      England  Tottenham Hotspur   [6(5, 1)]   6(5  1)\n",
       "5      Raheem Sterling      England    Manchester City   [6(4, 2)]   6(4  2)"
      ]
     },
     "execution_count": 76,
     "metadata": {},
     "output_type": "execute_result"
    }
   ],
   "source": [
    "Partidas.head()"
   ]
  },
  {
   "cell_type": "code",
   "execution_count": 88,
   "metadata": {},
   "outputs": [
    {
     "data": {
      "text/plain": [
       "1      3\n",
       "2      2\n",
       "3      4\n",
       "4      1\n",
       "5      2\n",
       "6      2\n",
       "7      3\n",
       "8      0\n",
       "9      0\n",
       "10     1\n",
       "11     1\n",
       "12     1\n",
       "13     1\n",
       "14     2\n",
       "15     3\n",
       "16     4\n",
       "17     4\n",
       "18     0\n",
       "19     0\n",
       "20     0\n",
       "21     1\n",
       "22     1\n",
       "23     1\n",
       "24     2\n",
       "25     2\n",
       "26     2\n",
       "27     3\n",
       "28     3\n",
       "29     3\n",
       "30     4\n",
       "      ..\n",
       "148    1\n",
       "149    1\n",
       "150    1\n",
       "151    1\n",
       "152    1\n",
       "153    1\n",
       "154    1\n",
       "155    1\n",
       "156    1\n",
       "157    1\n",
       "158    1\n",
       "159    1\n",
       "160    1\n",
       "161    1\n",
       "162    1\n",
       "163    1\n",
       "164    1\n",
       "165    1\n",
       "166    1\n",
       "167    1\n",
       "168    1\n",
       "169    1\n",
       "170    1\n",
       "171    1\n",
       "172    1\n",
       "173    1\n",
       "174    1\n",
       "175    1\n",
       "176    1\n",
       "177    1\n",
       "Name: 0, Length: 177, dtype: object"
      ]
     },
     "execution_count": 88,
     "metadata": {},
     "output_type": "execute_result"
    }
   ],
   "source": [
    "Partidas['ass'] = Partidas['ass'].str.split(')',expand=True)[0]"
   ]
  },
  {
   "cell_type": "code",
   "execution_count": 87,
   "metadata": {},
   "outputs": [
    {
     "data": {
      "text/plain": [
       "1      7\n",
       "2      5\n",
       "3      3\n",
       "4      5\n",
       "5      4\n",
       "6      4\n",
       "7      3\n",
       "8      5\n",
       "9      5\n",
       "10     4\n",
       "11     4\n",
       "12     4\n",
       "13     4\n",
       "14     3\n",
       "15     2\n",
       "16     1\n",
       "17     1\n",
       "18     4\n",
       "19     4\n",
       "20     4\n",
       "21     3\n",
       "22     3\n",
       "23     3\n",
       "24     2\n",
       "25     2\n",
       "26     2\n",
       "27     1\n",
       "28     1\n",
       "29     1\n",
       "30     0\n",
       "      ..\n",
       "148    0\n",
       "149    0\n",
       "150    0\n",
       "151    0\n",
       "152    0\n",
       "153    0\n",
       "154    0\n",
       "155    0\n",
       "156    0\n",
       "157    0\n",
       "158    0\n",
       "159    0\n",
       "160    0\n",
       "161    0\n",
       "162    0\n",
       "163    0\n",
       "164    0\n",
       "165    0\n",
       "166    0\n",
       "167    0\n",
       "168    0\n",
       "169    0\n",
       "170    0\n",
       "171    0\n",
       "172    0\n",
       "173    0\n",
       "174    0\n",
       "175    0\n",
       "176    0\n",
       "177    0\n",
       "Name: 1, Length: 177, dtype: object"
      ]
     },
     "execution_count": 87,
     "metadata": {},
     "output_type": "execute_result"
    }
   ],
   "source": [
    "Partidas['gols'] = Partidas['gols'].str.split('(',expand=True)[1]\n"
   ]
  },
  {
   "cell_type": "code",
   "execution_count": 22,
   "metadata": {},
   "outputs": [
    {
     "data": {
      "text/html": [
       "<div>\n",
       "<style>\n",
       "    .dataframe thead tr:only-child th {\n",
       "        text-align: right;\n",
       "    }\n",
       "\n",
       "    .dataframe thead th {\n",
       "        text-align: left;\n",
       "    }\n",
       "\n",
       "    .dataframe tbody tr th {\n",
       "        vertical-align: top;\n",
       "    }\n",
       "</style>\n",
       "<table border=\"1\" class=\"dataframe\">\n",
       "  <thead>\n",
       "    <tr style=\"text-align: right;\">\n",
       "      <th></th>\n",
       "      <th>Data</th>\n",
       "      <th>Hora</th>\n",
       "      <th>Home</th>\n",
       "      <th>Away</th>\n",
       "      <th>Placar</th>\n",
       "      <th>Placar2</th>\n",
       "    </tr>\n",
       "  </thead>\n",
       "  <tbody>\n",
       "    <tr>\n",
       "      <th>0</th>\n",
       "      <td>10/08/2018</td>\n",
       "      <td>20:00</td>\n",
       "      <td>Manchester United</td>\n",
       "      <td>Leicester City</td>\n",
       "      <td>2:1 (1:0)</td>\n",
       "      <td>2:1</td>\n",
       "    </tr>\n",
       "    <tr>\n",
       "      <th>1</th>\n",
       "      <td>11/08/2018</td>\n",
       "      <td>12:30</td>\n",
       "      <td>Newcastle United</td>\n",
       "      <td>Tottenham Hotspur</td>\n",
       "      <td>1:2 (1:2)</td>\n",
       "      <td>1:2</td>\n",
       "    </tr>\n",
       "    <tr>\n",
       "      <th>2</th>\n",
       "      <td></td>\n",
       "      <td>15:00</td>\n",
       "      <td>AFC Bournemouth</td>\n",
       "      <td>Cardiff City</td>\n",
       "      <td>2:0 (1:0)</td>\n",
       "      <td>2:0</td>\n",
       "    </tr>\n",
       "    <tr>\n",
       "      <th>3</th>\n",
       "      <td></td>\n",
       "      <td>15:00</td>\n",
       "      <td>Fulham FC</td>\n",
       "      <td>Crystal Palace</td>\n",
       "      <td>0:2 (0:1)</td>\n",
       "      <td>0:2</td>\n",
       "    </tr>\n",
       "    <tr>\n",
       "      <th>4</th>\n",
       "      <td></td>\n",
       "      <td>15:00</td>\n",
       "      <td>Huddersfield Town</td>\n",
       "      <td>Chelsea FC</td>\n",
       "      <td>0:3 (0:2)</td>\n",
       "      <td>0:3</td>\n",
       "    </tr>\n",
       "    <tr>\n",
       "      <th>5</th>\n",
       "      <td></td>\n",
       "      <td>15:00</td>\n",
       "      <td>Watford FC</td>\n",
       "      <td>Brighton &amp; Hove Albion</td>\n",
       "      <td>2:0 (1:0)</td>\n",
       "      <td>2:0</td>\n",
       "    </tr>\n",
       "    <tr>\n",
       "      <th>6</th>\n",
       "      <td></td>\n",
       "      <td>17:30</td>\n",
       "      <td>Wolverhampton Wanderers</td>\n",
       "      <td>Everton FC</td>\n",
       "      <td>2:2 (1:1)</td>\n",
       "      <td>2:2</td>\n",
       "    </tr>\n",
       "    <tr>\n",
       "      <th>7</th>\n",
       "      <td>12/08/2018</td>\n",
       "      <td>13:30</td>\n",
       "      <td>Southampton FC</td>\n",
       "      <td>Burnley FC</td>\n",
       "      <td>0:0 (0:0)</td>\n",
       "      <td>0:0</td>\n",
       "    </tr>\n",
       "    <tr>\n",
       "      <th>8</th>\n",
       "      <td></td>\n",
       "      <td>13:30</td>\n",
       "      <td>Liverpool FC</td>\n",
       "      <td>West Ham United</td>\n",
       "      <td>4:0 (2:0)</td>\n",
       "      <td>4:0</td>\n",
       "    </tr>\n",
       "    <tr>\n",
       "      <th>9</th>\n",
       "      <td></td>\n",
       "      <td>16:00</td>\n",
       "      <td>Arsenal FC</td>\n",
       "      <td>Manchester City</td>\n",
       "      <td>0:2 (0:1)</td>\n",
       "      <td>0:2</td>\n",
       "    </tr>\n",
       "  </tbody>\n",
       "</table>\n",
       "</div>"
      ],
      "text/plain": [
       "         Data   Hora                     Home                    Away  \\\n",
       "0  10/08/2018  20:00        Manchester United          Leicester City   \n",
       "1  11/08/2018  12:30         Newcastle United       Tottenham Hotspur   \n",
       "2              15:00          AFC Bournemouth            Cardiff City   \n",
       "3              15:00                Fulham FC          Crystal Palace   \n",
       "4              15:00        Huddersfield Town              Chelsea FC   \n",
       "5              15:00               Watford FC  Brighton & Hove Albion   \n",
       "6              17:30  Wolverhampton Wanderers              Everton FC   \n",
       "7  12/08/2018  13:30           Southampton FC              Burnley FC   \n",
       "8              13:30             Liverpool FC         West Ham United   \n",
       "9              16:00               Arsenal FC         Manchester City   \n",
       "\n",
       "      Placar Placar2  \n",
       "0  2:1 (1:0)    2:1   \n",
       "1  1:2 (1:2)    1:2   \n",
       "2  2:0 (1:0)    2:0   \n",
       "3  0:2 (0:1)    0:2   \n",
       "4  0:3 (0:2)    0:3   \n",
       "5  2:0 (1:0)    2:0   \n",
       "6  2:2 (1:1)    2:2   \n",
       "7  0:0 (0:0)    0:0   \n",
       "8  4:0 (2:0)    4:0   \n",
       "9  0:2 (0:1)    0:2   "
      ]
     },
     "execution_count": 22,
     "metadata": {},
     "output_type": "execute_result"
    }
   ],
   "source": [
    "#Formata o placar\n",
    "placar = [placar[0] for placar in Partidas['Placar'].str.split('(').tolist()]\n",
    "Partidas['Placar'] = placar\n"
   ]
  },
  {
   "cell_type": "code",
   "execution_count": null,
   "metadata": {},
   "outputs": [],
   "source": [
    "#Selecionando cabecalho\n",
    "head = []\n",
    "for rows in Cabecalho:\n",
    "    head.append(rows.get_text(strip=True))\n",
    "    #print(type(rows))\n",
    "    "
   ]
  },
  {
   "cell_type": "code",
   "execution_count": null,
   "metadata": {},
   "outputs": [],
   "source": [
    "Classif.find_all('tr')"
   ]
  },
  {
   "cell_type": "code",
   "execution_count": null,
   "metadata": {},
   "outputs": [],
   "source": [
    "#Selecionando dados para criacao do dataset\n",
    "dados = []\n",
    "for linha in Classif.find_all('tr')[1:]:\n",
    "    dados.append([campo.get_text(strip=True) for campo in linha.find_all('td') ])\n",
    "   "
   ]
  },
  {
   "cell_type": "code",
   "execution_count": null,
   "metadata": {},
   "outputs": [],
   "source": [
    "dados_ok=[]\n",
    "for d in dados:\n",
    "    d.pop(1)\n",
    "    dados_ok.append(d)"
   ]
  },
  {
   "cell_type": "code",
   "execution_count": null,
   "metadata": {},
   "outputs": [],
   "source": [
    "Tabela_PremierLeague = pd.DataFrame.from_records(dados_ok,columns = head)"
   ]
  },
  {
   "cell_type": "code",
   "execution_count": null,
   "metadata": {},
   "outputs": [],
   "source": [
    "Tabela_PremierLeague.columns"
   ]
  },
  {
   "cell_type": "code",
   "execution_count": null,
   "metadata": {},
   "outputs": [],
   "source": [
    "Tabela_PremierLeague.rename(columns={'#':'rank','M.':'M','Dif.':'Dif','Pt.':'Pt'},inplace=True)"
   ]
  },
  {
   "cell_type": "code",
   "execution_count": null,
   "metadata": {},
   "outputs": [],
   "source": [
    "#Cria coluna rodada\n",
    "Tabela_PremierLeague['Rodada'] = rodada"
   ]
  },
  {
   "cell_type": "code",
   "execution_count": 50,
   "metadata": {},
   "outputs": [],
   "source": [
    "conn = MongoClient('localhost',27017)"
   ]
  },
  {
   "cell_type": "code",
   "execution_count": 22,
   "metadata": {},
   "outputs": [
    {
     "data": {
      "text/plain": [
       "pymongo.mongo_client.MongoClient"
      ]
     },
     "execution_count": 22,
     "metadata": {},
     "output_type": "execute_result"
    }
   ],
   "source": [
    "type(conn)"
   ]
  },
  {
   "cell_type": "code",
   "execution_count": 51,
   "metadata": {},
   "outputs": [],
   "source": [
    "#Criacao do Banco\n",
    "db = conn.RankGeral"
   ]
  },
  {
   "cell_type": "code",
   "execution_count": 52,
   "metadata": {},
   "outputs": [],
   "source": [
    "#Cricao da colecao\n",
    "Premier_collection = db.PremierLeague_Table"
   ]
  },
  {
   "cell_type": "code",
   "execution_count": null,
   "metadata": {},
   "outputs": [],
   "source": [
    "type(collection)"
   ]
  },
  {
   "cell_type": "code",
   "execution_count": null,
   "metadata": {},
   "outputs": [],
   "source": [
    "PremierLeagueDict = Tabela_PremierLeague.to_dict('records')"
   ]
  },
  {
   "cell_type": "code",
   "execution_count": null,
   "metadata": {},
   "outputs": [],
   "source": [
    "type(PremierLeagueDict)"
   ]
  },
  {
   "cell_type": "code",
   "execution_count": null,
   "metadata": {},
   "outputs": [],
   "source": [
    "#inserindo dados na colecao\n",
    "resultado = Premier_collection.insert_many(PremierLeagueDict)"
   ]
  },
  {
   "cell_type": "code",
   "execution_count": null,
   "metadata": {},
   "outputs": [],
   "source": [
    "resultado.inserted_ids"
   ]
  },
  {
   "cell_type": "code",
   "execution_count": 53,
   "metadata": {},
   "outputs": [
    {
     "data": {
      "text/plain": [
       "['PremierLeague_Table']"
      ]
     },
     "execution_count": 53,
     "metadata": {},
     "output_type": "execute_result"
    }
   ],
   "source": [
    "#lista as colections do banco\n",
    "db.list_collection_names()"
   ]
  },
  {
   "cell_type": "code",
   "execution_count": 25,
   "metadata": {},
   "outputs": [],
   "source": [
    "#Exclui a collection\n",
    "db.Tabelas.drop()"
   ]
  },
  {
   "cell_type": "code",
   "execution_count": 57,
   "metadata": {},
   "outputs": [
    {
     "data": {
      "text/plain": [
       "{'D': '0',\n",
       " 'Dif': '7',\n",
       " 'L': '0',\n",
       " 'M': '2',\n",
       " 'Pt': '6',\n",
       " 'Rodada': '2',\n",
       " 'Team': 'Manchester City',\n",
       " 'W': '2',\n",
       " '_id': ObjectId('5bb952de81a0d535e12db2be'),\n",
       " 'goals': '8:1',\n",
       " 'rank': '1'}"
      ]
     },
     "execution_count": 57,
     "metadata": {},
     "output_type": "execute_result"
    }
   ],
   "source": [
    "#lista primeiro registro\n",
    "Premier_collection.find_one()"
   ]
  },
  {
   "cell_type": "code",
   "execution_count": null,
   "metadata": {},
   "outputs": [],
   "source": [
    "#lista todos os registros\n",
    "for valor in Premier_collection.find():\n",
    "    print(valor)"
   ]
  },
  {
   "cell_type": "code",
   "execution_count": 63,
   "metadata": {},
   "outputs": [
    {
     "data": {
      "text/plain": [
       "0"
      ]
     },
     "execution_count": 63,
     "metadata": {},
     "output_type": "execute_result"
    }
   ],
   "source": [
    "#Lista documentos\n",
    "Premier_collection.estimated_document_count()"
   ]
  },
  {
   "cell_type": "code",
   "execution_count": 61,
   "metadata": {},
   "outputs": [],
   "source": [
    "Premier_collection.find_one()"
   ]
  },
  {
   "cell_type": "code",
   "execution_count": 62,
   "metadata": {},
   "outputs": [
    {
     "data": {
      "text/plain": [
       "<pymongo.results.DeleteResult at 0x7efdf2c02a88>"
      ]
     },
     "execution_count": 62,
     "metadata": {},
     "output_type": "execute_result"
    }
   ],
   "source": [
    "#remove todos os documentos\n",
    "Premier_collection.delete_many({})"
   ]
  },
  {
   "cell_type": "code",
   "execution_count": 63,
   "metadata": {},
   "outputs": [
    {
     "name": "stdout",
     "output_type": "stream",
     "text": [
      "{'_id': ObjectId('5bb01ebe81a0d515c1895e18'), 'rank': '1', 'Team': 'Manchester City', 'M': '2', 'W': '2', 'D': '0', 'L': '0', 'goals': '8:1', 'Dif': '7', 'Pt': '6'}\n",
      "{'_id': ObjectId('5bb01ebe81a0d515c1895e19'), 'rank': '2', 'Team': 'Liverpool FC', 'M': '2', 'W': '2', 'D': '0', 'L': '0', 'goals': '6:0', 'Dif': '6', 'Pt': '6'}\n",
      "{'_id': ObjectId('5bb01ebe81a0d515c1895e1a'), 'rank': '3', 'Team': 'Chelsea FC', 'M': '2', 'W': '2', 'D': '0', 'L': '0', 'goals': '6:2', 'Dif': '4', 'Pt': '6'}\n",
      "{'_id': ObjectId('5bb01ebe81a0d515c1895e1b'), 'rank': '4', 'Team': 'Watford FC', 'M': '2', 'W': '2', 'D': '0', 'L': '0', 'goals': '5:1', 'Dif': '4', 'Pt': '6'}\n",
      "{'_id': ObjectId('5bb01ebe81a0d515c1895e1c'), 'rank': '5', 'Team': 'Tottenham Hotspur', 'M': '2', 'W': '2', 'D': '0', 'L': '0', 'goals': '5:2', 'Dif': '3', 'Pt': '6'}\n",
      "{'_id': ObjectId('5bb01ebe81a0d515c1895e1d'), 'rank': '6', 'Team': 'AFC Bournemouth', 'M': '2', 'W': '2', 'D': '0', 'L': '0', 'goals': '4:1', 'Dif': '3', 'Pt': '6'}\n",
      "{'_id': ObjectId('5bb01ebe81a0d515c1895e1e'), 'rank': '7', 'Team': 'Everton FC', 'M': '2', 'W': '1', 'D': '1', 'L': '0', 'goals': '4:3', 'Dif': '1', 'Pt': '4'}\n",
      "{'_id': ObjectId('5bb01ebe81a0d515c1895e1f'), 'rank': '8', 'Team': 'Leicester City', 'M': '2', 'W': '1', 'D': '0', 'L': '1', 'goals': '3:2', 'Dif': '1', 'Pt': '3'}\n",
      "{'_id': ObjectId('5bb01ebe81a0d515c1895e20'), 'rank': '9', 'Team': 'Manchester United', 'M': '2', 'W': '1', 'D': '0', 'L': '1', 'goals': '4:4', 'Dif': '0', 'Pt': '3'}\n",
      "{'_id': ObjectId('5bb01ebe81a0d515c1895e21'), 'rank': '10', 'Team': 'Crystal Palace', 'M': '2', 'W': '1', 'D': '0', 'L': '1', 'goals': '2:2', 'Dif': '0', 'Pt': '3'}\n",
      "{'_id': ObjectId('5bb01ebe81a0d515c1895e22'), 'rank': '11', 'Team': 'Brighton & Hove Albion', 'M': '2', 'W': '1', 'D': '0', 'L': '1', 'goals': '3:4', 'Dif': '-1', 'Pt': '3'}\n",
      "{'_id': ObjectId('5bb01ebe81a0d515c1895e23'), 'rank': '12', 'Team': 'Newcastle United', 'M': '2', 'W': '0', 'D': '1', 'L': '1', 'goals': '1:2', 'Dif': '-1', 'Pt': '1'}\n",
      "{'_id': ObjectId('5bb01ebe81a0d515c1895e24'), 'rank': '', 'Team': 'Southampton FC', 'M': '2', 'W': '0', 'D': '1', 'L': '1', 'goals': '1:2', 'Dif': '-1', 'Pt': '1'}\n",
      "{'_id': ObjectId('5bb01ebe81a0d515c1895e25'), 'rank': '14', 'Team': 'Wolverhampton Wanderers', 'M': '2', 'W': '0', 'D': '1', 'L': '1', 'goals': '2:4', 'Dif': '-2', 'Pt': '1'}\n",
      "{'_id': ObjectId('5bb01ebe81a0d515c1895e26'), 'rank': '15', 'Team': 'Burnley FC', 'M': '2', 'W': '0', 'D': '1', 'L': '1', 'goals': '1:3', 'Dif': '-2', 'Pt': '1'}\n",
      "{'_id': ObjectId('5bb01ebe81a0d515c1895e27'), 'rank': '16', 'Team': 'Cardiff City', 'M': '2', 'W': '0', 'D': '1', 'L': '1', 'goals': '0:2', 'Dif': '-2', 'Pt': '1'}\n",
      "{'_id': ObjectId('5bb01ebe81a0d515c1895e28'), 'rank': '17', 'Team': 'Arsenal FC', 'M': '2', 'W': '0', 'D': '0', 'L': '2', 'goals': '2:5', 'Dif': '-3', 'Pt': '0'}\n",
      "{'_id': ObjectId('5bb01ebe81a0d515c1895e29'), 'rank': '18', 'Team': 'Fulham FC', 'M': '2', 'W': '0', 'D': '0', 'L': '2', 'goals': '1:5', 'Dif': '-4', 'Pt': '0'}\n",
      "{'_id': ObjectId('5bb01ebe81a0d515c1895e2a'), 'rank': '19', 'Team': 'West Ham United', 'M': '2', 'W': '0', 'D': '0', 'L': '2', 'goals': '1:6', 'Dif': '-5', 'Pt': '0'}\n",
      "{'_id': ObjectId('5bb01ebe81a0d515c1895e2b'), 'rank': '20', 'Team': 'Huddersfield Town', 'M': '2', 'W': '0', 'D': '0', 'L': '2', 'goals': '1:9', 'Dif': '-8', 'Pt': '0'}\n"
     ]
    }
   ],
   "source": [
    "#Lista documentos\n",
    "for rodadas in Premier_collection.find({'M':{'$gt':'1'}}):\n",
    "    print(rodadas)"
   ]
  },
  {
   "cell_type": "code",
   "execution_count": null,
   "metadata": {},
   "outputs": [],
   "source": []
  }
 ],
 "metadata": {
  "kernelspec": {
   "display_name": "Python 3",
   "language": "python",
   "name": "python3"
  },
  "language_info": {
   "codemirror_mode": {
    "name": "ipython",
    "version": 3
   },
   "file_extension": ".py",
   "mimetype": "text/x-python",
   "name": "python",
   "nbconvert_exporter": "python",
   "pygments_lexer": "ipython3",
   "version": "3.6.3"
  }
 },
 "nbformat": 4,
 "nbformat_minor": 2
}
