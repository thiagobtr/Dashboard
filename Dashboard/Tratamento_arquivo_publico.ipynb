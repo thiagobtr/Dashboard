{
 "cells": [
  {
   "cell_type": "code",
   "execution_count": 1,
   "metadata": {},
   "outputs": [],
   "source": [
    "#MongoDB\n",
    "from pymongo import MongoClient \n",
    "#Pandas\n",
    "import pandas as pd\n",
    "import numpy as np"
   ]
  },
  {
   "cell_type": "code",
   "execution_count": 2,
   "metadata": {},
   "outputs": [],
   "source": [
    "#conexao ao banco\n",
    "conn = MongoClient('localhost',27017)\n",
    "db = conn.Ligas_futebol"
   ]
  },
  {
   "cell_type": "code",
   "execution_count": 3,
   "metadata": {},
   "outputs": [
    {
     "data": {
      "text/plain": [
       "['Publico', 'Rodadas', 'score', 'Rank']"
      ]
     },
     "execution_count": 3,
     "metadata": {},
     "output_type": "execute_result"
    }
   ],
   "source": [
    "#listando as coleçoes disponiveis\n",
    "db.list_collection_names()"
   ]
  },
  {
   "cell_type": "code",
   "execution_count": 4,
   "metadata": {},
   "outputs": [],
   "source": [
    "#seleciona collection\n",
    "db_publico = db['Publico']"
   ]
  },
  {
   "cell_type": "code",
   "execution_count": null,
   "metadata": {},
   "outputs": [],
   "source": [
    "if premier.find_one({'$and': [{'Rodada':1},{'Team':'Manchester City'},{'W':'1'}]}):\n",
    "        print('ok')\n",
    "        #remove todos os documentos\n",
    "        #premier.delete_many({'Rodada':rodada},{'Temporada':temporada},{'Liga':liga})\n"
   ]
  },
  {
   "cell_type": "code",
   "execution_count": 6,
   "metadata": {},
   "outputs": [],
   "source": [
    "#Cria o Dataframe\n",
    "df_publico = pd.DataFrame (list(db_publico.find({})))"
   ]
  },
  {
   "cell_type": "code",
   "execution_count": 7,
   "metadata": {},
   "outputs": [],
   "source": [
    "#Exclui campos e valores NAs\n",
    "df_publico.drop('_id',inplace=True,axis=1)\n",
    "df_publico.dropna(inplace=True)"
   ]
  },
  {
   "cell_type": "code",
   "execution_count": 8,
   "metadata": {},
   "outputs": [
    {
     "data": {
      "text/plain": [
       "Jogos        False\n",
       "Liga         False\n",
       "Media        False\n",
       "Rank         False\n",
       "Temporada    False\n",
       "Time         False\n",
       "Total        False\n",
       "dtype: bool"
      ]
     },
     "execution_count": 8,
     "metadata": {},
     "output_type": "execute_result"
    }
   ],
   "source": [
    "df_publico.count().isnull()"
   ]
  },
  {
   "cell_type": "code",
   "execution_count": 9,
   "metadata": {},
   "outputs": [
    {
     "name": "stdout",
     "output_type": "stream",
     "text": [
      "<class 'pandas.core.frame.DataFrame'>\n",
      "Int64Index: 234 entries, 0 to 244\n",
      "Data columns (total 7 columns):\n",
      "Jogos        234 non-null object\n",
      "Liga         234 non-null object\n",
      "Media        234 non-null object\n",
      "Rank         234 non-null object\n",
      "Temporada    234 non-null object\n",
      "Time         234 non-null object\n",
      "Total        234 non-null object\n",
      "dtypes: object(7)\n",
      "memory usage: 14.6+ KB\n"
     ]
    }
   ],
   "source": [
    "df_publico.info()"
   ]
  },
  {
   "cell_type": "code",
   "execution_count": 10,
   "metadata": {},
   "outputs": [],
   "source": [
    "#Converte variaveis para tipo numerico\n",
    "#Primeiro retira as virgulas da variavel \"Total\"\n",
    "df_publico['Total']= df_publico['Total'].str.replace('.','')\n",
    "df_publico['Media']=  pd.to_numeric(df_publico['Media'])\n",
    "df_publico['Total']=  pd.to_numeric(df_publico['Total'])\n"
   ]
  },
  {
   "cell_type": "code",
   "execution_count": 11,
   "metadata": {},
   "outputs": [],
   "source": [
    "#Cria variavel 'Ano_Inicio'\n",
    "df_publico['Ano_inicio'] = [ano[0] for ano in df_publico['Temporada'].str.split('-')]\n",
    "df_publico['Ano_inicio'] = pd.to_numeric(df_publico['Ano_inicio'])"
   ]
  },
  {
   "cell_type": "code",
   "execution_count": 12,
   "metadata": {},
   "outputs": [],
   "source": [
    "#salva arquivo\n",
    "df_publico.to_csv('/media/sf_FormacaoCientistaDeDados/Portfolio/Dashboard/Data/publico_final.csv')"
   ]
  },
  {
   "cell_type": "markdown",
   "metadata": {},
   "source": [
    "## 1- Criar campo 'Temporada'\n",
    "## 2- Criar Campo 'Liga'\n",
    "## 3- Criar Coleção 'Publico'\n",
    "## 4- Unificar as ligas em um unico banco e 4 coleçoes  "
   ]
  },
  {
   "cell_type": "code",
   "execution_count": null,
   "metadata": {},
   "outputs": [],
   "source": []
  }
 ],
 "metadata": {
  "kernelspec": {
   "display_name": "Python 3",
   "language": "python",
   "name": "python3"
  },
  "language_info": {
   "codemirror_mode": {
    "name": "ipython",
    "version": 3
   },
   "file_extension": ".py",
   "mimetype": "text/x-python",
   "name": "python",
   "nbconvert_exporter": "python",
   "pygments_lexer": "ipython3",
   "version": "3.6.3"
  }
 },
 "nbformat": 4,
 "nbformat_minor": 2
}
