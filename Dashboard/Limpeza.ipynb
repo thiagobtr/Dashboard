{
 "cells": [
  {
   "cell_type": "code",
   "execution_count": 1,
   "metadata": {},
   "outputs": [
    {
     "data": {
      "text/html": [
       "<script>requirejs.config({paths: { 'plotly': ['https://cdn.plot.ly/plotly-latest.min']},});if(!window.Plotly) {{require(['plotly'],function(plotly) {window.Plotly=plotly;});}}</script>"
      ],
      "text/vnd.plotly.v1+html": [
       "<script>requirejs.config({paths: { 'plotly': ['https://cdn.plot.ly/plotly-latest.min']},});if(!window.Plotly) {{require(['plotly'],function(plotly) {window.Plotly=plotly;});}}</script>"
      ]
     },
     "metadata": {},
     "output_type": "display_data"
    }
   ],
   "source": [
    "##Plotly\n",
    "import plotly.offline as py\n",
    "import plotly.graph_objs as go\n",
    "py.init_notebook_mode(connected=True)\n",
    "#MongoDB\n",
    "from pymongo import MongoClient \n",
    "#Pandas\n",
    "import pandas as pd\n",
    "import numpy as np"
   ]
  },
  {
   "cell_type": "code",
   "execution_count": 2,
   "metadata": {},
   "outputs": [],
   "source": [
    "#conexao ao banco\n",
    "conn = MongoClient('localhost',27017)\n",
    "db = conn.PremierLeague"
   ]
  },
  {
   "cell_type": "code",
   "execution_count": 3,
   "metadata": {},
   "outputs": [
    {
     "data": {
      "text/plain": [
       "['Rodadas', 'score', 'Rank']"
      ]
     },
     "execution_count": 3,
     "metadata": {},
     "output_type": "execute_result"
    }
   ],
   "source": [
    "#lista as collections\n",
    "db.list_collection_names()"
   ]
  },
  {
   "cell_type": "code",
   "execution_count": 4,
   "metadata": {},
   "outputs": [],
   "source": [
    "#seleciona collection\n",
    "premier = db['Rank']"
   ]
  },
  {
   "cell_type": "code",
   "execution_count": 33,
   "metadata": {},
   "outputs": [],
   "source": [
    "#Cria o Dataframe\n",
    "df_premier = pd.DataFrame (list(premier.find({})))"
   ]
  },
  {
   "cell_type": "code",
   "execution_count": 34,
   "metadata": {},
   "outputs": [],
   "source": [
    "#remove coluna 'id'\n",
    "df_premier.drop('_id',inplace=True,axis=1)"
   ]
  },
  {
   "cell_type": "code",
   "execution_count": 35,
   "metadata": {},
   "outputs": [
    {
     "name": "stdout",
     "output_type": "stream",
     "text": [
      "<class 'pandas.core.frame.DataFrame'>\n",
      "RangeIndex: 760 entries, 0 to 759\n",
      "Data columns (total 10 columns):\n",
      "D         760 non-null object\n",
      "Dif       760 non-null object\n",
      "L         760 non-null object\n",
      "M         760 non-null object\n",
      "Pt        760 non-null object\n",
      "Rodada    760 non-null int64\n",
      "Team      760 non-null object\n",
      "W         760 non-null object\n",
      "goals     760 non-null object\n",
      "rank      760 non-null object\n",
      "dtypes: int64(1), object(9)\n",
      "memory usage: 59.5+ KB\n"
     ]
    }
   ],
   "source": [
    "#Tipos das variaveis\n",
    "df_premier.info()"
   ]
  },
  {
   "cell_type": "code",
   "execution_count": 36,
   "metadata": {},
   "outputs": [
    {
     "data": {
      "text/plain": [
       "D         False\n",
       "Dif       False\n",
       "L         False\n",
       "M         False\n",
       "Pt        False\n",
       "Rodada    False\n",
       "Team      False\n",
       "W         False\n",
       "goals     False\n",
       "rank      False\n",
       "dtype: bool"
      ]
     },
     "execution_count": 36,
     "metadata": {},
     "output_type": "execute_result"
    }
   ],
   "source": [
    "#verificando se ha valores nulos\n",
    "df_premier.count().isnull()"
   ]
  },
  {
   "cell_type": "code",
   "execution_count": 37,
   "metadata": {},
   "outputs": [
    {
     "name": "stdout",
     "output_type": "stream",
     "text": [
      "{'D': 0, 'Dif': 0, 'L': 0, 'M': 0, 'Pt': 0, 'Team': 0, 'W': 0, 'goals': 0, 'rank': 12}\n"
     ]
    }
   ],
   "source": [
    "####################### Verifica se ha campos em branco\n",
    "\n",
    "# 1- seleciona campos com tipo 'object'\n",
    "colunas = df_premier.select_dtypes(include=['object']).columns\n",
    "# 2- cria dicionario\n",
    "campos_branco={}\n",
    "\n",
    "# 3- loop para verficar campos com valores em branco\n",
    "for col in colunas:\n",
    "# Adiciona o resuktado ao  dicionario    \n",
    "    campos_branco.update({col:df_premier.loc[df_premier[col] == ''][col].count()})\n",
    "\n",
    "# 4- exibe o resultado\n",
    "print(campos_branco)\n",
    "    \n",
    "        "
   ]
  },
  {
   "cell_type": "code",
   "execution_count": null,
   "metadata": {},
   "outputs": [],
   "source": [
    "campo_vazio=[]\n",
    "col='Rodada'\n",
    "campo_vazio.append(verif_campo(col,0,df_premier))\n",
    "print(campo_vazio)"
   ]
  },
  {
   "cell_type": "code",
   "execution_count": null,
   "metadata": {},
   "outputs": [],
   "source": [
    "#tratando a variavel \"rank\" (12 valores em branco), adicionando o valor do index \n",
    "df_premier['rank'] = np.where(df_premier['rank']=='',df_premier.index,df_premier['rank'])\n",
    "df_premier.head(20)"
   ]
  },
  {
   "cell_type": "code",
   "execution_count": 40,
   "metadata": {},
   "outputs": [
    {
     "data": {
      "text/plain": [
       "0"
      ]
     },
     "execution_count": 40,
     "metadata": {},
     "output_type": "execute_result"
    }
   ],
   "source": [
    "#verifica o df novamente\n",
    "df_premier.loc[df_premier['rank'] == '']['rank'].count()"
   ]
  },
  {
   "cell_type": "code",
   "execution_count": 41,
   "metadata": {},
   "outputs": [],
   "source": [
    "#Renomear variaiveis\n",
    "df_premier.rename(columns={'D':'Empates','Dif':'Saldo_gols','L':'Derrotas','M':'Jogos','Pt':'Pontos'\n",
    "                          ,'Team':'Time','W':'Vitorias'},inplace=True)\n"
   ]
  },
  {
   "cell_type": "code",
   "execution_count": 20,
   "metadata": {},
   "outputs": [
    {
     "data": {
      "text/html": [
       "<div>\n",
       "<style>\n",
       "    .dataframe thead tr:only-child th {\n",
       "        text-align: right;\n",
       "    }\n",
       "\n",
       "    .dataframe thead th {\n",
       "        text-align: left;\n",
       "    }\n",
       "\n",
       "    .dataframe tbody tr th {\n",
       "        vertical-align: top;\n",
       "    }\n",
       "</style>\n",
       "<table border=\"1\" class=\"dataframe\">\n",
       "  <thead>\n",
       "    <tr style=\"text-align: right;\">\n",
       "      <th></th>\n",
       "      <th>Empates</th>\n",
       "      <th>Saldo_gols</th>\n",
       "      <th>Derrotas</th>\n",
       "      <th>Jogos</th>\n",
       "      <th>Pontos</th>\n",
       "      <th>Rodada</th>\n",
       "      <th>Time</th>\n",
       "      <th>Vitorias</th>\n",
       "      <th>goals</th>\n",
       "      <th>rank</th>\n",
       "    </tr>\n",
       "  </thead>\n",
       "  <tbody>\n",
       "    <tr>\n",
       "      <th>0</th>\n",
       "      <td>0</td>\n",
       "      <td>4</td>\n",
       "      <td>0</td>\n",
       "      <td>1</td>\n",
       "      <td>3</td>\n",
       "      <td>1</td>\n",
       "      <td>Manchester United</td>\n",
       "      <td>1</td>\n",
       "      <td>4:0</td>\n",
       "      <td>1</td>\n",
       "    </tr>\n",
       "    <tr>\n",
       "      <th>1</th>\n",
       "      <td>0</td>\n",
       "      <td>3</td>\n",
       "      <td>0</td>\n",
       "      <td>1</td>\n",
       "      <td>3</td>\n",
       "      <td>1</td>\n",
       "      <td>Huddersfield Town</td>\n",
       "      <td>1</td>\n",
       "      <td>3:0</td>\n",
       "      <td>2</td>\n",
       "    </tr>\n",
       "    <tr>\n",
       "      <th>2</th>\n",
       "      <td>0</td>\n",
       "      <td>2</td>\n",
       "      <td>0</td>\n",
       "      <td>1</td>\n",
       "      <td>3</td>\n",
       "      <td>1</td>\n",
       "      <td>Manchester City</td>\n",
       "      <td>1</td>\n",
       "      <td>2:0</td>\n",
       "      <td>3</td>\n",
       "    </tr>\n",
       "    <tr>\n",
       "      <th>3</th>\n",
       "      <td>0</td>\n",
       "      <td>2</td>\n",
       "      <td>0</td>\n",
       "      <td>1</td>\n",
       "      <td>3</td>\n",
       "      <td>1</td>\n",
       "      <td>Tottenham Hotspur</td>\n",
       "      <td>1</td>\n",
       "      <td>2:0</td>\n",
       "      <td>3</td>\n",
       "    </tr>\n",
       "    <tr>\n",
       "      <th>4</th>\n",
       "      <td>0</td>\n",
       "      <td>1</td>\n",
       "      <td>0</td>\n",
       "      <td>1</td>\n",
       "      <td>3</td>\n",
       "      <td>1</td>\n",
       "      <td>Arsenal FC</td>\n",
       "      <td>1</td>\n",
       "      <td>4:3</td>\n",
       "      <td>5</td>\n",
       "    </tr>\n",
       "  </tbody>\n",
       "</table>\n",
       "</div>"
      ],
      "text/plain": [
       "  Empates Saldo_gols Derrotas Jogos Pontos  Rodada               Time  \\\n",
       "0       0          4        0     1      3       1  Manchester United   \n",
       "1       0          3        0     1      3       1  Huddersfield Town   \n",
       "2       0          2        0     1      3       1    Manchester City   \n",
       "3       0          2        0     1      3       1  Tottenham Hotspur   \n",
       "4       0          1        0     1      3       1         Arsenal FC   \n",
       "\n",
       "  Vitorias goals rank  \n",
       "0        1   4:0    1  \n",
       "1        1   3:0    2  \n",
       "2        1   2:0    3  \n",
       "3        1   2:0    3  \n",
       "4        1   4:3    5  "
      ]
     },
     "execution_count": 20,
     "metadata": {},
     "output_type": "execute_result"
    }
   ],
   "source": [
    "df_premier.head(5)"
   ]
  },
  {
   "cell_type": "code",
   "execution_count": 50,
   "metadata": {},
   "outputs": [],
   "source": [
    "#Cria variaveis no df\n",
    "#df_premier['goals'] = df_premier['goals'].str.split(':')\n",
    "df_premier['Gols_pro'] = [vl[0] for vl in df_premier['goals'].str.split(':')]\n",
    "df_premier['Gols_con'] = [vl[1] for vl in df_premier['goals'].str.split(':')]\n",
    "#exclui variavel original\n",
    "df_premier.drop('goals',inplace=True,axis=1)"
   ]
  },
  {
   "cell_type": "code",
   "execution_count": 57,
   "metadata": {},
   "outputs": [],
   "source": [
    "#salva arquivo na pasta Data\n",
    "df_premier.to_csv('/media/sf_FormacaoCientistaDeDados/Portfolio/Dashboard/Data/rank_premier.csv')"
   ]
  },
  {
   "cell_type": "code",
   "execution_count": null,
   "metadata": {},
   "outputs": [],
   "source": []
  }
 ],
 "metadata": {
  "kernelspec": {
   "display_name": "Python 3",
   "language": "python",
   "name": "python3"
  },
  "language_info": {
   "codemirror_mode": {
    "name": "ipython",
    "version": 3
   },
   "file_extension": ".py",
   "mimetype": "text/x-python",
   "name": "python",
   "nbconvert_exporter": "python",
   "pygments_lexer": "ipython3",
   "version": "3.6.3"
  }
 },
 "nbformat": 4,
 "nbformat_minor": 2
}
