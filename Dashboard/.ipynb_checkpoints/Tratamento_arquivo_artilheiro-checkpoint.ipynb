{
 "cells": [
  {
   "cell_type": "code",
   "execution_count": 2,
   "metadata": {},
   "outputs": [],
   "source": [
    "#MongoDB\n",
    "from pymongo import MongoClient \n",
    "#Pandas\n",
    "import pandas as pd\n",
    "import numpy as np"
   ]
  },
  {
   "cell_type": "code",
   "execution_count": 3,
   "metadata": {},
   "outputs": [],
   "source": [
    "#conexao ao banco\n",
    "conn = MongoClient('localhost',27017)\n",
    "db = conn.Ligas_futebol"
   ]
  },
  {
   "cell_type": "code",
   "execution_count": 4,
   "metadata": {},
   "outputs": [
    {
     "data": {
      "text/plain": [
       "['Publico', 'Rodadas', 'score', 'Rank']"
      ]
     },
     "execution_count": 4,
     "metadata": {},
     "output_type": "execute_result"
    }
   ],
   "source": [
    "#listando as coleçoes disponiveis\n",
    "db.list_collection_names()"
   ]
  },
  {
   "cell_type": "code",
   "execution_count": 5,
   "metadata": {},
   "outputs": [],
   "source": [
    "#seleciona collection\n",
    "db_score = db['score']"
   ]
  },
  {
   "cell_type": "code",
   "execution_count": 6,
   "metadata": {},
   "outputs": [],
   "source": [
    "#Cria o Dataframe\n",
    "df_score = pd.DataFrame (list(db_score.find({})))"
   ]
  },
  {
   "cell_type": "code",
   "execution_count": 7,
   "metadata": {},
   "outputs": [],
   "source": [
    "#Exclui campos e valores NAs\n",
    "df_score.drop('_id',inplace=True,axis=1)\n",
    "df_score.dropna(inplace=True)"
   ]
  },
  {
   "cell_type": "code",
   "execution_count": 8,
   "metadata": {},
   "outputs": [
    {
     "data": {
      "text/plain": [
       "             False\n",
       "Country      False\n",
       "Liga         False\n",
       "Player       False\n",
       "Team         False\n",
       "Temporada    False\n",
       "ass          False\n",
       "gols         False\n",
       "points       False\n",
       "rank         False\n",
       "dtype: bool"
      ]
     },
     "execution_count": 8,
     "metadata": {},
     "output_type": "execute_result"
    }
   ],
   "source": [
    "df_score.count().isnull()"
   ]
  },
  {
   "cell_type": "code",
   "execution_count": 9,
   "metadata": {},
   "outputs": [
    {
     "name": "stdout",
     "output_type": "stream",
     "text": [
      "<class 'pandas.core.frame.DataFrame'>\n",
      "Int64Index: 3949 entries, 0 to 3948\n",
      "Data columns (total 10 columns):\n",
      "             3949 non-null object\n",
      "Country      3949 non-null object\n",
      "Liga         3949 non-null object\n",
      "Player       3949 non-null object\n",
      "Team         3949 non-null object\n",
      "Temporada    3949 non-null object\n",
      "ass          3949 non-null object\n",
      "gols         3949 non-null object\n",
      "points       3949 non-null object\n",
      "rank         3949 non-null object\n",
      "dtypes: object(10)\n",
      "memory usage: 339.4+ KB\n"
     ]
    }
   ],
   "source": [
    "df_score.info()"
   ]
  },
  {
   "cell_type": "code",
   "execution_count": 10,
   "metadata": {},
   "outputs": [
    {
     "data": {
      "text/html": [
       "<div>\n",
       "<style>\n",
       "    .dataframe thead tr:only-child th {\n",
       "        text-align: right;\n",
       "    }\n",
       "\n",
       "    .dataframe thead th {\n",
       "        text-align: left;\n",
       "    }\n",
       "\n",
       "    .dataframe tbody tr th {\n",
       "        vertical-align: top;\n",
       "    }\n",
       "</style>\n",
       "<table border=\"1\" class=\"dataframe\">\n",
       "  <thead>\n",
       "    <tr style=\"text-align: right;\">\n",
       "      <th></th>\n",
       "      <th></th>\n",
       "      <th></th>\n",
       "      <th>Country</th>\n",
       "      <th>Player</th>\n",
       "      <th>Team</th>\n",
       "      <th>ass</th>\n",
       "      <th>gols</th>\n",
       "      <th>points</th>\n",
       "      <th>rank</th>\n",
       "    </tr>\n",
       "    <tr>\n",
       "      <th>Temporada</th>\n",
       "      <th>Liga</th>\n",
       "      <th></th>\n",
       "      <th></th>\n",
       "      <th></th>\n",
       "      <th></th>\n",
       "      <th></th>\n",
       "      <th></th>\n",
       "      <th></th>\n",
       "      <th></th>\n",
       "    </tr>\n",
       "  </thead>\n",
       "  <tbody>\n",
       "    <tr>\n",
       "      <th rowspan=\"4\" valign=\"top\">2015-2016</th>\n",
       "      <th>Bundesliga</th>\n",
       "      <td>304</td>\n",
       "      <td>304</td>\n",
       "      <td>304</td>\n",
       "      <td>304</td>\n",
       "      <td>304</td>\n",
       "      <td>304</td>\n",
       "      <td>304</td>\n",
       "      <td>304</td>\n",
       "    </tr>\n",
       "    <tr>\n",
       "      <th>Laliga</th>\n",
       "      <td>326</td>\n",
       "      <td>326</td>\n",
       "      <td>326</td>\n",
       "      <td>326</td>\n",
       "      <td>326</td>\n",
       "      <td>326</td>\n",
       "      <td>326</td>\n",
       "      <td>326</td>\n",
       "    </tr>\n",
       "    <tr>\n",
       "      <th>Premier_league</th>\n",
       "      <td>342</td>\n",
       "      <td>342</td>\n",
       "      <td>342</td>\n",
       "      <td>342</td>\n",
       "      <td>342</td>\n",
       "      <td>342</td>\n",
       "      <td>342</td>\n",
       "      <td>342</td>\n",
       "    </tr>\n",
       "    <tr>\n",
       "      <th>SerieA</th>\n",
       "      <td>345</td>\n",
       "      <td>345</td>\n",
       "      <td>345</td>\n",
       "      <td>345</td>\n",
       "      <td>345</td>\n",
       "      <td>345</td>\n",
       "      <td>345</td>\n",
       "      <td>345</td>\n",
       "    </tr>\n",
       "    <tr>\n",
       "      <th rowspan=\"4\" valign=\"top\">2016-2017</th>\n",
       "      <th>Bundesliga</th>\n",
       "      <td>303</td>\n",
       "      <td>303</td>\n",
       "      <td>303</td>\n",
       "      <td>303</td>\n",
       "      <td>303</td>\n",
       "      <td>303</td>\n",
       "      <td>303</td>\n",
       "      <td>303</td>\n",
       "    </tr>\n",
       "    <tr>\n",
       "      <th>Laliga</th>\n",
       "      <td>359</td>\n",
       "      <td>359</td>\n",
       "      <td>359</td>\n",
       "      <td>359</td>\n",
       "      <td>359</td>\n",
       "      <td>359</td>\n",
       "      <td>359</td>\n",
       "      <td>359</td>\n",
       "    </tr>\n",
       "    <tr>\n",
       "      <th>Premier_league</th>\n",
       "      <td>342</td>\n",
       "      <td>342</td>\n",
       "      <td>342</td>\n",
       "      <td>342</td>\n",
       "      <td>342</td>\n",
       "      <td>342</td>\n",
       "      <td>342</td>\n",
       "      <td>342</td>\n",
       "    </tr>\n",
       "    <tr>\n",
       "      <th>SerieA</th>\n",
       "      <td>337</td>\n",
       "      <td>337</td>\n",
       "      <td>337</td>\n",
       "      <td>337</td>\n",
       "      <td>337</td>\n",
       "      <td>337</td>\n",
       "      <td>337</td>\n",
       "      <td>337</td>\n",
       "    </tr>\n",
       "    <tr>\n",
       "      <th rowspan=\"4\" valign=\"top\">2017-2018</th>\n",
       "      <th>Bundesliga</th>\n",
       "      <td>307</td>\n",
       "      <td>307</td>\n",
       "      <td>307</td>\n",
       "      <td>307</td>\n",
       "      <td>307</td>\n",
       "      <td>307</td>\n",
       "      <td>307</td>\n",
       "      <td>307</td>\n",
       "    </tr>\n",
       "    <tr>\n",
       "      <th>Laliga</th>\n",
       "      <td>338</td>\n",
       "      <td>338</td>\n",
       "      <td>338</td>\n",
       "      <td>338</td>\n",
       "      <td>338</td>\n",
       "      <td>338</td>\n",
       "      <td>338</td>\n",
       "      <td>338</td>\n",
       "    </tr>\n",
       "    <tr>\n",
       "      <th>Premier_league</th>\n",
       "      <td>321</td>\n",
       "      <td>321</td>\n",
       "      <td>321</td>\n",
       "      <td>321</td>\n",
       "      <td>321</td>\n",
       "      <td>321</td>\n",
       "      <td>321</td>\n",
       "      <td>321</td>\n",
       "    </tr>\n",
       "    <tr>\n",
       "      <th>SerieA</th>\n",
       "      <td>325</td>\n",
       "      <td>325</td>\n",
       "      <td>325</td>\n",
       "      <td>325</td>\n",
       "      <td>325</td>\n",
       "      <td>325</td>\n",
       "      <td>325</td>\n",
       "      <td>325</td>\n",
       "    </tr>\n",
       "  </tbody>\n",
       "</table>\n",
       "</div>"
      ],
      "text/plain": [
       "                               Country  Player  Team  ass  gols  points  rank\n",
       "Temporada Liga                                                               \n",
       "2015-2016 Bundesliga      304      304     304   304  304   304     304   304\n",
       "          Laliga          326      326     326   326  326   326     326   326\n",
       "          Premier_league  342      342     342   342  342   342     342   342\n",
       "          SerieA          345      345     345   345  345   345     345   345\n",
       "2016-2017 Bundesliga      303      303     303   303  303   303     303   303\n",
       "          Laliga          359      359     359   359  359   359     359   359\n",
       "          Premier_league  342      342     342   342  342   342     342   342\n",
       "          SerieA          337      337     337   337  337   337     337   337\n",
       "2017-2018 Bundesliga      307      307     307   307  307   307     307   307\n",
       "          Laliga          338      338     338   338  338   338     338   338\n",
       "          Premier_league  321      321     321   321  321   321     321   321\n",
       "          SerieA          325      325     325   325  325   325     325   325"
      ]
     },
     "execution_count": 10,
     "metadata": {},
     "output_type": "execute_result"
    }
   ],
   "source": [
    "#Verificando a quantidade de jogos por temporada e Liga\n",
    "df_score.groupby(['Temporada','Liga']).count()\n"
   ]
  },
  {
   "cell_type": "code",
   "execution_count": 11,
   "metadata": {},
   "outputs": [],
   "source": [
    "#alterando nome das variaveis\n",
    "df_score.rename(columns={'Country':'Pais','Player':'Jogador','Team':'Time'},inplace=True)\n",
    "#retirando variaveis desnecessarias\n",
    "df_score.drop('points',axis =1 ,inplace =True)\n"
   ]
  },
  {
   "cell_type": "code",
   "execution_count": 12,
   "metadata": {},
   "outputs": [
    {
     "data": {
      "text/html": [
       "<div>\n",
       "<style>\n",
       "    .dataframe thead tr:only-child th {\n",
       "        text-align: right;\n",
       "    }\n",
       "\n",
       "    .dataframe thead th {\n",
       "        text-align: left;\n",
       "    }\n",
       "\n",
       "    .dataframe tbody tr th {\n",
       "        vertical-align: top;\n",
       "    }\n",
       "</style>\n",
       "<table border=\"1\" class=\"dataframe\">\n",
       "  <thead>\n",
       "    <tr style=\"text-align: right;\">\n",
       "      <th></th>\n",
       "      <th></th>\n",
       "      <th>Pais</th>\n",
       "      <th>Liga</th>\n",
       "      <th>Jogador</th>\n",
       "      <th>Time</th>\n",
       "      <th>Temporada</th>\n",
       "      <th>ass</th>\n",
       "      <th>gols</th>\n",
       "      <th>rank</th>\n",
       "    </tr>\n",
       "  </thead>\n",
       "  <tbody>\n",
       "    <tr>\n",
       "      <th>0</th>\n",
       "      <td></td>\n",
       "      <td>England</td>\n",
       "      <td>Premier_league</td>\n",
       "      <td>Harry Kane</td>\n",
       "      <td>Tottenham Hotspur</td>\n",
       "      <td>2016-2017</td>\n",
       "      <td>7</td>\n",
       "      <td>29</td>\n",
       "      <td>1.</td>\n",
       "    </tr>\n",
       "    <tr>\n",
       "      <th>1</th>\n",
       "      <td></td>\n",
       "      <td>Chile</td>\n",
       "      <td>Premier_league</td>\n",
       "      <td>Alexis Sánchez</td>\n",
       "      <td>Arsenal FC</td>\n",
       "      <td>2016-2017</td>\n",
       "      <td>10</td>\n",
       "      <td>24</td>\n",
       "      <td>2.</td>\n",
       "    </tr>\n",
       "    <tr>\n",
       "      <th>2</th>\n",
       "      <td></td>\n",
       "      <td>Belgium</td>\n",
       "      <td>Premier_league</td>\n",
       "      <td>Romelu Lukaku</td>\n",
       "      <td>Everton FC</td>\n",
       "      <td>2016-2017</td>\n",
       "      <td>6</td>\n",
       "      <td>25</td>\n",
       "      <td>3.</td>\n",
       "    </tr>\n",
       "    <tr>\n",
       "      <th>3</th>\n",
       "      <td></td>\n",
       "      <td>Spain</td>\n",
       "      <td>Premier_league</td>\n",
       "      <td>Diego Costa</td>\n",
       "      <td>Chelsea FC</td>\n",
       "      <td>2016-2017</td>\n",
       "      <td>7</td>\n",
       "      <td>20</td>\n",
       "      <td>4.</td>\n",
       "    </tr>\n",
       "    <tr>\n",
       "      <th>4</th>\n",
       "      <td></td>\n",
       "      <td>England</td>\n",
       "      <td>Premier_league</td>\n",
       "      <td>Dele Alli</td>\n",
       "      <td>Tottenham Hotspur</td>\n",
       "      <td>2016-2017</td>\n",
       "      <td>7</td>\n",
       "      <td>18</td>\n",
       "      <td>5.</td>\n",
       "    </tr>\n",
       "  </tbody>\n",
       "</table>\n",
       "</div>"
      ],
      "text/plain": [
       "        Pais            Liga         Jogador               Time  Temporada  \\\n",
       "0    England  Premier_league      Harry Kane  Tottenham Hotspur  2016-2017   \n",
       "1      Chile  Premier_league  Alexis Sánchez         Arsenal FC  2016-2017   \n",
       "2    Belgium  Premier_league   Romelu Lukaku         Everton FC  2016-2017   \n",
       "3      Spain  Premier_league     Diego Costa         Chelsea FC  2016-2017   \n",
       "4    England  Premier_league       Dele Alli  Tottenham Hotspur  2016-2017   \n",
       "\n",
       "  ass gols rank  \n",
       "0   7   29   1.  \n",
       "1  10   24   2.  \n",
       "2   6   25   3.  \n",
       "3   7   20   4.  \n",
       "4   7   18   5.  "
      ]
     },
     "execution_count": 12,
     "metadata": {},
     "output_type": "execute_result"
    }
   ],
   "source": [
    "df_score.head()"
   ]
  },
  {
   "cell_type": "code",
   "execution_count": 13,
   "metadata": {},
   "outputs": [
    {
     "ename": "NameError",
     "evalue": "name 'df_rodada' is not defined",
     "output_type": "error",
     "traceback": [
      "\u001b[0;31m---------------------------------------------------------------------------\u001b[0m",
      "\u001b[0;31mNameError\u001b[0m                                 Traceback (most recent call last)",
      "\u001b[0;32m<ipython-input-13-4fa6c2abc20c>\u001b[0m in \u001b[0;36m<module>\u001b[0;34m()\u001b[0m\n\u001b[1;32m      1\u001b[0m \u001b[0;31m#salva arquivo\u001b[0m\u001b[0;34m\u001b[0m\u001b[0;34m\u001b[0m\u001b[0m\n\u001b[0;32m----> 2\u001b[0;31m \u001b[0mdf_rodada\u001b[0m\u001b[0;34m.\u001b[0m\u001b[0mto_csv\u001b[0m\u001b[0;34m(\u001b[0m\u001b[0;34m'/media/sf_FormacaoCientistaDeDados/Portfolio/Dashboard/Data/artilheiros_final.csv'\u001b[0m\u001b[0;34m)\u001b[0m\u001b[0;34m\u001b[0m\u001b[0m\n\u001b[0m",
      "\u001b[0;31mNameError\u001b[0m: name 'df_rodada' is not defined"
     ]
    }
   ],
   "source": [
    "#salva arquivo\n",
    "df_score.to_csv('/media/sf_FormacaoCientistaDeDados/Portfolio/Dashboard/Data/artilheiros_final.csv')"
   ]
  },
  {
   "cell_type": "markdown",
   "metadata": {},
   "source": [
    "## 1- Criar campo 'Temporada'\n",
    "## 2- Criar Campo 'Liga'\n",
    "## 3- Criar Coleção 'Publico'\n",
    "## 4- Unificar as ligas em um unico banco e 4 coleçoes  "
   ]
  },
  {
   "cell_type": "code",
   "execution_count": null,
   "metadata": {},
   "outputs": [],
   "source": []
  }
 ],
 "metadata": {
  "kernelspec": {
   "display_name": "Python 3",
   "language": "python",
   "name": "python3"
  },
  "language_info": {
   "codemirror_mode": {
    "name": "ipython",
    "version": 3
   },
   "file_extension": ".py",
   "mimetype": "text/x-python",
   "name": "python",
   "nbconvert_exporter": "python",
   "pygments_lexer": "ipython3",
   "version": "3.6.3"
  }
 },
 "nbformat": 4,
 "nbformat_minor": 2
}
