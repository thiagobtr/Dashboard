{
 "cells": [
  {
   "cell_type": "code",
   "execution_count": 1,
   "metadata": {},
   "outputs": [],
   "source": [
    "##Plotly\n",
    "import seaborn as sns\n",
    "import matplotlib.pyplot as plt\n",
    "#MongoDB\n",
    "from pymongo import MongoClient \n",
    "#Pandas\n",
    "import pandas as pd\n",
    "import numpy as np"
   ]
  },
  {
   "cell_type": "code",
   "execution_count": 2,
   "metadata": {},
   "outputs": [],
   "source": [
    "#conexao ao banco\n",
    "conn = MongoClient('localhost',27017)\n",
    "db = conn.Ligas_futebol"
   ]
  },
  {
   "cell_type": "code",
   "execution_count": 3,
   "metadata": {},
   "outputs": [
    {
     "data": {
      "text/plain": [
       "['Publico', 'Rodadas', 'score', 'Rank']"
      ]
     },
     "execution_count": 3,
     "metadata": {},
     "output_type": "execute_result"
    }
   ],
   "source": [
    "#listando as coleçoes disponiveis\n",
    "db.list_collection_names()"
   ]
  },
  {
   "cell_type": "code",
   "execution_count": 4,
   "metadata": {},
   "outputs": [],
   "source": [
    "#seleciona collection\n",
    "premier = db['Publico']"
   ]
  },
  {
   "cell_type": "code",
   "execution_count": 5,
   "metadata": {},
   "outputs": [],
   "source": [
    "if premier.find_one({'$and': [{'Rodada':1},{'Team':'Manchester City'},{'W':'1'}]}):\n",
    "        print('ok')\n",
    "        #remove todos os documentos\n",
    "        #premier.delete_many({'Rodada':rodada},{'Temporada':temporada},{'Liga':liga})\n"
   ]
  },
  {
   "cell_type": "code",
   "execution_count": 12,
   "metadata": {},
   "outputs": [],
   "source": [
    "#Cria o Dataframe\n",
    "df_rodada = pd.DataFrame (list(premier.find({})))"
   ]
  },
  {
   "cell_type": "code",
   "execution_count": 13,
   "metadata": {},
   "outputs": [],
   "source": [
    "#Exclui campos e valores NAs\n",
    "df_rodada.drop('_id',inplace=True,axis=1)\n",
    "df_rodada.dropna(inplace=True)"
   ]
  },
  {
   "cell_type": "code",
   "execution_count": 56,
   "metadata": {},
   "outputs": [
    {
     "data": {
      "text/plain": [
       "Jogos        False\n",
       "Liga         False\n",
       "Media        False\n",
       "Rank         False\n",
       "Temporada    False\n",
       "Time         False\n",
       "Total        False\n",
       "dtype: bool"
      ]
     },
     "execution_count": 56,
     "metadata": {},
     "output_type": "execute_result"
    }
   ],
   "source": [
    "df_rodada.count().isnull()"
   ]
  },
  {
   "cell_type": "code",
   "execution_count": 60,
   "metadata": {},
   "outputs": [
    {
     "name": "stdout",
     "output_type": "stream",
     "text": [
      "<class 'pandas.core.frame.DataFrame'>\n",
      "Int64Index: 234 entries, 0 to 244\n",
      "Data columns (total 7 columns):\n",
      "Jogos        234 non-null object\n",
      "Liga         234 non-null object\n",
      "Media        234 non-null float64\n",
      "Rank         234 non-null object\n",
      "Temporada    234 non-null object\n",
      "Time         234 non-null object\n",
      "Total        234 non-null float64\n",
      "dtypes: float64(2), object(5)\n",
      "memory usage: 14.6+ KB\n"
     ]
    }
   ],
   "source": [
    "df_rodada.info()"
   ]
  },
  {
   "cell_type": "code",
   "execution_count": 14,
   "metadata": {},
   "outputs": [],
   "source": [
    "#Converte variaveis para tipo numerico\n",
    "#Primeiro retira as virgulas da variavel \"Total\"\n",
    "df_rodada['Total']= df_rodada['Total'].str.replace('.','')\n",
    "df_rodada['Media']=  pd.to_numeric(df_rodada['Media'])\n",
    "df_rodada['Total']=  pd.to_numeric(df_rodada['Total'])\n"
   ]
  },
  {
   "cell_type": "code",
   "execution_count": 22,
   "metadata": {},
   "outputs": [],
   "source": [
    "#salva arquivo\n",
    "df_rodada.to_csv('/media/sf_FormacaoCientistaDeDados/Portfolio/Dashboard/Data/publico_final.csv')"
   ]
  },
  {
   "cell_type": "markdown",
   "metadata": {},
   "source": [
    "## 1- Criar campo 'Temporada'\n",
    "## 2- Criar Campo 'Liga'\n",
    "## 3- Criar Coleção 'Publico'\n",
    "## 4- Unificar as ligas em um unico banco e 4 coleçoes  "
   ]
  },
  {
   "cell_type": "code",
   "execution_count": null,
   "metadata": {},
   "outputs": [],
   "source": [
    "df_rodada['Temporada']='2017-2018'\n",
    "df_rodada['Liga']= 'Premier League'"
   ]
  },
  {
   "cell_type": "code",
   "execution_count": 41,
   "metadata": {},
   "outputs": [],
   "source": [
    "premier.find_one()"
   ]
  },
  {
   "cell_type": "code",
   "execution_count": 57,
   "metadata": {},
   "outputs": [],
   "source": [
    "premier.drop()"
   ]
  },
  {
   "cell_type": "code",
   "execution_count": null,
   "metadata": {},
   "outputs": [],
   "source": []
  }
 ],
 "metadata": {
  "kernelspec": {
   "display_name": "Python 3",
   "language": "python",
   "name": "python3"
  },
  "language_info": {
   "codemirror_mode": {
    "name": "ipython",
    "version": 3
   },
   "file_extension": ".py",
   "mimetype": "text/x-python",
   "name": "python",
   "nbconvert_exporter": "python",
   "pygments_lexer": "ipython3",
   "version": "3.6.3"
  }
 },
 "nbformat": 4,
 "nbformat_minor": 2
}
