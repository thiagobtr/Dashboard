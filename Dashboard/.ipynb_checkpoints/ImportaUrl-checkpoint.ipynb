{
 "cells": [
  {
   "cell_type": "code",
   "execution_count": 6,
   "metadata": {},
   "outputs": [],
   "source": [
    "from Load_tables import *\n",
    "#import load_tables"
   ]
  },
  {
   "cell_type": "code",
   "execution_count": 2,
   "metadata": {},
   "outputs": [
    {
     "name": "stdout",
     "output_type": "stream",
     "text": [
      "<pymongo.results.InsertManyResult object at 0x7fdf5e9ed8c8>\n",
      "<pymongo.results.InsertManyResult object at 0x7fdf5d811448>\n",
      "<pymongo.results.InsertManyResult object at 0x7fdf5d6890c8>\n",
      "<pymongo.results.InsertManyResult object at 0x7fdf5f5cff48>\n",
      "<pymongo.results.InsertManyResult object at 0x7fdf5f5cff48>\n",
      "<pymongo.results.InsertManyResult object at 0x7fdf5d2671c8>\n",
      "<pymongo.results.InsertManyResult object at 0x7fdf5d0d6dc8>\n",
      "<pymongo.results.InsertManyResult object at 0x7fdf5cf4f888>\n",
      "<pymongo.results.InsertManyResult object at 0x7fdf5cdc2408>\n",
      "<pymongo.results.InsertManyResult object at 0x7fdf5cc3b0c8>\n",
      "<pymongo.results.InsertManyResult object at 0x7fdf5d3f11c8>\n",
      "<pymongo.results.InsertManyResult object at 0x7fdf5d26d4c8>\n",
      "<pymongo.results.InsertManyResult object at 0x7fdf5d4fd1c8>\n",
      "<pymongo.results.InsertManyResult object at 0x7fdf5d7a0b88>\n",
      "<pymongo.results.InsertManyResult object at 0x7fdf5d6b7708>\n",
      "<pymongo.results.InsertManyResult object at 0x7fdf5d2c9288>\n",
      "<pymongo.results.InsertManyResult object at 0x7fdf5d495d48>\n",
      "<pymongo.results.InsertManyResult object at 0x7fdf5ea16948>\n",
      "<pymongo.results.InsertManyResult object at 0x7fdf5d6474c8>\n",
      "<pymongo.results.InsertManyResult object at 0x7fdf5d13e048>\n",
      "<pymongo.results.InsertManyResult object at 0x7fdf5cb2cb88>\n",
      "<pymongo.results.InsertManyResult object at 0x7fdf624e8388>\n",
      "<pymongo.results.InsertManyResult object at 0x7fdf5d2564c8>\n",
      "<pymongo.results.InsertManyResult object at 0x7fdf5d2b0048>\n",
      "<pymongo.results.InsertManyResult object at 0x7fdf5d049b88>\n",
      "<pymongo.results.InsertManyResult object at 0x7fdf5d6fd708>\n",
      "<pymongo.results.InsertManyResult object at 0x7fdf5d3e9288>\n",
      "<pymongo.results.InsertManyResult object at 0x7fdf5d8d9d48>\n",
      "<pymongo.results.InsertManyResult object at 0x7fdf5d692948>\n",
      "<pymongo.results.InsertManyResult object at 0x7fdf5d3034c8>\n",
      "<pymongo.results.InsertManyResult object at 0x7fdf5cffd048>\n",
      "<pymongo.results.InsertManyResult object at 0x7fdf5cdaeb88>\n",
      "<pymongo.results.InsertManyResult object at 0x7fdf6254e148>\n",
      "<pymongo.results.InsertManyResult object at 0x7fdf5d8d74c8>\n",
      "<pymongo.results.InsertManyResult object at 0x7fdf5d69e048>\n",
      "<pymongo.results.InsertManyResult object at 0x7fdf5cf3ab88>\n",
      "<pymongo.results.InsertManyResult object at 0x7fdf5d6c0708>\n",
      "<pymongo.results.InsertManyResult object at 0x7fdf5d0fe188>\n",
      "<pymongo.results.InsertManyResult object at 0x7fdf5d816a88>\n"
     ]
    }
   ],
   "source": [
    "########### Premier League ###########\n",
    "\n",
    "\n",
    "banco = 'PremierLeague'\n",
    "\n",
    "url = 'https://www.worldfootball.net/schedule/eng-premier-league-2017-2018-spieltag/'\n",
    "\n",
    "#Carrega Tabela de Classificacao\n",
    "for rodada in range(1,39):\n",
    "    #concatena a url com o numero da rodada\n",
    "    link = url + str(rodada) + '/'\n",
    "    #carrega tabela no Mongodb\n",
    "    Carrega_table(link,rodada,banco)\n",
    "    \n",
    "#Carrega Partidas\n",
    "\n",
    "url = 'https://www.worldfootball.net/schedule/eng-premier-league-2017-2018-spieltag/'\n",
    "    \n",
    "for rodada in range(1,39):\n",
    "    #concatena a url com o numero da rodada\n",
    "    link = url + str(rodada) + '/'\n",
    "    #carrega tabela no Mongodb\n",
    "    Carrega_placar(link,rodada,banco)\n",
    "\n",
    "#CArrega Artilharia e Assistencia\n",
    "url = 'https://www.worldfootball.net/scorer/eng-premier-league-2017-2018/'\n",
    "\n",
    "Carrega_art_ass(url,38,banco)\n",
    "    \n"
   ]
  },
  {
   "cell_type": "code",
   "execution_count": 3,
   "metadata": {},
   "outputs": [
    {
     "name": "stdout",
     "output_type": "stream",
     "text": [
      "<pymongo.results.InsertManyResult object at 0x7fdf5f5cf8c8>\n",
      "<pymongo.results.InsertManyResult object at 0x7fdf5cfbd488>\n",
      "<pymongo.results.InsertManyResult object at 0x7fdf5eaedb48>\n",
      "<pymongo.results.InsertManyResult object at 0x7fdf5d37da88>\n",
      "<pymongo.results.InsertManyResult object at 0x7fdf5d7e7908>\n",
      "<pymongo.results.InsertManyResult object at 0x7fdf5d3500c8>\n",
      "<pymongo.results.InsertManyResult object at 0x7fdf5d82f408>\n",
      "<pymongo.results.InsertManyResult object at 0x7fdf5d810a48>\n",
      "<pymongo.results.InsertManyResult object at 0x7fdf5cc8a148>\n",
      "<pymongo.results.InsertManyResult object at 0x7fdf5d380348>\n",
      "<pymongo.results.InsertManyResult object at 0x7fdf5d3dda08>\n",
      "<pymongo.results.InsertManyResult object at 0x7fdf5d57c108>\n",
      "<pymongo.results.InsertManyResult object at 0x7fdf5cc507c8>\n",
      "<pymongo.results.InsertManyResult object at 0x7fdf5cf6c088>\n",
      "<pymongo.results.InsertManyResult object at 0x7fdf5d8f6588>\n",
      "<pymongo.results.InsertManyResult object at 0x7fdf5d61ad88>\n",
      "<pymongo.results.InsertManyResult object at 0x7fdf5d0c6348>\n",
      "<pymongo.results.InsertManyResult object at 0x7fdf5cc2ca08>\n",
      "<pymongo.results.InsertManyResult object at 0x7fdf5d0fee08>\n",
      "<pymongo.results.InsertManyResult object at 0x7fdf5d35ba48>\n",
      "<pymongo.results.InsertManyResult object at 0x7fdf5d7b5148>\n",
      "<pymongo.results.InsertManyResult object at 0x7fdf5cffe808>\n",
      "<pymongo.results.InsertManyResult object at 0x7fdf5f5cfd08>\n",
      "<pymongo.results.InsertManyResult object at 0x7fdf5ccac588>\n",
      "<pymongo.results.InsertManyResult object at 0x7fdf5d665d88>\n",
      "<pymongo.results.InsertManyResult object at 0x7fdf5d571308>\n",
      "<pymongo.results.InsertManyResult object at 0x7fdf5d2609c8>\n",
      "<pymongo.results.InsertManyResult object at 0x7fdf5d7880c8>\n",
      "<pymongo.results.InsertManyResult object at 0x7fdf5d22aac8>\n",
      "<pymongo.results.InsertManyResult object at 0x7fdf5d82f108>\n",
      "<pymongo.results.InsertManyResult object at 0x7fdf5d8039c8>\n",
      "<pymongo.results.InsertManyResult object at 0x7fdf5d6a90c8>\n",
      "<pymongo.results.InsertManyResult object at 0x7fdf5cdc1788>\n",
      "<pymongo.results.InsertManyResult object at 0x7fdf5cabd0c8>\n",
      "<pymongo.results.InsertManyResult object at 0x7fdf5d6773c8>\n"
     ]
    }
   ],
   "source": [
    "########### Bundesliga ###########\n",
    "\n",
    "\n",
    "banco = 'Bundesliga'\n",
    "\n",
    "url = 'https://www.worldfootball.net/schedule/bundesliga-2017-2018-spieltag/'\n",
    "\n",
    "#Carrega Tabela de Classificacao\n",
    "for rodada in range(1,35):\n",
    "    #concatena a url com o numero da rodada\n",
    "    link = url + str(rodada) + '/'\n",
    "    #carrega tabela no Mongodb\n",
    "    Carrega_table(link,rodada,banco)\n",
    "    \n",
    "#Carrega Partidas\n",
    "\n",
    "url= 'https://www.worldfootball.net/schedule/bundesliga-2017-2018-spieltag/34/'\n",
    "    \n",
    "for rodada in range(1,35):\n",
    "    #concatena a url com o numero da rodada\n",
    "    link = url + str(rodada) + '/'\n",
    "    #carrega tabela no Mongodb\n",
    "    Carrega_placar(link,rodada,banco)\n",
    "\n",
    "#CArrega Artilharia e Assistencia\n",
    "url = 'https://www.worldfootball.net/scorer/bundesliga-2017-2018/'\n",
    "\n",
    "Carrega_art_ass(url,38,banco)\n",
    "    \n"
   ]
  },
  {
   "cell_type": "code",
   "execution_count": 7,
   "metadata": {},
   "outputs": [
    {
     "name": "stdout",
     "output_type": "stream",
     "text": [
      "<pymongo.results.InsertManyResult object at 0x7fdf5cccdd08>\n",
      "<pymongo.results.InsertManyResult object at 0x7fdf5ea33a88>\n",
      "<pymongo.results.InsertManyResult object at 0x7fdf5cdb5988>\n",
      "<pymongo.results.InsertManyResult object at 0x7fdf5d5abbc8>\n",
      "<pymongo.results.InsertManyResult object at 0x7fdf5ead5ac8>\n",
      "<pymongo.results.InsertManyResult object at 0x7fdf5ce7a688>\n",
      "<pymongo.results.InsertManyResult object at 0x7fdf5d54d148>\n",
      "<pymongo.results.InsertManyResult object at 0x7fdf5c98a448>\n",
      "<pymongo.results.InsertManyResult object at 0x7fdf5d045b48>\n",
      "<pymongo.results.InsertManyResult object at 0x7fdf5ce54708>\n",
      "<pymongo.results.InsertManyResult object at 0x7fdf5c97c0c8>\n",
      "<pymongo.results.InsertManyResult object at 0x7fdf5cddec88>\n",
      "<pymongo.results.InsertManyResult object at 0x7fdf5d824b08>\n",
      "<pymongo.results.InsertManyResult object at 0x7fdf5ce53a08>\n",
      "<pymongo.results.InsertManyResult object at 0x7fdf5cabb908>\n",
      "<pymongo.results.InsertManyResult object at 0x7fdf5ced1808>\n",
      "<pymongo.results.InsertManyResult object at 0x7fdf5d8cba48>\n",
      "<pymongo.results.InsertManyResult object at 0x7fdf5c903608>\n",
      "<pymongo.results.InsertManyResult object at 0x7fdf5ce4fa48>\n",
      "<pymongo.results.InsertManyResult object at 0x7fdf5d7c93c8>\n",
      "<pymongo.results.InsertManyResult object at 0x7fdf5d226608>\n",
      "<pymongo.results.InsertManyResult object at 0x7fdf5ea453c8>\n",
      "<pymongo.results.InsertManyResult object at 0x7fdf5cdbcd08>\n",
      "<pymongo.results.InsertManyResult object at 0x7fdf5ce71ac8>\n",
      "<pymongo.results.InsertManyResult object at 0x7fdf5d0539c8>\n",
      "<pymongo.results.InsertManyResult object at 0x7fdf5ce9b8c8>\n",
      "<pymongo.results.InsertManyResult object at 0x7fdf5d10e7c8>\n",
      "<pymongo.results.InsertManyResult object at 0x7fdf5d709988>\n",
      "<pymongo.results.InsertManyResult object at 0x7fdf5c8115c8>\n",
      "<pymongo.results.InsertManyResult object at 0x7fdf5d1fc4c8>\n",
      "<pymongo.results.InsertManyResult object at 0x7fdf5d8ff3c8>\n",
      "<pymongo.results.InsertManyResult object at 0x7fdf5d21f2c8>\n",
      "<pymongo.results.InsertManyResult object at 0x7fdf6254fe08>\n",
      "<pymongo.results.InsertManyResult object at 0x7fdf5c779c48>\n",
      "<pymongo.results.InsertManyResult object at 0x7fdf5d6a2a88>\n",
      "<pymongo.results.InsertManyResult object at 0x7fdf5d23e948>\n",
      "<pymongo.results.InsertManyResult object at 0x7fdf5ce69b48>\n",
      "<pymongo.results.InsertManyResult object at 0x7fdf5cc3e948>\n",
      "<pymongo.results.InsertManyResult object at 0x7fdf5d060bc8>\n"
     ]
    }
   ],
   "source": [
    "########### Laliga ###########\n",
    "\n",
    "\n",
    "banco = 'Laliga'\n",
    "\n",
    "url = 'https://www.worldfootball.net/schedule/esp-primera-division-2017-2018-spieltag/'\n",
    "\n",
    "#Carrega Tabela de Classificacao\n",
    "for rodada in range(1,39):\n",
    "    #concatena a url com o numero da rodada\n",
    "    link = url + str(rodada) + '/'\n",
    "    #carrega tabela no Mongodb\n",
    "    Carrega_table(link,rodada,banco)\n",
    "    \n",
    "#Carrega Partidas\n",
    "\n",
    "url = 'https://www.worldfootball.net/schedule/esp-primera-division-2017-2018-spieltag/'\n",
    "    \n",
    "for rodada in range(1,39):\n",
    "    #concatena a url com o numero da rodada\n",
    "    link = url + str(rodada) + '/'\n",
    "    #carrega tabela no Mongodb\n",
    "    Carrega_placar(link,rodada,banco)\n",
    "\n",
    "#Carrega Artilharia e Assistencia\n",
    "url = 'https://www.worldfootball.net/scorer/esp-primera-division-2017-2018/'\n",
    "\n",
    "Carrega_art_ass(url,38,banco)\n",
    "    \n"
   ]
  },
  {
   "cell_type": "code",
   "execution_count": 8,
   "metadata": {},
   "outputs": [
    {
     "name": "stdout",
     "output_type": "stream",
     "text": [
      "<pymongo.results.InsertManyResult object at 0x7fdf5d80a3c8>\n",
      "<pymongo.results.InsertManyResult object at 0x7fdf5d45dd88>\n",
      "<pymongo.results.InsertManyResult object at 0x7fdf5cd4c948>\n",
      "<pymongo.results.InsertManyResult object at 0x7fdf5d2da048>\n",
      "<pymongo.results.InsertManyResult object at 0x7fdf5c807708>\n",
      "<pymongo.results.InsertManyResult object at 0x7fdf5cf8b988>\n",
      "<pymongo.results.InsertManyResult object at 0x7fdf5cfd9488>\n",
      "<pymongo.results.InsertManyResult object at 0x7fdf5d4c7948>\n",
      "<pymongo.results.InsertManyResult object at 0x7fdf5cf8c0c8>\n",
      "<pymongo.results.InsertManyResult object at 0x7fdf5d540388>\n",
      "<pymongo.results.InsertManyResult object at 0x7fdf5ea57908>\n",
      "<pymongo.results.InsertManyResult object at 0x7fdf5c8b0508>\n",
      "<pymongo.results.InsertManyResult object at 0x7fdf5ea57b48>\n",
      "<pymongo.results.InsertManyResult object at 0x7fdf5d12b088>\n",
      "<pymongo.results.InsertManyResult object at 0x7fdf5d623608>\n",
      "<pymongo.results.InsertManyResult object at 0x7fdf5ce10088>\n",
      "<pymongo.results.InsertManyResult object at 0x7fdf5d1893c8>\n",
      "<pymongo.results.InsertManyResult object at 0x7fdf5d24da88>\n",
      "<pymongo.results.InsertManyResult object at 0x7fdf5d008788>\n",
      "<pymongo.results.InsertManyResult object at 0x7fdf5d4c1388>\n",
      "<pymongo.results.InsertManyResult object at 0x7fdf5d6a43c8>\n",
      "<pymongo.results.InsertManyResult object at 0x7fdf5d033ec8>\n",
      "<pymongo.results.InsertManyResult object at 0x7fdf5d914148>\n",
      "<pymongo.results.InsertManyResult object at 0x7fdf5ce2e808>\n",
      "<pymongo.results.InsertManyResult object at 0x7fdf5d7f1088>\n",
      "<pymongo.results.InsertManyResult object at 0x7fdf5cc935c8>\n",
      "<pymongo.results.InsertManyResult object at 0x7fdf5ea57988>\n",
      "<pymongo.results.InsertManyResult object at 0x7fdf5c9e6348>\n",
      "<pymongo.results.InsertManyResult object at 0x7fdf5d88fa08>\n",
      "<pymongo.results.InsertManyResult object at 0x7fdf5cb3a108>\n",
      "<pymongo.results.InsertManyResult object at 0x7fdf6254d208>\n",
      "<pymongo.results.InsertManyResult object at 0x7fdf5cb7fd88>\n",
      "<pymongo.results.InsertManyResult object at 0x7fdf5d776348>\n",
      "<pymongo.results.InsertManyResult object at 0x7fdf5d937a08>\n",
      "<pymongo.results.InsertManyResult object at 0x7fdf5d645108>\n",
      "<pymongo.results.InsertManyResult object at 0x7fdf5ea0a7c8>\n",
      "<pymongo.results.InsertManyResult object at 0x7fdf5d0dd088>\n",
      "<pymongo.results.InsertManyResult object at 0x7fdf5d5f6c88>\n",
      "<pymongo.results.InsertManyResult object at 0x7fdf5ea21748>\n"
     ]
    }
   ],
   "source": [
    "########### SerieA ###########\n",
    "\n",
    "\n",
    "banco = 'SerieA'\n",
    "\n",
    "url = 'https://www.worldfootball.net/schedule/ita-serie-a-2017-2018-spieltag/'\n",
    "\n",
    "#Carrega Tabela de Classificacao\n",
    "for rodada in range(1,39):\n",
    "    #concatena a url com o numero da rodada\n",
    "    link = url + str(rodada) + '/'\n",
    "    #carrega tabela no Mongodb\n",
    "    Carrega_table(link,rodada,banco)\n",
    "    \n",
    "#Carrega Partidas\n",
    "\n",
    "url = 'https://www.worldfootball.net/schedule/ita-serie-a-2017-2018-spieltag/'\n",
    "   \n",
    "for rodada in range(1,39):\n",
    "    #concatena a url com o numero da rodada\n",
    "    link = url + str(rodada) + '/'\n",
    "    #carrega tabela no Mongodb\n",
    "    Carrega_placar(link,rodada,banco)\n",
    "\n",
    "#Carrega Artilharia e Assistencia\n",
    "url = 'https://www.worldfootball.net/scorer/ita-serie-a-2017-2018/'\n",
    "\n",
    "Carrega_art_ass(url,38,banco)\n",
    "    \n"
   ]
  },
  {
   "cell_type": "code",
   "execution_count": 7,
   "metadata": {},
   "outputs": [],
   "source": [
    "from pymongo import MongoClient "
   ]
  },
  {
   "cell_type": "code",
   "execution_count": 8,
   "metadata": {},
   "outputs": [],
   "source": [
    "conn = MongoClient('localhost',27017)"
   ]
  },
  {
   "cell_type": "code",
   "execution_count": 33,
   "metadata": {},
   "outputs": [
    {
     "data": {
      "text/plain": [
       "['Bundesliga', 'Laliga', 'PremierLeague', 'SerieA', 'admin', 'local']"
      ]
     },
     "execution_count": 33,
     "metadata": {},
     "output_type": "execute_result"
    }
   ],
   "source": [
    "#lista database\n",
    "conn.list_database_names()"
   ]
  },
  {
   "cell_type": "code",
   "execution_count": 30,
   "metadata": {},
   "outputs": [],
   "source": [
    "#CriacaConexao do Banco\n",
    "db = conn.PremierLeague"
   ]
  },
  {
   "cell_type": "code",
   "execution_count": 31,
   "metadata": {},
   "outputs": [
    {
     "data": {
      "text/plain": [
       "['PremierLeague_Table', 'Rodadas', 'score', 'Rank']"
      ]
     },
     "execution_count": 31,
     "metadata": {},
     "output_type": "execute_result"
    }
   ],
   "source": [
    "#lista as collections\n",
    "db.list_collection_names()"
   ]
  },
  {
   "cell_type": "code",
   "execution_count": 27,
   "metadata": {},
   "outputs": [],
   "source": [
    "Premier_collection = db['score']"
   ]
  },
  {
   "cell_type": "code",
   "execution_count": 28,
   "metadata": {},
   "outputs": [
    {
     "data": {
      "text/plain": [
       "307"
      ]
     },
     "execution_count": 28,
     "metadata": {},
     "output_type": "execute_result"
    }
   ],
   "source": [
    "#Lista documentos\n",
    "Premier_collection.estimated_document_count()"
   ]
  },
  {
   "cell_type": "code",
   "execution_count": 11,
   "metadata": {},
   "outputs": [],
   "source": [
    "#lista os valores\n",
    "#for rodadas in Premier_collection.find({'Rodada':{\"$gte\":'1'}}):\n",
    "for rodadas in Premier_collection.find({'Rodada':1}):\n",
    "    print(rodadas)"
   ]
  },
  {
   "cell_type": "code",
   "execution_count": 11,
   "metadata": {},
   "outputs": [
    {
     "name": "stdout",
     "output_type": "stream",
     "text": [
      "nok\n"
     ]
    }
   ],
   "source": [
    "ro='1'\n",
    "if Premier_collection.find_one({'Rodada': ro}):\n",
    "    print('ok')\n",
    "else:\n",
    "    print('nok')\n",
    "    \n",
    "    "
   ]
  },
  {
   "cell_type": "code",
   "execution_count": 9,
   "metadata": {},
   "outputs": [
    {
     "data": {
      "text/plain": [
       "<pymongo.results.DeleteResult at 0x7ff30e907e08>"
      ]
     },
     "execution_count": 9,
     "metadata": {},
     "output_type": "execute_result"
    }
   ],
   "source": [
    "#remove todos os documentos\n",
    "Premier_collection.delete_many({})"
   ]
  },
  {
   "cell_type": "code",
   "execution_count": 29,
   "metadata": {},
   "outputs": [
    {
     "data": {
      "text/plain": [
       "{'': '',\n",
       " 'Country': 'Poland',\n",
       " 'Player': 'Robert Lewandowski',\n",
       " 'Rodada': 8,\n",
       " 'Team': 'Bayern München',\n",
       " '_id': ObjectId('5bd5016581a0d51c5c2cc76c'),\n",
       " 'ass': '4',\n",
       " 'gols': '29',\n",
       " 'points': ['33(29', '4)'],\n",
       " 'rank': '1.'}"
      ]
     },
     "execution_count": 29,
     "metadata": {},
     "output_type": "execute_result"
    }
   ],
   "source": [
    "Premier_collection.find_one()"
   ]
  },
  {
   "cell_type": "code",
   "execution_count": 32,
   "metadata": {},
   "outputs": [
    {
     "data": {
      "text/plain": [
       "{'nIndexesWas': 1, 'ns': 'PremierLeague.PremierLeague_Table', 'ok': 1.0}"
      ]
     },
     "execution_count": 32,
     "metadata": {},
     "output_type": "execute_result"
    }
   ],
   "source": [
    "#Remove database\n",
    "db.drop_collection('PremierLeague_Table')"
   ]
  },
  {
   "cell_type": "code",
   "execution_count": 28,
   "metadata": {},
   "outputs": [],
   "source": [
    "conn.drop_database('Bundelisga')"
   ]
  },
  {
   "cell_type": "code",
   "execution_count": null,
   "metadata": {},
   "outputs": [],
   "source": []
  }
 ],
 "metadata": {
  "kernelspec": {
   "display_name": "Python 3",
   "language": "python",
   "name": "python3"
  },
  "language_info": {
   "codemirror_mode": {
    "name": "ipython",
    "version": 3
   },
   "file_extension": ".py",
   "mimetype": "text/x-python",
   "name": "python",
   "nbconvert_exporter": "python",
   "pygments_lexer": "ipython3",
   "version": "3.6.3"
  }
 },
 "nbformat": 4,
 "nbformat_minor": 2
}
